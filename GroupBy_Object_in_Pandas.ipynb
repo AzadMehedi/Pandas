{
  "nbformat": 4,
  "nbformat_minor": 0,
  "metadata": {
    "colab": {
      "provenance": [],
      "authorship_tag": "ABX9TyOGzvfsBrfctUZs418cF7kh",
      "include_colab_link": true
    },
    "kernelspec": {
      "name": "python3",
      "display_name": "Python 3"
    },
    "language_info": {
      "name": "python"
    }
  },
  "cells": [
    {
      "cell_type": "markdown",
      "metadata": {
        "id": "view-in-github",
        "colab_type": "text"
      },
      "source": [
        "<a href=\"https://colab.research.google.com/github/AzadMehedi/Pandas/blob/main/GroupBy_Object_in_Pandas.ipynb\" target=\"_parent\"><img src=\"https://colab.research.google.com/assets/colab-badge.svg\" alt=\"Open In Colab\"/></a>"
      ]
    },
    {
      "cell_type": "code",
      "execution_count": 1,
      "metadata": {
        "id": "VwlgbwvP7KA-"
      },
      "outputs": [],
      "source": [
        "import pandas as pd\n",
        "import numpy as np"
      ]
    },
    {
      "cell_type": "code",
      "source": [
        "movies = pd.read_csv('/content/movies.csv')\n",
        "ipl = pd.read_csv('/content/ipl-matches.csv')"
      ],
      "metadata": {
        "id": "nHCJxcyO7uwg"
      },
      "execution_count": 2,
      "outputs": []
    },
    {
      "cell_type": "markdown",
      "source": [
        "### `groupby()` function actually works with categorical data"
      ],
      "metadata": {
        "id": "IqRpZTCX_kxr"
      }
    },
    {
      "cell_type": "code",
      "source": [],
      "metadata": {
        "id": "Ee8Ew9rG_U-G"
      },
      "execution_count": null,
      "outputs": []
    }
  ]
}