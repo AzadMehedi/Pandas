{
  "nbformat": 4,
  "nbformat_minor": 0,
  "metadata": {
    "colab": {
      "provenance": [],
      "authorship_tag": "ABX9TyO17Q7PG6bcle64hzH+7bqx",
      "include_colab_link": true
    },
    "kernelspec": {
      "name": "python3",
      "display_name": "Python 3"
    },
    "language_info": {
      "name": "python"
    }
  },
  "cells": [
    {
      "cell_type": "markdown",
      "metadata": {
        "id": "view-in-github",
        "colab_type": "text"
      },
      "source": [
        "<a href=\"https://colab.research.google.com/github/AzadMehedi/Pandas/blob/main/Pandas_Series.ipynb\" target=\"_parent\"><img src=\"https://colab.research.google.com/assets/colab-badge.svg\" alt=\"Open In Colab\"/></a>"
      ]
    },
    {
      "cell_type": "markdown",
      "source": [
        "# What is Pandas\n",
        "\n",
        "Pandas is a fast, powerful, flexible and easy to use open source data analysis and manipulation tool,\n",
        "built on top of the Python programming language.\n",
        "\n",
        "https://pandas.pydata.org/about/index.html"
      ],
      "metadata": {
        "id": "Tz9Nj03jy0KY"
      }
    },
    {
      "cell_type": "markdown",
      "source": [
        "# Pandas Series\n",
        "A Pandas Series is like a column in a table. It is a 1-D array holding data of any type."
      ],
      "metadata": {
        "id": "gLG7IyGxy0OB"
      }
    },
    {
      "cell_type": "code",
      "execution_count": 1,
      "metadata": {
        "id": "MIElmfDuyx7t"
      },
      "outputs": [],
      "source": [
        "import pandas as pd\n",
        "import numpy as np"
      ]
    },
    {
      "cell_type": "code",
      "source": [
        "country = ['Bangladesh', 'India', 'Pakistan','Nepal','Srilanka']\n",
        "pd.Series(country)"
      ],
      "metadata": {
        "colab": {
          "base_uri": "https://localhost:8080/"
        },
        "id": "j0qEXHJZ3Ph8",
        "outputId": "7bade320-0e65-48f5-a500-c47db0a5bd09"
      },
      "execution_count": 2,
      "outputs": [
        {
          "output_type": "execute_result",
          "data": {
            "text/plain": [
              "0    Bangladesh\n",
              "1         India\n",
              "2      Pakistan\n",
              "3         Nepal\n",
              "4      Srilanka\n",
              "dtype: object"
            ]
          },
          "metadata": {},
          "execution_count": 2
        }
      ]
    },
    {
      "cell_type": "code",
      "source": [
        "# integers\n",
        "runs = [32,43,12,57,100]\n",
        "run_series = pd.Series(runs)\n",
        "run_series"
      ],
      "metadata": {
        "colab": {
          "base_uri": "https://localhost:8080/"
        },
        "id": "BUcT85FG3PnT",
        "outputId": "8ee66433-d4b5-4d18-fb46-d71efd098b9e"
      },
      "execution_count": 19,
      "outputs": [
        {
          "output_type": "execute_result",
          "data": {
            "text/plain": [
              "0     32\n",
              "1     43\n",
              "2     12\n",
              "3     57\n",
              "4    100\n",
              "dtype: int64"
            ]
          },
          "metadata": {},
          "execution_count": 19
        }
      ]
    },
    {
      "cell_type": "code",
      "source": [
        "from re import sub\n",
        "# custom index\n",
        "marks = [43,64,85,75,100]\n",
        "subjects = ['math','eng','science','politics','social']\n",
        "pd.Series(marks, index=subjects)"
      ],
      "metadata": {
        "colab": {
          "base_uri": "https://localhost:8080/"
        },
        "id": "jYMmtAcQ4MvK",
        "outputId": "ea785959-4d25-425b-d5a7-aab2fac7f10a"
      },
      "execution_count": 6,
      "outputs": [
        {
          "output_type": "execute_result",
          "data": {
            "text/plain": [
              "math         43\n",
              "eng          64\n",
              "science      85\n",
              "politics     75\n",
              "social      100\n",
              "dtype: int64"
            ]
          },
          "metadata": {},
          "execution_count": 6
        }
      ]
    },
    {
      "cell_type": "code",
      "source": [
        "# setting a name\n",
        "pd.Series(marks, index=subjects, name='Mehedi Azad marks')"
      ],
      "metadata": {
        "colab": {
          "base_uri": "https://localhost:8080/"
        },
        "id": "3ko_74G24Mye",
        "outputId": "e1097dad-d06c-4026-97d8-0861fe194338"
      },
      "execution_count": 7,
      "outputs": [
        {
          "output_type": "execute_result",
          "data": {
            "text/plain": [
              "math         43\n",
              "eng          64\n",
              "science      85\n",
              "politics     75\n",
              "social      100\n",
              "Name: Mehedi Azad marks, dtype: int64"
            ]
          },
          "metadata": {},
          "execution_count": 7
        }
      ]
    },
    {
      "cell_type": "markdown",
      "source": [
        "# Series from dictionary"
      ],
      "metadata": {
        "id": "nDacH0aM58Pe"
      }
    },
    {
      "cell_type": "code",
      "source": [
        "marks = {\n",
        "    'math':78,\n",
        "    'english':89,\n",
        "    'Science':57,\n",
        "    'Bangla':90\n",
        "\n",
        "}"
      ],
      "metadata": {
        "id": "ZdNmK8cN4M2Z"
      },
      "execution_count": 8,
      "outputs": []
    },
    {
      "cell_type": "code",
      "source": [
        "mark_series = pd.Series(marks, name='Mehedi mark')       # here mark_series is an object of Series class\n",
        "                                                         # mark_series can access all the attributes of the Series class\n",
        "mark_series"
      ],
      "metadata": {
        "colab": {
          "base_uri": "https://localhost:8080/"
        },
        "id": "b7yrkWqH4M5_",
        "outputId": "cacbb65c-0624-424f-bb32-1ad88b9cebf4"
      },
      "execution_count": 12,
      "outputs": [
        {
          "output_type": "execute_result",
          "data": {
            "text/plain": [
              "math       78\n",
              "english    89\n",
              "Science    57\n",
              "Bangla     90\n",
              "Name: Mehedi mark, dtype: int64"
            ]
          },
          "metadata": {},
          "execution_count": 12
        }
      ]
    },
    {
      "cell_type": "markdown",
      "source": [
        "# Series Attributes"
      ],
      "metadata": {
        "id": "AXjEegxH6gMJ"
      }
    },
    {
      "cell_type": "code",
      "source": [
        "# size\n",
        "mark_series.size"
      ],
      "metadata": {
        "colab": {
          "base_uri": "https://localhost:8080/"
        },
        "id": "TdY77n8O4M8t",
        "outputId": "732d350b-0dbb-43cf-ea3c-5789a8da55da"
      },
      "execution_count": 13,
      "outputs": [
        {
          "output_type": "execute_result",
          "data": {
            "text/plain": [
              "4"
            ]
          },
          "metadata": {},
          "execution_count": 13
        }
      ]
    },
    {
      "cell_type": "code",
      "source": [
        "# dtype\n",
        "mark_series.dtype"
      ],
      "metadata": {
        "colab": {
          "base_uri": "https://localhost:8080/"
        },
        "id": "fp1yzOFF4M_l",
        "outputId": "84788cf8-a358-41bf-81f0-0bcff9826cc6"
      },
      "execution_count": 14,
      "outputs": [
        {
          "output_type": "execute_result",
          "data": {
            "text/plain": [
              "dtype('int64')"
            ]
          },
          "metadata": {},
          "execution_count": 14
        }
      ]
    },
    {
      "cell_type": "code",
      "source": [
        "# name\n",
        "mark_series.name"
      ],
      "metadata": {
        "colab": {
          "base_uri": "https://localhost:8080/",
          "height": 35
        },
        "id": "LU0dNM0a7Iop",
        "outputId": "58516b78-e657-434f-e228-ad303d9371f6"
      },
      "execution_count": 16,
      "outputs": [
        {
          "output_type": "execute_result",
          "data": {
            "text/plain": [
              "'Mehedi mark'"
            ],
            "application/vnd.google.colaboratory.intrinsic+json": {
              "type": "string"
            }
          },
          "metadata": {},
          "execution_count": 16
        }
      ]
    },
    {
      "cell_type": "code",
      "source": [
        "# is_unique\n",
        "mark_series.is_unique\n",
        "\n",
        "# pd.Series([1,1,2,3,5,5,4,3]).is_unique"
      ],
      "metadata": {
        "colab": {
          "base_uri": "https://localhost:8080/"
        },
        "id": "pp1Y4QLi4NCf",
        "outputId": "8c7c16ac-0847-4222-8c38-f74d0cafe615"
      },
      "execution_count": 17,
      "outputs": [
        {
          "output_type": "execute_result",
          "data": {
            "text/plain": [
              "False"
            ]
          },
          "metadata": {},
          "execution_count": 17
        }
      ]
    },
    {
      "cell_type": "code",
      "source": [
        "# index\n",
        "print(mark_series.index)\n",
        "\n",
        "run_series.index"
      ],
      "metadata": {
        "colab": {
          "base_uri": "https://localhost:8080/"
        },
        "id": "rfWN0sKd4NFx",
        "outputId": "505fd678-f79d-4dd7-8615-bf18616df4c6"
      },
      "execution_count": 21,
      "outputs": [
        {
          "output_type": "stream",
          "name": "stdout",
          "text": [
            "Index(['math', 'english', 'Science', 'Bangla'], dtype='object')\n"
          ]
        },
        {
          "output_type": "execute_result",
          "data": {
            "text/plain": [
              "RangeIndex(start=0, stop=5, step=1)"
            ]
          },
          "metadata": {},
          "execution_count": 21
        }
      ]
    },
    {
      "cell_type": "code",
      "source": [],
      "metadata": {
        "id": "fDvTSfhy4NJc"
      },
      "execution_count": null,
      "outputs": []
    }
  ]
}