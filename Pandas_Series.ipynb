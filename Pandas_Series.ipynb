{
  "nbformat": 4,
  "nbformat_minor": 0,
  "metadata": {
    "colab": {
      "provenance": [],
      "authorship_tag": "ABX9TyOHeOECEp13jTMg5yskx3YN",
      "include_colab_link": true
    },
    "kernelspec": {
      "name": "python3",
      "display_name": "Python 3"
    },
    "language_info": {
      "name": "python"
    }
  },
  "cells": [
    {
      "cell_type": "markdown",
      "metadata": {
        "id": "view-in-github",
        "colab_type": "text"
      },
      "source": [
        "<a href=\"https://colab.research.google.com/github/AzadMehedi/Pandas/blob/main/Pandas_Series.ipynb\" target=\"_parent\"><img src=\"https://colab.research.google.com/assets/colab-badge.svg\" alt=\"Open In Colab\"/></a>"
      ]
    },
    {
      "cell_type": "markdown",
      "source": [
        "# What is Pandas\n",
        "\n",
        "Pandas is a fast, powerful, flexible and easy to use open source data analysis and manipulation tool,\n",
        "built on top of the Python programming language.\n",
        "\n",
        "https://pandas.pydata.org/about/index.html"
      ],
      "metadata": {
        "id": "Tz9Nj03jy0KY"
      }
    },
    {
      "cell_type": "markdown",
      "source": [
        "# Pandas Series\n",
        "A Pandas Series is like a column in a table. It is a 1-D array holding data of any type."
      ],
      "metadata": {
        "id": "gLG7IyGxy0OB"
      }
    },
    {
      "cell_type": "code",
      "execution_count": 2,
      "metadata": {
        "id": "MIElmfDuyx7t"
      },
      "outputs": [],
      "source": [
        "import pandas as pd\n",
        "import numpy as np"
      ]
    },
    {
      "cell_type": "code",
      "source": [
        "country = ['Bangladesh', 'India', 'Pakistan','Nepal','Srilanka']\n",
        "pd.Series(country)"
      ],
      "metadata": {
        "colab": {
          "base_uri": "https://localhost:8080/"
        },
        "id": "j0qEXHJZ3Ph8",
        "outputId": "7bade320-0e65-48f5-a500-c47db0a5bd09"
      },
      "execution_count": null,
      "outputs": [
        {
          "output_type": "execute_result",
          "data": {
            "text/plain": [
              "0    Bangladesh\n",
              "1         India\n",
              "2      Pakistan\n",
              "3         Nepal\n",
              "4      Srilanka\n",
              "dtype: object"
            ]
          },
          "metadata": {},
          "execution_count": 2
        }
      ]
    },
    {
      "cell_type": "code",
      "source": [
        "# integers\n",
        "runs = [32,43,12,57,100]\n",
        "run_series = pd.Series(runs)\n",
        "run_series"
      ],
      "metadata": {
        "colab": {
          "base_uri": "https://localhost:8080/"
        },
        "id": "BUcT85FG3PnT",
        "outputId": "87945975-cb05-4e89-a6dd-9c23a45b6aff"
      },
      "execution_count": 86,
      "outputs": [
        {
          "output_type": "execute_result",
          "data": {
            "text/plain": [
              "0     32\n",
              "1     43\n",
              "2     12\n",
              "3     57\n",
              "4    100\n",
              "dtype: int64"
            ]
          },
          "metadata": {},
          "execution_count": 86
        }
      ]
    },
    {
      "cell_type": "code",
      "source": [
        "from re import sub\n",
        "# custom index\n",
        "marks = [43,64,85,75,100]\n",
        "subjects = ['math','eng','science','politics','social']\n",
        "pd.Series(marks, index=subjects)"
      ],
      "metadata": {
        "colab": {
          "base_uri": "https://localhost:8080/"
        },
        "id": "jYMmtAcQ4MvK",
        "outputId": "783352c2-032a-455f-dc5b-68d06224f9e2"
      },
      "execution_count": null,
      "outputs": [
        {
          "output_type": "execute_result",
          "data": {
            "text/plain": [
              "math         43\n",
              "eng          64\n",
              "science      85\n",
              "politics     75\n",
              "social      100\n",
              "dtype: int64"
            ]
          },
          "metadata": {},
          "execution_count": 24
        }
      ]
    },
    {
      "cell_type": "code",
      "source": [
        "# setting a name\n",
        "pd.Series(marks, index=subjects, name='Mehedi Azad marks')"
      ],
      "metadata": {
        "colab": {
          "base_uri": "https://localhost:8080/"
        },
        "id": "3ko_74G24Mye",
        "outputId": "8135320c-caa6-4054-fba2-04529416f816"
      },
      "execution_count": null,
      "outputs": [
        {
          "output_type": "execute_result",
          "data": {
            "text/plain": [
              "math         43\n",
              "eng          64\n",
              "science      85\n",
              "politics     75\n",
              "social      100\n",
              "Name: Mehedi Azad marks, dtype: int64"
            ]
          },
          "metadata": {},
          "execution_count": 26
        }
      ]
    },
    {
      "cell_type": "markdown",
      "source": [
        "# Series from dictionary"
      ],
      "metadata": {
        "id": "nDacH0aM58Pe"
      }
    },
    {
      "cell_type": "code",
      "source": [
        "marks = {\n",
        "    'math':78,\n",
        "    'english':89,\n",
        "    'Science':57,\n",
        "    'Bangla':90\n",
        "\n",
        "}"
      ],
      "metadata": {
        "id": "ZdNmK8cN4M2Z"
      },
      "execution_count": 65,
      "outputs": []
    },
    {
      "cell_type": "code",
      "source": [
        "mark_series = pd.Series(marks, name='Mehedi mark')       # here mark_series is an object of Series class\n",
        "                                                         # mark_series can access all the attributes of the Series class\n",
        "mark_series"
      ],
      "metadata": {
        "colab": {
          "base_uri": "https://localhost:8080/"
        },
        "id": "b7yrkWqH4M5_",
        "outputId": "418ab19d-17dc-455e-e22c-246d850cf2f7"
      },
      "execution_count": 66,
      "outputs": [
        {
          "output_type": "execute_result",
          "data": {
            "text/plain": [
              "math       78\n",
              "english    89\n",
              "Science    57\n",
              "Bangla     90\n",
              "Name: Mehedi mark, dtype: int64"
            ]
          },
          "metadata": {},
          "execution_count": 66
        }
      ]
    },
    {
      "cell_type": "markdown",
      "source": [
        "# Series Attributes"
      ],
      "metadata": {
        "id": "AXjEegxH6gMJ"
      }
    },
    {
      "cell_type": "code",
      "source": [
        "# size\n",
        "mark_series.size"
      ],
      "metadata": {
        "colab": {
          "base_uri": "https://localhost:8080/"
        },
        "id": "TdY77n8O4M8t",
        "outputId": "9014f22e-6ee6-4736-83c9-0589fe5ee7fd"
      },
      "execution_count": null,
      "outputs": [
        {
          "output_type": "execute_result",
          "data": {
            "text/plain": [
              "4"
            ]
          },
          "metadata": {},
          "execution_count": 31
        }
      ]
    },
    {
      "cell_type": "code",
      "source": [
        "# dtype\n",
        "mark_series.dtype"
      ],
      "metadata": {
        "colab": {
          "base_uri": "https://localhost:8080/"
        },
        "id": "fp1yzOFF4M_l",
        "outputId": "e04ea1c8-4505-4d51-db32-4e8687ed9815"
      },
      "execution_count": null,
      "outputs": [
        {
          "output_type": "execute_result",
          "data": {
            "text/plain": [
              "dtype('int64')"
            ]
          },
          "metadata": {},
          "execution_count": 32
        }
      ]
    },
    {
      "cell_type": "code",
      "source": [
        "# name\n",
        "mark_series.name"
      ],
      "metadata": {
        "colab": {
          "base_uri": "https://localhost:8080/",
          "height": 35
        },
        "id": "LU0dNM0a7Iop",
        "outputId": "c469dfab-b676-4c46-9f31-3d352660067b"
      },
      "execution_count": null,
      "outputs": [
        {
          "output_type": "execute_result",
          "data": {
            "text/plain": [
              "'Mehedi mark'"
            ],
            "application/vnd.google.colaboratory.intrinsic+json": {
              "type": "string"
            }
          },
          "metadata": {},
          "execution_count": 33
        }
      ]
    },
    {
      "cell_type": "code",
      "source": [
        "# is_unique\n",
        "mark_series.is_unique\n",
        "\n",
        "# pd.Series([1,1,2,3,5,5,4,3]).is_unique"
      ],
      "metadata": {
        "colab": {
          "base_uri": "https://localhost:8080/"
        },
        "id": "pp1Y4QLi4NCf",
        "outputId": "a4156534-2648-4ae6-c060-c59284562e21"
      },
      "execution_count": null,
      "outputs": [
        {
          "output_type": "execute_result",
          "data": {
            "text/plain": [
              "True"
            ]
          },
          "metadata": {},
          "execution_count": 34
        }
      ]
    },
    {
      "cell_type": "code",
      "source": [
        "# index\n",
        "print(mark_series.index)\n",
        "\n",
        "run_series.index"
      ],
      "metadata": {
        "colab": {
          "base_uri": "https://localhost:8080/"
        },
        "id": "rfWN0sKd4NFx",
        "outputId": "c0357220-2be5-4994-c2f7-a5deaa0d43d6"
      },
      "execution_count": null,
      "outputs": [
        {
          "output_type": "stream",
          "name": "stdout",
          "text": [
            "Index(['math', 'english', 'Science', 'Bangla'], dtype='object')\n"
          ]
        },
        {
          "output_type": "execute_result",
          "data": {
            "text/plain": [
              "RangeIndex(start=0, stop=5, step=1)"
            ]
          },
          "metadata": {},
          "execution_count": 35
        }
      ]
    },
    {
      "cell_type": "code",
      "source": [
        "# values\n",
        "mark_series.values"
      ],
      "metadata": {
        "colab": {
          "base_uri": "https://localhost:8080/"
        },
        "id": "fDvTSfhy4NJc",
        "outputId": "a002f401-de47-4b91-ca33-eaa21b64a529"
      },
      "execution_count": null,
      "outputs": [
        {
          "output_type": "execute_result",
          "data": {
            "text/plain": [
              "array([78, 89, 57, 90])"
            ]
          },
          "metadata": {},
          "execution_count": 37
        }
      ]
    },
    {
      "cell_type": "markdown",
      "source": [
        "# Series using read_csv"
      ],
      "metadata": {
        "id": "_rIS7tNZPx2K"
      }
    },
    {
      "cell_type": "code",
      "source": [
        "# with one col\n",
        "import pandas as pd\n",
        "pd.read_csv('/content/subs.csv')\n",
        "# type(pd.read_csv('/content/subs.csv'))"
      ],
      "metadata": {
        "colab": {
          "base_uri": "https://localhost:8080/",
          "height": 423
        },
        "id": "L6DIWGJqO7Rd",
        "outputId": "927c7e21-960c-440f-c3c7-26a242fd8caf"
      },
      "execution_count": 5,
      "outputs": [
        {
          "output_type": "execute_result",
          "data": {
            "text/plain": [
              "     Subscribers gained\n",
              "0                    48\n",
              "1                    57\n",
              "2                    40\n",
              "3                    43\n",
              "4                    44\n",
              "..                  ...\n",
              "360                 231\n",
              "361                 226\n",
              "362                 155\n",
              "363                 144\n",
              "364                 172\n",
              "\n",
              "[365 rows x 1 columns]"
            ],
            "text/html": [
              "\n",
              "  <div id=\"df-266b3e30-98b4-4981-a2b3-e054b97f2e10\">\n",
              "    <div class=\"colab-df-container\">\n",
              "      <div>\n",
              "<style scoped>\n",
              "    .dataframe tbody tr th:only-of-type {\n",
              "        vertical-align: middle;\n",
              "    }\n",
              "\n",
              "    .dataframe tbody tr th {\n",
              "        vertical-align: top;\n",
              "    }\n",
              "\n",
              "    .dataframe thead th {\n",
              "        text-align: right;\n",
              "    }\n",
              "</style>\n",
              "<table border=\"1\" class=\"dataframe\">\n",
              "  <thead>\n",
              "    <tr style=\"text-align: right;\">\n",
              "      <th></th>\n",
              "      <th>Subscribers gained</th>\n",
              "    </tr>\n",
              "  </thead>\n",
              "  <tbody>\n",
              "    <tr>\n",
              "      <th>0</th>\n",
              "      <td>48</td>\n",
              "    </tr>\n",
              "    <tr>\n",
              "      <th>1</th>\n",
              "      <td>57</td>\n",
              "    </tr>\n",
              "    <tr>\n",
              "      <th>2</th>\n",
              "      <td>40</td>\n",
              "    </tr>\n",
              "    <tr>\n",
              "      <th>3</th>\n",
              "      <td>43</td>\n",
              "    </tr>\n",
              "    <tr>\n",
              "      <th>4</th>\n",
              "      <td>44</td>\n",
              "    </tr>\n",
              "    <tr>\n",
              "      <th>...</th>\n",
              "      <td>...</td>\n",
              "    </tr>\n",
              "    <tr>\n",
              "      <th>360</th>\n",
              "      <td>231</td>\n",
              "    </tr>\n",
              "    <tr>\n",
              "      <th>361</th>\n",
              "      <td>226</td>\n",
              "    </tr>\n",
              "    <tr>\n",
              "      <th>362</th>\n",
              "      <td>155</td>\n",
              "    </tr>\n",
              "    <tr>\n",
              "      <th>363</th>\n",
              "      <td>144</td>\n",
              "    </tr>\n",
              "    <tr>\n",
              "      <th>364</th>\n",
              "      <td>172</td>\n",
              "    </tr>\n",
              "  </tbody>\n",
              "</table>\n",
              "<p>365 rows × 1 columns</p>\n",
              "</div>\n",
              "      <button class=\"colab-df-convert\" onclick=\"convertToInteractive('df-266b3e30-98b4-4981-a2b3-e054b97f2e10')\"\n",
              "              title=\"Convert this dataframe to an interactive table.\"\n",
              "              style=\"display:none;\">\n",
              "        \n",
              "  <svg xmlns=\"http://www.w3.org/2000/svg\" height=\"24px\"viewBox=\"0 0 24 24\"\n",
              "       width=\"24px\">\n",
              "    <path d=\"M0 0h24v24H0V0z\" fill=\"none\"/>\n",
              "    <path d=\"M18.56 5.44l.94 2.06.94-2.06 2.06-.94-2.06-.94-.94-2.06-.94 2.06-2.06.94zm-11 1L8.5 8.5l.94-2.06 2.06-.94-2.06-.94L8.5 2.5l-.94 2.06-2.06.94zm10 10l.94 2.06.94-2.06 2.06-.94-2.06-.94-.94-2.06-.94 2.06-2.06.94z\"/><path d=\"M17.41 7.96l-1.37-1.37c-.4-.4-.92-.59-1.43-.59-.52 0-1.04.2-1.43.59L10.3 9.45l-7.72 7.72c-.78.78-.78 2.05 0 2.83L4 21.41c.39.39.9.59 1.41.59.51 0 1.02-.2 1.41-.59l7.78-7.78 2.81-2.81c.8-.78.8-2.07 0-2.86zM5.41 20L4 18.59l7.72-7.72 1.47 1.35L5.41 20z\"/>\n",
              "  </svg>\n",
              "      </button>\n",
              "      \n",
              "  <style>\n",
              "    .colab-df-container {\n",
              "      display:flex;\n",
              "      flex-wrap:wrap;\n",
              "      gap: 12px;\n",
              "    }\n",
              "\n",
              "    .colab-df-convert {\n",
              "      background-color: #E8F0FE;\n",
              "      border: none;\n",
              "      border-radius: 50%;\n",
              "      cursor: pointer;\n",
              "      display: none;\n",
              "      fill: #1967D2;\n",
              "      height: 32px;\n",
              "      padding: 0 0 0 0;\n",
              "      width: 32px;\n",
              "    }\n",
              "\n",
              "    .colab-df-convert:hover {\n",
              "      background-color: #E2EBFA;\n",
              "      box-shadow: 0px 1px 2px rgba(60, 64, 67, 0.3), 0px 1px 3px 1px rgba(60, 64, 67, 0.15);\n",
              "      fill: #174EA6;\n",
              "    }\n",
              "\n",
              "    [theme=dark] .colab-df-convert {\n",
              "      background-color: #3B4455;\n",
              "      fill: #D2E3FC;\n",
              "    }\n",
              "\n",
              "    [theme=dark] .colab-df-convert:hover {\n",
              "      background-color: #434B5C;\n",
              "      box-shadow: 0px 1px 3px 1px rgba(0, 0, 0, 0.15);\n",
              "      filter: drop-shadow(0px 1px 2px rgba(0, 0, 0, 0.3));\n",
              "      fill: #FFFFFF;\n",
              "    }\n",
              "  </style>\n",
              "\n",
              "      <script>\n",
              "        const buttonEl =\n",
              "          document.querySelector('#df-266b3e30-98b4-4981-a2b3-e054b97f2e10 button.colab-df-convert');\n",
              "        buttonEl.style.display =\n",
              "          google.colab.kernel.accessAllowed ? 'block' : 'none';\n",
              "\n",
              "        async function convertToInteractive(key) {\n",
              "          const element = document.querySelector('#df-266b3e30-98b4-4981-a2b3-e054b97f2e10');\n",
              "          const dataTable =\n",
              "            await google.colab.kernel.invokeFunction('convertToInteractive',\n",
              "                                                     [key], {});\n",
              "          if (!dataTable) return;\n",
              "\n",
              "          const docLinkHtml = 'Like what you see? Visit the ' +\n",
              "            '<a target=\"_blank\" href=https://colab.research.google.com/notebooks/data_table.ipynb>data table notebook</a>'\n",
              "            + ' to learn more about interactive tables.';\n",
              "          element.innerHTML = '';\n",
              "          dataTable['output_type'] = 'display_data';\n",
              "          await google.colab.output.renderOutput(dataTable, element);\n",
              "          const docLink = document.createElement('div');\n",
              "          docLink.innerHTML = docLinkHtml;\n",
              "          element.appendChild(docLink);\n",
              "        }\n",
              "      </script>\n",
              "    </div>\n",
              "  </div>\n",
              "  "
            ]
          },
          "metadata": {},
          "execution_count": 5
        }
      ]
    },
    {
      "cell_type": "code",
      "source": [
        "subs = pd.read_csv('/content/subs.csv', squeeze=True)\n",
        "subs"
      ],
      "metadata": {
        "colab": {
          "base_uri": "https://localhost:8080/"
        },
        "id": "yeyg71oGeedA",
        "outputId": "3cab30bf-cf38-4aec-80e1-a8da18429400"
      },
      "execution_count": 7,
      "outputs": [
        {
          "output_type": "execute_result",
          "data": {
            "text/plain": [
              "0       48\n",
              "1       57\n",
              "2       40\n",
              "3       43\n",
              "4       44\n",
              "      ... \n",
              "360    231\n",
              "361    226\n",
              "362    155\n",
              "363    144\n",
              "364    172\n",
              "Name: Subscribers gained, Length: 365, dtype: int64"
            ]
          },
          "metadata": {},
          "execution_count": 7
        }
      ]
    },
    {
      "cell_type": "code",
      "source": [
        " # with 2 cols\n",
        "vk = pd.read_csv('/content/kohli_ipl.csv', index_col='match_no', squeeze=True)\n",
        "vk"
      ],
      "metadata": {
        "id": "u_2rWYXIP44O",
        "colab": {
          "base_uri": "https://localhost:8080/"
        },
        "outputId": "30f36fe1-9a8d-4152-fabf-1afa2c637e49"
      },
      "execution_count": 17,
      "outputs": [
        {
          "output_type": "execute_result",
          "data": {
            "text/plain": [
              "match_no\n",
              "1       1\n",
              "2      23\n",
              "3      13\n",
              "4      12\n",
              "5       1\n",
              "       ..\n",
              "211     0\n",
              "212    20\n",
              "213    73\n",
              "214    25\n",
              "215     7\n",
              "Name: runs, Length: 215, dtype: int64"
            ]
          },
          "metadata": {},
          "execution_count": 17
        }
      ]
    },
    {
      "cell_type": "code",
      "source": [
        "movie = pd.read_csv('/content/bollywood.csv', index_col='movie', squeeze=True)\n",
        "movie"
      ],
      "metadata": {
        "colab": {
          "base_uri": "https://localhost:8080/"
        },
        "id": "aegYeLmGhoWs",
        "outputId": "50311749-e6b1-49b2-c9ae-bb8b48803193"
      },
      "execution_count": 13,
      "outputs": [
        {
          "output_type": "execute_result",
          "data": {
            "text/plain": [
              "movie\n",
              "Uri: The Surgical Strike                   Vicky Kaushal\n",
              "Battalion 609                                Vicky Ahuja\n",
              "The Accidental Prime Minister (film)         Anupam Kher\n",
              "Why Cheat India                            Emraan Hashmi\n",
              "Evening Shadows                         Mona Ambegaonkar\n",
              "                                              ...       \n",
              "Hum Tumhare Hain Sanam                    Shah Rukh Khan\n",
              "Aankhen (2002 film)                     Amitabh Bachchan\n",
              "Saathiya (film)                             Vivek Oberoi\n",
              "Company (film)                                Ajay Devgn\n",
              "Awara Paagal Deewana                        Akshay Kumar\n",
              "Name: lead, Length: 1500, dtype: object"
            ]
          },
          "metadata": {},
          "execution_count": 13
        }
      ]
    },
    {
      "cell_type": "markdown",
      "source": [
        "# Series Methods"
      ],
      "metadata": {
        "id": "XxHvIrmGiJhm"
      }
    },
    {
      "cell_type": "code",
      "source": [
        "# head \n",
        "movie.head()"
      ],
      "metadata": {
        "colab": {
          "base_uri": "https://localhost:8080/"
        },
        "id": "QPuK1h68f0da",
        "outputId": "bbbf55f3-7b8b-4427-f69a-3485f9eb5ac8"
      },
      "execution_count": 15,
      "outputs": [
        {
          "output_type": "execute_result",
          "data": {
            "text/plain": [
              "movie\n",
              "Uri: The Surgical Strike                   Vicky Kaushal\n",
              "Battalion 609                                Vicky Ahuja\n",
              "The Accidental Prime Minister (film)         Anupam Kher\n",
              "Why Cheat India                            Emraan Hashmi\n",
              "Evening Shadows                         Mona Ambegaonkar\n",
              "Name: lead, dtype: object"
            ]
          },
          "metadata": {},
          "execution_count": 15
        }
      ]
    },
    {
      "cell_type": "code",
      "source": [
        "# tail\n",
        "movie.tail()"
      ],
      "metadata": {
        "colab": {
          "base_uri": "https://localhost:8080/"
        },
        "id": "BwTlzydWiQYu",
        "outputId": "dd988e86-2184-4dbf-d157-7f590a6cad42"
      },
      "execution_count": 16,
      "outputs": [
        {
          "output_type": "execute_result",
          "data": {
            "text/plain": [
              "movie\n",
              "Hum Tumhare Hain Sanam      Shah Rukh Khan\n",
              "Aankhen (2002 film)       Amitabh Bachchan\n",
              "Saathiya (film)               Vivek Oberoi\n",
              "Company (film)                  Ajay Devgn\n",
              "Awara Paagal Deewana          Akshay Kumar\n",
              "Name: lead, dtype: object"
            ]
          },
          "metadata": {},
          "execution_count": 16
        }
      ]
    },
    {
      "cell_type": "code",
      "source": [
        "# custom\n",
        "movie.head(15)"
      ],
      "metadata": {
        "colab": {
          "base_uri": "https://localhost:8080/"
        },
        "id": "AtbRYx49iVzS",
        "outputId": "5c598352-6658-4a89-fac4-b7bfa8f83177"
      },
      "execution_count": 19,
      "outputs": [
        {
          "output_type": "execute_result",
          "data": {
            "text/plain": [
              "movie\n",
              "Uri: The Surgical Strike                       Vicky Kaushal\n",
              "Battalion 609                                    Vicky Ahuja\n",
              "The Accidental Prime Minister (film)             Anupam Kher\n",
              "Why Cheat India                                Emraan Hashmi\n",
              "Evening Shadows                             Mona Ambegaonkar\n",
              "Soni (film)                             Geetika Vidya Ohlyan\n",
              "Fraud Saiyaan                                   Arshad Warsi\n",
              "Bombairiya                                      Radhika Apte\n",
              "Manikarnika: The Queen of Jhansi              Kangana Ranaut\n",
              "Thackeray (film)                         Nawazuddin Siddiqui\n",
              "Amavas                                             Ali Asgar\n",
              "Gully Boy                                      Ranveer Singh\n",
              "Hum Chaar                                        Prit Kamani\n",
              "Total Dhamaal                                     Ajay Devgn\n",
              "Sonchiriya                              Sushant Singh Rajput\n",
              "Name: lead, dtype: object"
            ]
          },
          "metadata": {},
          "execution_count": 19
        }
      ]
    },
    {
      "cell_type": "code",
      "source": [
        "# sample   -> randomly choose movie\n",
        "movie.sample()\n",
        "# movie.sample(4)"
      ],
      "metadata": {
        "colab": {
          "base_uri": "https://localhost:8080/"
        },
        "id": "Fu9wQQb2iioa",
        "outputId": "c0356561-a2a5-4c0b-912e-90fca9064666"
      },
      "execution_count": 24,
      "outputs": [
        {
          "output_type": "execute_result",
          "data": {
            "text/plain": [
              "movie\n",
              "Revolver Rani    Kangana Ranaut\n",
              "Name: lead, dtype: object"
            ]
          },
          "metadata": {},
          "execution_count": 24
        }
      ]
    },
    {
      "cell_type": "code",
      "source": [
        "# value_counts\n",
        "movie.value_counts()  # decending order default"
      ],
      "metadata": {
        "colab": {
          "base_uri": "https://localhost:8080/"
        },
        "id": "PoQSHxXviv35",
        "outputId": "92a20759-4d81-447b-8fd7-744ef418a69e"
      },
      "execution_count": 27,
      "outputs": [
        {
          "output_type": "execute_result",
          "data": {
            "text/plain": [
              "Akshay Kumar        48\n",
              "Amitabh Bachchan    45\n",
              "Ajay Devgn          38\n",
              "Salman Khan         31\n",
              "Sanjay Dutt         26\n",
              "                    ..\n",
              "Diganth              1\n",
              "Parveen Kaur         1\n",
              "Seema Azmi           1\n",
              "Akanksha Puri        1\n",
              "Edwin Fernandes      1\n",
              "Name: lead, Length: 566, dtype: int64"
            ]
          },
          "metadata": {},
          "execution_count": 27
        }
      ]
    },
    {
      "cell_type": "code",
      "source": [
        "movie.value_counts(ascending=True)  # accending order"
      ],
      "metadata": {
        "colab": {
          "base_uri": "https://localhost:8080/"
        },
        "id": "V9VhgvI1jmwd",
        "outputId": "ef04768a-809e-48ae-cd09-2f0ab3ae39b9"
      },
      "execution_count": 30,
      "outputs": [
        {
          "output_type": "execute_result",
          "data": {
            "text/plain": [
              "Sharib Hashmi        1\n",
              "Ravi Kishan          1\n",
              "Sagar Bhangade       1\n",
              "Harish Chabbra       1\n",
              "Bidita Bag           1\n",
              "                    ..\n",
              "Sanjay Dutt         26\n",
              "Salman Khan         31\n",
              "Ajay Devgn          38\n",
              "Amitabh Bachchan    45\n",
              "Akshay Kumar        48\n",
              "Name: lead, Length: 566, dtype: int64"
            ]
          },
          "metadata": {},
          "execution_count": 30
        }
      ]
    },
    {
      "cell_type": "code",
      "source": [
        "# sort_values\n",
        "vk.sort_values()  # ascending default"
      ],
      "metadata": {
        "colab": {
          "base_uri": "https://localhost:8080/"
        },
        "id": "v3W9wJ94j3aZ",
        "outputId": "6ebd6d43-45ab-4eb9-966e-fc5e6d1a4d82"
      },
      "execution_count": 31,
      "outputs": [
        {
          "output_type": "execute_result",
          "data": {
            "text/plain": [
              "match_no\n",
              "87       0\n",
              "211      0\n",
              "207      0\n",
              "206      0\n",
              "91       0\n",
              "      ... \n",
              "164    100\n",
              "120    100\n",
              "123    108\n",
              "126    109\n",
              "128    113\n",
              "Name: runs, Length: 215, dtype: int64"
            ]
          },
          "metadata": {},
          "execution_count": 31
        }
      ]
    },
    {
      "cell_type": "code",
      "source": [
        "# sort_values ->  if we use inplace=True, it will permanently change\n",
        "vk.sort_values(ascending=False).head(5).values[1]"
      ],
      "metadata": {
        "colab": {
          "base_uri": "https://localhost:8080/"
        },
        "id": "Qpo0-Q1UkLII",
        "outputId": "a6cd9d95-0cca-4d9b-b0ac-673d96c6b65f"
      },
      "execution_count": 35,
      "outputs": [
        {
          "output_type": "execute_result",
          "data": {
            "text/plain": [
              "109"
            ]
          },
          "metadata": {},
          "execution_count": 35
        }
      ]
    },
    {
      "cell_type": "code",
      "source": [
        "# sort_index  -> inplace  -> movies\n",
        "movie.sort_index(inplace=True)"
      ],
      "metadata": {
        "id": "iDsQuiwolaPc"
      },
      "execution_count": 40,
      "outputs": []
    },
    {
      "cell_type": "code",
      "source": [
        "movie"
      ],
      "metadata": {
        "colab": {
          "base_uri": "https://localhost:8080/"
        },
        "id": "e4Oi_TQmtuGK",
        "outputId": "8af99d07-6f26-475d-ee80-047648bff2cc"
      },
      "execution_count": 41,
      "outputs": [
        {
          "output_type": "execute_result",
          "data": {
            "text/plain": [
              "movie\n",
              "1920 (film)                   Rajniesh Duggall\n",
              "1920: London                     Sharman Joshi\n",
              "1920: The Evil Returns             Vicky Ahuja\n",
              "1971 (2007 film)                Manoj Bajpayee\n",
              "2 States (2014 film)              Arjun Kapoor\n",
              "                                   ...        \n",
              "Zindagi 50-50                      Veena Malik\n",
              "Zindagi Na Milegi Dobara        Hrithik Roshan\n",
              "Zindagi Tere Naam           Mithun Chakraborty\n",
              "Zokkomon                       Darsheel Safary\n",
              "Zor Lagaa Ke...Haiya!            Meghan Jadhav\n",
              "Name: lead, Length: 1500, dtype: object"
            ]
          },
          "metadata": {},
          "execution_count": 41
        }
      ]
    },
    {
      "cell_type": "markdown",
      "source": [
        "# Series math methods"
      ],
      "metadata": {
        "id": "jDZ2fYGzuteq"
      }
    },
    {
      "cell_type": "code",
      "source": [
        "# count   # don't count missing values, while size counts all values including missig values"
      ],
      "metadata": {
        "id": "teC6U-HXuBlM"
      },
      "execution_count": 42,
      "outputs": []
    },
    {
      "cell_type": "code",
      "source": [
        "movie.count()"
      ],
      "metadata": {
        "colab": {
          "base_uri": "https://localhost:8080/"
        },
        "id": "35jE2JamuyY9",
        "outputId": "b5665d21-4685-4a9b-bd01-61cb7aab21f9"
      },
      "execution_count": 43,
      "outputs": [
        {
          "output_type": "execute_result",
          "data": {
            "text/plain": [
              "1500"
            ]
          },
          "metadata": {},
          "execution_count": 43
        }
      ]
    },
    {
      "cell_type": "code",
      "source": [
        "# sum  -> product\n",
        "subs.sum()\n",
        "# subs.product"
      ],
      "metadata": {
        "colab": {
          "base_uri": "https://localhost:8080/"
        },
        "id": "3O8XpiZDu16S",
        "outputId": "b57873a1-f02b-490f-dfb5-3d4e386cb91c"
      },
      "execution_count": 47,
      "outputs": [
        {
          "output_type": "execute_result",
          "data": {
            "text/plain": [
              "49510"
            ]
          },
          "metadata": {},
          "execution_count": 47
        }
      ]
    },
    {
      "cell_type": "code",
      "source": [
        "# mean\n",
        "subs.mean()"
      ],
      "metadata": {
        "colab": {
          "base_uri": "https://localhost:8080/"
        },
        "id": "u_vq4KQ_vGTQ",
        "outputId": "47f866ab-e11d-4627-b10b-2b44a04c5df4"
      },
      "execution_count": 48,
      "outputs": [
        {
          "output_type": "execute_result",
          "data": {
            "text/plain": [
              "135.64383561643837"
            ]
          },
          "metadata": {},
          "execution_count": 48
        }
      ]
    },
    {
      "cell_type": "code",
      "source": [
        "# median\n",
        "vk.median()"
      ],
      "metadata": {
        "colab": {
          "base_uri": "https://localhost:8080/"
        },
        "id": "FUd42JmLv5Uc",
        "outputId": "7fd0bf76-c124-4f2c-943a-5c1dd6a71102"
      },
      "execution_count": 50,
      "outputs": [
        {
          "output_type": "execute_result",
          "data": {
            "text/plain": [
              "24.0"
            ]
          },
          "metadata": {},
          "execution_count": 50
        }
      ]
    },
    {
      "cell_type": "code",
      "source": [
        "# mode \n",
        "movie.mode()"
      ],
      "metadata": {
        "colab": {
          "base_uri": "https://localhost:8080/"
        },
        "id": "ZHeC_2VAv_zF",
        "outputId": "f192d5ca-5f42-47ea-c055-1f048f8f2763"
      },
      "execution_count": 51,
      "outputs": [
        {
          "output_type": "execute_result",
          "data": {
            "text/plain": [
              "0    Akshay Kumar\n",
              "dtype: object"
            ]
          },
          "metadata": {},
          "execution_count": 51
        }
      ]
    },
    {
      "cell_type": "code",
      "source": [
        "# std\n",
        "vk.std()"
      ],
      "metadata": {
        "colab": {
          "base_uri": "https://localhost:8080/"
        },
        "id": "QRftuXxgwHrO",
        "outputId": "7eaa9dcb-b825-4fea-d9b4-e658e5500d7d"
      },
      "execution_count": 52,
      "outputs": [
        {
          "output_type": "execute_result",
          "data": {
            "text/plain": [
              "26.22980132830278"
            ]
          },
          "metadata": {},
          "execution_count": 52
        }
      ]
    },
    {
      "cell_type": "code",
      "source": [
        "# variance\n",
        "vk.var()"
      ],
      "metadata": {
        "colab": {
          "base_uri": "https://localhost:8080/"
        },
        "id": "nGvsh5ZMwQwy",
        "outputId": "308f786a-d7f0-4279-9420-40e52efb7a97"
      },
      "execution_count": 54,
      "outputs": [
        {
          "output_type": "execute_result",
          "data": {
            "text/plain": [
              "688.0024777222343"
            ]
          },
          "metadata": {},
          "execution_count": 54
        }
      ]
    },
    {
      "cell_type": "code",
      "source": [
        "# min\n",
        "subs.min()"
      ],
      "metadata": {
        "colab": {
          "base_uri": "https://localhost:8080/"
        },
        "id": "_pkKk2xqwUnE",
        "outputId": "c3e38ea5-4e20-4c1b-fe32-9d5631fd7c81"
      },
      "execution_count": 55,
      "outputs": [
        {
          "output_type": "execute_result",
          "data": {
            "text/plain": [
              "33"
            ]
          },
          "metadata": {},
          "execution_count": 55
        }
      ]
    },
    {
      "cell_type": "code",
      "source": [
        "# max\n",
        "subs.max()"
      ],
      "metadata": {
        "colab": {
          "base_uri": "https://localhost:8080/"
        },
        "id": "XHsU8FEswaoj",
        "outputId": "c243a111-ef94-4541-b0ac-25305502fa5d"
      },
      "execution_count": 56,
      "outputs": [
        {
          "output_type": "execute_result",
          "data": {
            "text/plain": [
              "396"
            ]
          },
          "metadata": {},
          "execution_count": 56
        }
      ]
    },
    {
      "cell_type": "code",
      "source": [
        "# describe\n",
        "vk.describe()"
      ],
      "metadata": {
        "colab": {
          "base_uri": "https://localhost:8080/"
        },
        "id": "w_doeUvTwdlV",
        "outputId": "60545b49-1714-4d13-98c0-364c09401f36"
      },
      "execution_count": 57,
      "outputs": [
        {
          "output_type": "execute_result",
          "data": {
            "text/plain": [
              "count    215.000000\n",
              "mean      30.855814\n",
              "std       26.229801\n",
              "min        0.000000\n",
              "25%        9.000000\n",
              "50%       24.000000\n",
              "75%       48.000000\n",
              "max      113.000000\n",
              "Name: runs, dtype: float64"
            ]
          },
          "metadata": {},
          "execution_count": 57
        }
      ]
    },
    {
      "cell_type": "markdown",
      "source": [
        "# Series Indexing"
      ],
      "metadata": {
        "id": "4rLMP2B0yNJ5"
      }
    },
    {
      "cell_type": "code",
      "source": [
        "# integer indexing\n",
        "x = pd.Series([12,12,14,35,46,57,58,79,9])\n",
        "x[1]"
      ],
      "metadata": {
        "colab": {
          "base_uri": "https://localhost:8080/"
        },
        "id": "gW8MqPcfwoI9",
        "outputId": "9bfd8192-68be-42b0-98a2-3be21e944e85"
      },
      "execution_count": 58,
      "outputs": [
        {
          "output_type": "execute_result",
          "data": {
            "text/plain": [
              "12"
            ]
          },
          "metadata": {},
          "execution_count": 58
        }
      ]
    },
    {
      "cell_type": "code",
      "source": [
        "# negetive indexing does work in integer but work on string\n",
        "x[-1]"
      ],
      "metadata": {
        "colab": {
          "base_uri": "https://localhost:8080/",
          "height": 434
        },
        "id": "owcKn__6yc0l",
        "outputId": "96881e62-ee95-4a82-dc8e-afe4ac0608b6"
      },
      "execution_count": 59,
      "outputs": [
        {
          "output_type": "error",
          "ename": "KeyError",
          "evalue": "ignored",
          "traceback": [
            "\u001b[0;31m---------------------------------------------------------------------------\u001b[0m",
            "\u001b[0;31mValueError\u001b[0m                                Traceback (most recent call last)",
            "\u001b[0;32m/usr/local/lib/python3.8/dist-packages/pandas/core/indexes/range.py\u001b[0m in \u001b[0;36mget_loc\u001b[0;34m(self, key, method, tolerance)\u001b[0m\n\u001b[1;32m    384\u001b[0m                 \u001b[0;32mtry\u001b[0m\u001b[0;34m:\u001b[0m\u001b[0;34m\u001b[0m\u001b[0;34m\u001b[0m\u001b[0m\n\u001b[0;32m--> 385\u001b[0;31m                     \u001b[0;32mreturn\u001b[0m \u001b[0mself\u001b[0m\u001b[0;34m.\u001b[0m\u001b[0m_range\u001b[0m\u001b[0;34m.\u001b[0m\u001b[0mindex\u001b[0m\u001b[0;34m(\u001b[0m\u001b[0mnew_key\u001b[0m\u001b[0;34m)\u001b[0m\u001b[0;34m\u001b[0m\u001b[0;34m\u001b[0m\u001b[0m\n\u001b[0m\u001b[1;32m    386\u001b[0m                 \u001b[0;32mexcept\u001b[0m \u001b[0mValueError\u001b[0m \u001b[0;32mas\u001b[0m \u001b[0merr\u001b[0m\u001b[0;34m:\u001b[0m\u001b[0;34m\u001b[0m\u001b[0;34m\u001b[0m\u001b[0m\n",
            "\u001b[0;31mValueError\u001b[0m: -1 is not in range",
            "\nThe above exception was the direct cause of the following exception:\n",
            "\u001b[0;31mKeyError\u001b[0m                                  Traceback (most recent call last)",
            "\u001b[0;32m<ipython-input-59-667d59a3f1e8>\u001b[0m in \u001b[0;36m<module>\u001b[0;34m\u001b[0m\n\u001b[1;32m      1\u001b[0m \u001b[0;31m# negetive indexing does work\u001b[0m\u001b[0;34m\u001b[0m\u001b[0;34m\u001b[0m\u001b[0;34m\u001b[0m\u001b[0m\n\u001b[0;32m----> 2\u001b[0;31m \u001b[0mx\u001b[0m\u001b[0;34m[\u001b[0m\u001b[0;34m-\u001b[0m\u001b[0;36m1\u001b[0m\u001b[0;34m]\u001b[0m\u001b[0;34m\u001b[0m\u001b[0;34m\u001b[0m\u001b[0m\n\u001b[0m",
            "\u001b[0;32m/usr/local/lib/python3.8/dist-packages/pandas/core/series.py\u001b[0m in \u001b[0;36m__getitem__\u001b[0;34m(self, key)\u001b[0m\n\u001b[1;32m    940\u001b[0m \u001b[0;34m\u001b[0m\u001b[0m\n\u001b[1;32m    941\u001b[0m         \u001b[0;32melif\u001b[0m \u001b[0mkey_is_scalar\u001b[0m\u001b[0;34m:\u001b[0m\u001b[0;34m\u001b[0m\u001b[0;34m\u001b[0m\u001b[0m\n\u001b[0;32m--> 942\u001b[0;31m             \u001b[0;32mreturn\u001b[0m \u001b[0mself\u001b[0m\u001b[0;34m.\u001b[0m\u001b[0m_get_value\u001b[0m\u001b[0;34m(\u001b[0m\u001b[0mkey\u001b[0m\u001b[0;34m)\u001b[0m\u001b[0;34m\u001b[0m\u001b[0;34m\u001b[0m\u001b[0m\n\u001b[0m\u001b[1;32m    943\u001b[0m \u001b[0;34m\u001b[0m\u001b[0m\n\u001b[1;32m    944\u001b[0m         \u001b[0;32mif\u001b[0m \u001b[0mis_hashable\u001b[0m\u001b[0;34m(\u001b[0m\u001b[0mkey\u001b[0m\u001b[0;34m)\u001b[0m\u001b[0;34m:\u001b[0m\u001b[0;34m\u001b[0m\u001b[0;34m\u001b[0m\u001b[0m\n",
            "\u001b[0;32m/usr/local/lib/python3.8/dist-packages/pandas/core/series.py\u001b[0m in \u001b[0;36m_get_value\u001b[0;34m(self, label, takeable)\u001b[0m\n\u001b[1;32m   1049\u001b[0m \u001b[0;34m\u001b[0m\u001b[0m\n\u001b[1;32m   1050\u001b[0m         \u001b[0;31m# Similar to Index.get_value, but we do not fall back to positional\u001b[0m\u001b[0;34m\u001b[0m\u001b[0;34m\u001b[0m\u001b[0;34m\u001b[0m\u001b[0m\n\u001b[0;32m-> 1051\u001b[0;31m         \u001b[0mloc\u001b[0m \u001b[0;34m=\u001b[0m \u001b[0mself\u001b[0m\u001b[0;34m.\u001b[0m\u001b[0mindex\u001b[0m\u001b[0;34m.\u001b[0m\u001b[0mget_loc\u001b[0m\u001b[0;34m(\u001b[0m\u001b[0mlabel\u001b[0m\u001b[0;34m)\u001b[0m\u001b[0;34m\u001b[0m\u001b[0;34m\u001b[0m\u001b[0m\n\u001b[0m\u001b[1;32m   1052\u001b[0m         \u001b[0;32mreturn\u001b[0m \u001b[0mself\u001b[0m\u001b[0;34m.\u001b[0m\u001b[0mindex\u001b[0m\u001b[0;34m.\u001b[0m\u001b[0m_get_values_for_loc\u001b[0m\u001b[0;34m(\u001b[0m\u001b[0mself\u001b[0m\u001b[0;34m,\u001b[0m \u001b[0mloc\u001b[0m\u001b[0;34m,\u001b[0m \u001b[0mlabel\u001b[0m\u001b[0;34m)\u001b[0m\u001b[0;34m\u001b[0m\u001b[0;34m\u001b[0m\u001b[0m\n\u001b[1;32m   1053\u001b[0m \u001b[0;34m\u001b[0m\u001b[0m\n",
            "\u001b[0;32m/usr/local/lib/python3.8/dist-packages/pandas/core/indexes/range.py\u001b[0m in \u001b[0;36mget_loc\u001b[0;34m(self, key, method, tolerance)\u001b[0m\n\u001b[1;32m    385\u001b[0m                     \u001b[0;32mreturn\u001b[0m \u001b[0mself\u001b[0m\u001b[0;34m.\u001b[0m\u001b[0m_range\u001b[0m\u001b[0;34m.\u001b[0m\u001b[0mindex\u001b[0m\u001b[0;34m(\u001b[0m\u001b[0mnew_key\u001b[0m\u001b[0;34m)\u001b[0m\u001b[0;34m\u001b[0m\u001b[0;34m\u001b[0m\u001b[0m\n\u001b[1;32m    386\u001b[0m                 \u001b[0;32mexcept\u001b[0m \u001b[0mValueError\u001b[0m \u001b[0;32mas\u001b[0m \u001b[0merr\u001b[0m\u001b[0;34m:\u001b[0m\u001b[0;34m\u001b[0m\u001b[0;34m\u001b[0m\u001b[0m\n\u001b[0;32m--> 387\u001b[0;31m                     \u001b[0;32mraise\u001b[0m \u001b[0mKeyError\u001b[0m\u001b[0;34m(\u001b[0m\u001b[0mkey\u001b[0m\u001b[0;34m)\u001b[0m \u001b[0;32mfrom\u001b[0m \u001b[0merr\u001b[0m\u001b[0;34m\u001b[0m\u001b[0;34m\u001b[0m\u001b[0m\n\u001b[0m\u001b[1;32m    388\u001b[0m             \u001b[0;32mraise\u001b[0m \u001b[0mKeyError\u001b[0m\u001b[0;34m(\u001b[0m\u001b[0mkey\u001b[0m\u001b[0;34m)\u001b[0m\u001b[0;34m\u001b[0m\u001b[0;34m\u001b[0m\u001b[0m\n\u001b[1;32m    389\u001b[0m         \u001b[0;32mreturn\u001b[0m \u001b[0msuper\u001b[0m\u001b[0;34m(\u001b[0m\u001b[0;34m)\u001b[0m\u001b[0;34m.\u001b[0m\u001b[0mget_loc\u001b[0m\u001b[0;34m(\u001b[0m\u001b[0mkey\u001b[0m\u001b[0;34m,\u001b[0m \u001b[0mmethod\u001b[0m\u001b[0;34m=\u001b[0m\u001b[0mmethod\u001b[0m\u001b[0;34m,\u001b[0m \u001b[0mtolerance\u001b[0m\u001b[0;34m=\u001b[0m\u001b[0mtolerance\u001b[0m\u001b[0;34m)\u001b[0m\u001b[0;34m\u001b[0m\u001b[0;34m\u001b[0m\u001b[0m\n",
            "\u001b[0;31mKeyError\u001b[0m: -1"
          ]
        }
      ]
    },
    {
      "cell_type": "code",
      "source": [
        "movie[-1]   # string"
      ],
      "metadata": {
        "colab": {
          "base_uri": "https://localhost:8080/",
          "height": 35
        },
        "id": "QTbfuOtPyx5m",
        "outputId": "38743e61-2e93-47de-dea3-3f40f6d8fad5"
      },
      "execution_count": 68,
      "outputs": [
        {
          "output_type": "execute_result",
          "data": {
            "text/plain": [
              "'Meghan Jadhav'"
            ],
            "application/vnd.google.colaboratory.intrinsic+json": {
              "type": "string"
            }
          },
          "metadata": {},
          "execution_count": 68
        }
      ]
    },
    {
      "cell_type": "code",
      "source": [
        "# slicing\n",
        "vk[5:16]"
      ],
      "metadata": {
        "colab": {
          "base_uri": "https://localhost:8080/"
        },
        "id": "Q10AKfpc7jYQ",
        "outputId": "8288b981-18ae-473f-ecd4-463478de4a3e"
      },
      "execution_count": 69,
      "outputs": [
        {
          "output_type": "execute_result",
          "data": {
            "text/plain": [
              "match_no\n",
              "6      9\n",
              "7     34\n",
              "8      0\n",
              "9     21\n",
              "10     3\n",
              "11    10\n",
              "12    38\n",
              "13     3\n",
              "14    11\n",
              "15    50\n",
              "16     2\n",
              "Name: runs, dtype: int64"
            ]
          },
          "metadata": {},
          "execution_count": 69
        }
      ]
    },
    {
      "cell_type": "code",
      "source": [
        "vk[-5:]"
      ],
      "metadata": {
        "colab": {
          "base_uri": "https://localhost:8080/"
        },
        "id": "rV-3S1oV8kiV",
        "outputId": "59cfa5a0-40c2-4942-ab9b-ac415e7b4cdc"
      },
      "execution_count": 70,
      "outputs": [
        {
          "output_type": "execute_result",
          "data": {
            "text/plain": [
              "match_no\n",
              "211     0\n",
              "212    20\n",
              "213    73\n",
              "214    25\n",
              "215     7\n",
              "Name: runs, dtype: int64"
            ]
          },
          "metadata": {},
          "execution_count": 70
        }
      ]
    },
    {
      "cell_type": "code",
      "source": [
        "movie[-5:] "
      ],
      "metadata": {
        "colab": {
          "base_uri": "https://localhost:8080/"
        },
        "id": "cwOmrYD98pOn",
        "outputId": "f3693783-67a8-4611-9da7-caef9454449b"
      },
      "execution_count": 71,
      "outputs": [
        {
          "output_type": "execute_result",
          "data": {
            "text/plain": [
              "movie\n",
              "Zindagi 50-50                      Veena Malik\n",
              "Zindagi Na Milegi Dobara        Hrithik Roshan\n",
              "Zindagi Tere Naam           Mithun Chakraborty\n",
              "Zokkomon                       Darsheel Safary\n",
              "Zor Lagaa Ke...Haiya!            Meghan Jadhav\n",
              "Name: lead, dtype: object"
            ]
          },
          "metadata": {},
          "execution_count": 71
        }
      ]
    },
    {
      "cell_type": "code",
      "source": [
        "movie[::2] "
      ],
      "metadata": {
        "colab": {
          "base_uri": "https://localhost:8080/"
        },
        "id": "5Yqqah1q8uD6",
        "outputId": "27401536-dabe-4086-eaab-1aa03e7c2bb9"
      },
      "execution_count": 72,
      "outputs": [
        {
          "output_type": "execute_result",
          "data": {
            "text/plain": [
              "movie\n",
              "1920 (film)                 Rajniesh Duggall\n",
              "1920: The Evil Returns           Vicky Ahuja\n",
              "2 States (2014 film)            Arjun Kapoor\n",
              "3 A.M. (2014 film)             Salil Acharya\n",
              "3 Idiots                          Aamir Khan\n",
              "                                  ...       \n",
              "Zero (2018 film)              Shah Rukh Khan\n",
              "Zila Ghaziabad                  Vivek Oberoi\n",
              "Zindaggi Rocks                  Sushmita Sen\n",
              "Zindagi Na Milegi Dobara      Hrithik Roshan\n",
              "Zokkomon                     Darsheel Safary\n",
              "Name: lead, Length: 750, dtype: object"
            ]
          },
          "metadata": {},
          "execution_count": 72
        }
      ]
    },
    {
      "cell_type": "code",
      "source": [
        "# fancy indexing\n",
        "# find out 5,6,7 match result of virat\n",
        "vk[[5,6,7]]"
      ],
      "metadata": {
        "colab": {
          "base_uri": "https://localhost:8080/"
        },
        "id": "PEHZMSoI9CJh",
        "outputId": "1a674396-6512-49b9-848b-454f362e5093"
      },
      "execution_count": 74,
      "outputs": [
        {
          "output_type": "execute_result",
          "data": {
            "text/plain": [
              "match_no\n",
              "5     1\n",
              "6     9\n",
              "7    34\n",
              "Name: runs, dtype: int64"
            ]
          },
          "metadata": {},
          "execution_count": 74
        }
      ]
    },
    {
      "cell_type": "code",
      "source": [
        "# indexing with labels  -> fancy indexing\n",
        "movie['Zindagi Na Milegi Dobara']"
      ],
      "metadata": {
        "colab": {
          "base_uri": "https://localhost:8080/",
          "height": 35
        },
        "id": "6yOZs4aV9E0L",
        "outputId": "7ab6a253-41c8-45bf-9f61-be56b068c31f"
      },
      "execution_count": 78,
      "outputs": [
        {
          "output_type": "execute_result",
          "data": {
            "text/plain": [
              "'Hrithik Roshan'"
            ],
            "application/vnd.google.colaboratory.intrinsic+json": {
              "type": "string"
            }
          },
          "metadata": {},
          "execution_count": 78
        }
      ]
    },
    {
      "cell_type": "markdown",
      "source": [
        "# Editing Series"
      ],
      "metadata": {
        "id": "QhHw4iVJ9-JS"
      }
    },
    {
      "cell_type": "code",
      "source": [
        "# using indexing\n",
        "mark_series"
      ],
      "metadata": {
        "colab": {
          "base_uri": "https://localhost:8080/"
        },
        "id": "3p3snVrg9XyW",
        "outputId": "f1fcd94a-d2dc-49ea-d236-64524cb460fc"
      },
      "execution_count": 80,
      "outputs": [
        {
          "output_type": "execute_result",
          "data": {
            "text/plain": [
              "math       78\n",
              "english    89\n",
              "Science    57\n",
              "Bangla     90\n",
              "Name: Mehedi mark, dtype: int64"
            ]
          },
          "metadata": {},
          "execution_count": 80
        }
      ]
    },
    {
      "cell_type": "code",
      "source": [
        "mark_series[1]=100\n",
        "mark_series"
      ],
      "metadata": {
        "id": "-sa-LTJ0-SZh",
        "outputId": "48b4e86e-ae97-4f48-9553-58dee6e6ddc0",
        "colab": {
          "base_uri": "https://localhost:8080/"
        }
      },
      "execution_count": 81,
      "outputs": [
        {
          "output_type": "execute_result",
          "data": {
            "text/plain": [
              "math        78\n",
              "english    100\n",
              "Science     57\n",
              "Bangla      90\n",
              "Name: Mehedi mark, dtype: int64"
            ]
          },
          "metadata": {},
          "execution_count": 81
        }
      ]
    },
    {
      "cell_type": "code",
      "source": [
        "# what if an index does not exist\n",
        "mark_series['social'] = 85\n",
        "mark_series"
      ],
      "metadata": {
        "id": "4cW4sL88-Zk4",
        "outputId": "04bcc0a3-cc51-4a09-ae6c-fb36b5acad69",
        "colab": {
          "base_uri": "https://localhost:8080/"
        }
      },
      "execution_count": 83,
      "outputs": [
        {
          "output_type": "execute_result",
          "data": {
            "text/plain": [
              "math        78\n",
              "english    100\n",
              "Science     57\n",
              "Bangla      90\n",
              "social      85\n",
              "Name: Mehedi mark, dtype: int64"
            ]
          },
          "metadata": {},
          "execution_count": 83
        }
      ]
    },
    {
      "cell_type": "code",
      "source": [
        "# edit through slicing\n",
        "run_series"
      ],
      "metadata": {
        "id": "T_aerfqq-3qj",
        "outputId": "2402c872-c868-422e-ffcd-3f2ce50d06e8",
        "colab": {
          "base_uri": "https://localhost:8080/"
        }
      },
      "execution_count": 87,
      "outputs": [
        {
          "output_type": "execute_result",
          "data": {
            "text/plain": [
              "0     32\n",
              "1     43\n",
              "2     12\n",
              "3     57\n",
              "4    100\n",
              "dtype: int64"
            ]
          },
          "metadata": {},
          "execution_count": 87
        }
      ]
    },
    {
      "cell_type": "code",
      "source": [
        "run_series[1:3] = [100, 90]\n",
        "run_series"
      ],
      "metadata": {
        "id": "IA-8BiYw_UcQ",
        "outputId": "c01e66df-fa09-4384-db3b-aa7d69d79226",
        "colab": {
          "base_uri": "https://localhost:8080/"
        }
      },
      "execution_count": 89,
      "outputs": [
        {
          "output_type": "execute_result",
          "data": {
            "text/plain": [
              "0     32\n",
              "1    100\n",
              "2     90\n",
              "3     57\n",
              "4    100\n",
              "dtype: int64"
            ]
          },
          "metadata": {},
          "execution_count": 89
        }
      ]
    },
    {
      "cell_type": "code",
      "source": [
        "# edit through fancy indexing\n",
        "run_series[3,4] = [0,5]\n",
        "run_series"
      ],
      "metadata": {
        "id": "s6WhXSop_mzT",
        "outputId": "5549d600-b7a8-4f88-8289-7686a9a47b45",
        "colab": {
          "base_uri": "https://localhost:8080/"
        }
      },
      "execution_count": 90,
      "outputs": [
        {
          "output_type": "execute_result",
          "data": {
            "text/plain": [
              "0     32\n",
              "1    100\n",
              "2     90\n",
              "3      0\n",
              "4      5\n",
              "dtype: int64"
            ]
          },
          "metadata": {},
          "execution_count": 90
        }
      ]
    },
    {
      "cell_type": "code",
      "source": [
        "# edit through index labeling"
      ],
      "metadata": {
        "id": "w82WKRzaAA1A",
        "outputId": "c3f51618-5cfe-4d46-b99b-7f4d62664ac0",
        "colab": {
          "base_uri": "https://localhost:8080/"
        }
      },
      "execution_count": 91,
      "outputs": [
        {
          "output_type": "execute_result",
          "data": {
            "text/plain": [
              "movie\n",
              "1920 (film)                   Rajniesh Duggall\n",
              "1920: London                     Sharman Joshi\n",
              "1920: The Evil Returns             Vicky Ahuja\n",
              "1971 (2007 film)                Manoj Bajpayee\n",
              "2 States (2014 film)              Arjun Kapoor\n",
              "                                   ...        \n",
              "Zindagi 50-50                      Veena Malik\n",
              "Zindagi Na Milegi Dobara        Hrithik Roshan\n",
              "Zindagi Tere Naam           Mithun Chakraborty\n",
              "Zokkomon                       Darsheel Safary\n",
              "Zor Lagaa Ke...Haiya!            Meghan Jadhav\n",
              "Name: lead, Length: 1500, dtype: object"
            ]
          },
          "metadata": {},
          "execution_count": 91
        }
      ]
    },
    {
      "cell_type": "code",
      "source": [
        "movie['2 States (2014 film)'] = 'Alia Bhatt'\n",
        "movie"
      ],
      "metadata": {
        "id": "R4AN-IRPAN93",
        "outputId": "47ad3bb1-bb66-4f06-c6d7-36a3021a1e4d",
        "colab": {
          "base_uri": "https://localhost:8080/"
        }
      },
      "execution_count": 92,
      "outputs": [
        {
          "output_type": "execute_result",
          "data": {
            "text/plain": [
              "movie\n",
              "1920 (film)                   Rajniesh Duggall\n",
              "1920: London                     Sharman Joshi\n",
              "1920: The Evil Returns             Vicky Ahuja\n",
              "1971 (2007 film)                Manoj Bajpayee\n",
              "2 States (2014 film)                Alia Bhatt\n",
              "                                   ...        \n",
              "Zindagi 50-50                      Veena Malik\n",
              "Zindagi Na Milegi Dobara        Hrithik Roshan\n",
              "Zindagi Tere Naam           Mithun Chakraborty\n",
              "Zokkomon                       Darsheel Safary\n",
              "Zor Lagaa Ke...Haiya!            Meghan Jadhav\n",
              "Name: lead, Length: 1500, dtype: object"
            ]
          },
          "metadata": {},
          "execution_count": 92
        }
      ]
    },
    {
      "cell_type": "markdown",
      "source": [
        "# Series with Python Functionalities"
      ],
      "metadata": {
        "id": "2keKEu4UAoVP"
      }
    },
    {
      "cell_type": "code",
      "source": [
        "# len/type/dir/sorted/max/min\n",
        "print(len(subs))\n",
        "print(type(subs))\n",
        "print(dir(subs))\n",
        "print(min(subs))\n",
        "print(max(subs))"
      ],
      "metadata": {
        "id": "qXsc6mLWAYtS",
        "outputId": "94434764-3f79-4579-8de6-439c7b9e4553",
        "colab": {
          "base_uri": "https://localhost:8080/"
        }
      },
      "execution_count": 97,
      "outputs": [
        {
          "output_type": "stream",
          "name": "stdout",
          "text": [
            "365\n",
            "<class 'pandas.core.series.Series'>\n",
            "['T', '_AXIS_LEN', '_AXIS_ORDERS', '_AXIS_REVERSED', '_AXIS_TO_AXIS_NUMBER', '_HANDLED_TYPES', '__abs__', '__add__', '__and__', '__annotations__', '__array__', '__array_priority__', '__array_ufunc__', '__array_wrap__', '__bool__', '__class__', '__contains__', '__copy__', '__deepcopy__', '__delattr__', '__delitem__', '__dict__', '__dir__', '__divmod__', '__doc__', '__eq__', '__finalize__', '__float__', '__floordiv__', '__format__', '__ge__', '__getattr__', '__getattribute__', '__getitem__', '__getstate__', '__gt__', '__hash__', '__iadd__', '__iand__', '__ifloordiv__', '__imod__', '__imul__', '__init__', '__init_subclass__', '__int__', '__invert__', '__ior__', '__ipow__', '__isub__', '__iter__', '__itruediv__', '__ixor__', '__le__', '__len__', '__long__', '__lt__', '__matmul__', '__mod__', '__module__', '__mul__', '__ne__', '__neg__', '__new__', '__nonzero__', '__or__', '__pos__', '__pow__', '__radd__', '__rand__', '__rdivmod__', '__reduce__', '__reduce_ex__', '__repr__', '__rfloordiv__', '__rmatmul__', '__rmod__', '__rmul__', '__ror__', '__round__', '__rpow__', '__rsub__', '__rtruediv__', '__rxor__', '__setattr__', '__setitem__', '__setstate__', '__sizeof__', '__str__', '__sub__', '__subclasshook__', '__truediv__', '__weakref__', '__xor__', '_accessors', '_accum_func', '_add_numeric_operations', '_agg_by_level', '_agg_examples_doc', '_agg_see_also_doc', '_align_frame', '_align_series', '_arith_method', '_as_manager', '_attrs', '_binop', '_can_hold_na', '_check_inplace_and_allows_duplicate_labels', '_check_inplace_setting', '_check_is_chained_assignment_possible', '_check_label_or_level_ambiguity', '_check_setitem_copy', '_clear_item_cache', '_clip_with_one_bound', '_clip_with_scalar', '_cmp_method', '_consolidate', '_consolidate_inplace', '_construct_axes_dict', '_construct_axes_from_arguments', '_construct_result', '_constructor', '_constructor_expanddim', '_convert', '_convert_dtypes', '_data', '_dir_additions', '_dir_deletions', '_drop_axis', '_drop_labels_or_levels', '_duplicated', '_find_valid_index', '_flags', '_from_mgr', '_get_axis', '_get_axis_name', '_get_axis_number', '_get_axis_resolvers', '_get_block_manager_axis', '_get_bool_data', '_get_cacher', '_get_cleaned_column_resolvers', '_get_index_resolvers', '_get_label_or_level_values', '_get_numeric_data', '_get_value', '_get_values', '_get_values_tuple', '_get_with', '_gotitem', '_hidden_attrs', '_index', '_indexed_same', '_info_axis', '_info_axis_name', '_info_axis_number', '_init_dict', '_init_mgr', '_inplace_method', '_internal_names', '_internal_names_set', '_is_cached', '_is_copy', '_is_label_or_level_reference', '_is_label_reference', '_is_level_reference', '_is_mixed_type', '_is_view', '_item_cache', '_ixs', '_logical_func', '_logical_method', '_map_values', '_maybe_update_cacher', '_memory_usage', '_metadata', '_mgr', '_min_count_stat_function', '_name', '_needs_reindex_multi', '_protect_consolidate', '_reduce', '_reindex_axes', '_reindex_indexer', '_reindex_multi', '_reindex_with_indexers', '_replace_single', '_repr_data_resource_', '_repr_latex_', '_reset_cache', '_reset_cacher', '_set_as_cached', '_set_axis', '_set_axis_name', '_set_axis_nocheck', '_set_is_copy', '_set_labels', '_set_name', '_set_value', '_set_values', '_set_with', '_set_with_engine', '_slice', '_stat_axis', '_stat_axis_name', '_stat_axis_number', '_stat_function', '_stat_function_ddof', '_take_with_is_copy', '_typ', '_update_inplace', '_validate_dtype', '_values', '_where', 'abs', 'add', 'add_prefix', 'add_suffix', 'agg', 'aggregate', 'align', 'all', 'any', 'append', 'apply', 'argmax', 'argmin', 'argsort', 'array', 'asfreq', 'asof', 'astype', 'at', 'at_time', 'attrs', 'autocorr', 'axes', 'backfill', 'between', 'between_time', 'bfill', 'bool', 'clip', 'combine', 'combine_first', 'compare', 'convert_dtypes', 'copy', 'corr', 'count', 'cov', 'cummax', 'cummin', 'cumprod', 'cumsum', 'describe', 'diff', 'div', 'divide', 'divmod', 'dot', 'drop', 'drop_duplicates', 'droplevel', 'dropna', 'dtype', 'dtypes', 'duplicated', 'empty', 'eq', 'equals', 'ewm', 'expanding', 'explode', 'factorize', 'ffill', 'fillna', 'filter', 'first', 'first_valid_index', 'flags', 'floordiv', 'ge', 'get', 'groupby', 'gt', 'hasnans', 'head', 'hist', 'iat', 'idxmax', 'idxmin', 'iloc', 'index', 'infer_objects', 'interpolate', 'is_monotonic', 'is_monotonic_decreasing', 'is_monotonic_increasing', 'is_unique', 'isin', 'isna', 'isnull', 'item', 'items', 'iteritems', 'keys', 'kurt', 'kurtosis', 'last', 'last_valid_index', 'le', 'loc', 'lt', 'mad', 'map', 'mask', 'max', 'mean', 'median', 'memory_usage', 'min', 'mod', 'mode', 'mul', 'multiply', 'name', 'nbytes', 'ndim', 'ne', 'nlargest', 'notna', 'notnull', 'nsmallest', 'nunique', 'pad', 'pct_change', 'pipe', 'plot', 'pop', 'pow', 'prod', 'product', 'quantile', 'radd', 'rank', 'ravel', 'rdiv', 'rdivmod', 'reindex', 'reindex_like', 'rename', 'rename_axis', 'reorder_levels', 'repeat', 'replace', 'resample', 'reset_index', 'rfloordiv', 'rmod', 'rmul', 'rolling', 'round', 'rpow', 'rsub', 'rtruediv', 'sample', 'searchsorted', 'sem', 'set_axis', 'set_flags', 'shape', 'shift', 'size', 'skew', 'slice_shift', 'sort_index', 'sort_values', 'squeeze', 'std', 'sub', 'subtract', 'sum', 'swapaxes', 'swaplevel', 'tail', 'take', 'to_clipboard', 'to_csv', 'to_dict', 'to_excel', 'to_frame', 'to_hdf', 'to_json', 'to_latex', 'to_list', 'to_markdown', 'to_numpy', 'to_period', 'to_pickle', 'to_sql', 'to_string', 'to_timestamp', 'to_xarray', 'transform', 'transpose', 'truediv', 'truncate', 'tz_convert', 'tz_localize', 'unique', 'unstack', 'update', 'value_counts', 'values', 'var', 'view', 'where', 'xs']\n",
            "33\n",
            "396\n"
          ]
        }
      ]
    },
    {
      "cell_type": "code",
      "source": [
        "# type of conversion  -> into list\n",
        "list(mark_series)"
      ],
      "metadata": {
        "id": "VeUIxcWVg8qO",
        "outputId": "2c22b946-d45b-49ef-d3e6-910f8c0ff3d8",
        "colab": {
          "base_uri": "https://localhost:8080/"
        }
      },
      "execution_count": 99,
      "outputs": [
        {
          "output_type": "execute_result",
          "data": {
            "text/plain": [
              "[78, 100, 57, 90, 85]"
            ]
          },
          "metadata": {},
          "execution_count": 99
        }
      ]
    },
    {
      "cell_type": "code",
      "source": [
        "# -> into dictionary\n",
        "dict(mark_series)"
      ],
      "metadata": {
        "id": "_C26Yd4lh8q-",
        "outputId": "25126149-f0be-4801-d8e1-140017b86f2a",
        "colab": {
          "base_uri": "https://localhost:8080/"
        }
      },
      "execution_count": 100,
      "outputs": [
        {
          "output_type": "execute_result",
          "data": {
            "text/plain": [
              "{'math': 78, 'english': 100, 'Science': 57, 'Bangla': 90, 'social': 85}"
            ]
          },
          "metadata": {},
          "execution_count": 100
        }
      ]
    },
    {
      "cell_type": "code",
      "source": [
        "# membership operator\n",
        "# in operator search on indexes\n",
        "'1920: The Evil Returns' in movie"
      ],
      "metadata": {
        "id": "T3Fwtkkyg-vJ",
        "outputId": "b4165b72-a031-4902-9558-4023645018fc",
        "colab": {
          "base_uri": "https://localhost:8080/"
        }
      },
      "execution_count": 102,
      "outputs": [
        {
          "output_type": "execute_result",
          "data": {
            "text/plain": [
              "True"
            ]
          },
          "metadata": {},
          "execution_count": 102
        }
      ]
    },
    {
      "cell_type": "code",
      "source": [
        "# have to use .values to search on values\n",
        "'Alia Bhatt' in movie.values"
      ],
      "metadata": {
        "id": "VP5n3PEKijwt",
        "outputId": "1bcbff69-3fed-4397-e457-47516e6ced87",
        "colab": {
          "base_uri": "https://localhost:8080/"
        }
      },
      "execution_count": 106,
      "outputs": [
        {
          "output_type": "execute_result",
          "data": {
            "text/plain": [
              "True"
            ]
          },
          "metadata": {},
          "execution_count": 106
        }
      ]
    },
    {
      "cell_type": "code",
      "source": [
        "# looping\n",
        "# loops works on values in default\n",
        "\n",
        "for i in movie:\n",
        "  print(i)"
      ],
      "metadata": {
        "id": "PZDQGWp0hBgt",
        "outputId": "ed976e8f-cbab-48c2-cf16-b29c7653ffb5",
        "colab": {
          "base_uri": "https://localhost:8080/"
        }
      },
      "execution_count": 107,
      "outputs": [
        {
          "output_type": "stream",
          "name": "stdout",
          "text": [
            "Rajniesh Duggall\n",
            "Sharman Joshi\n",
            "Vicky Ahuja\n",
            "Manoj Bajpayee\n",
            "Alia Bhatt\n",
            "Barun Sobti\n",
            "Salil Acharya\n",
            "Naseeruddin Shah\n",
            "Aamir Khan\n",
            "Aisha Ahmed\n",
            "Soha Ali Khan\n",
            "Akshaye Khanna\n",
            "Neil Nitin Mukesh\n",
            "Sara Arjun\n",
            "Nargis Fakhri\n",
            "Mouli Ganguly\n",
            "Vipin Sharma\n",
            "Priyanka Chopra\n",
            "Juhi Chawla\n",
            "Atul Kulkarni\n",
            "Kunal Khemu\n",
            "Shawar Ali\n",
            "Kiran Bhatia\n",
            "Shabana Azmi\n",
            "Jimmy Sheirgill\n",
            "Tiger Shroff\n",
            "Sidharth Malhotra\n",
            "Prabhu Deva\n",
            "Neil Nitin Mukesh\n",
            "Govinda\n",
            "Naveen Bawa\n",
            "Amitabh Bachchan\n",
            "Shreyas Talpade\n",
            "Sudesh Berry\n",
            "Madhuri Dixit\n",
            "Paul Sidhu\n",
            "Ajay Devgn\n",
            "Omkar Das Manikpuri\n",
            "Shatrughan Sinha\n",
            "Arun Bakshi\n",
            "Amitabh Bachchan\n",
            "Himesh Reshammiya\n",
            "Akshaye Khanna\n",
            "Priyanshu Chatterjee\n",
            "Amitabh Bachchan\n",
            "John Abraham\n",
            "Emraan Hashmi\n",
            "Aditya Roy Kapoor\n",
            "Ishaan Manhaas\n",
            "Hrishitaa Bhatt\n",
            "Sachiin Joshi\n",
            "Nana Patekar\n",
            "Amitabh Bachchan\n",
            "Farooq Shaikh\n",
            "Fardeen Khan\n",
            "Prabhas\n",
            "Akshay Kumar\n",
            "Rahul Dev\n",
            "Ranbir Kapoor\n",
            "Amitabh Bachchan\n",
            "Kareena Kapoor\n",
            "Tusshar Kapoor\n",
            "Hrithik Roshan\n",
            "Jimmy Sheirgill\n",
            "Abhay Deol\n",
            "Akshay Kumar\n",
            "Rati Agnihotri\n",
            "Yashpal Sharma\n",
            "Akshay Kumar\n",
            "Sidharth Malhotra\n",
            "Rani Mukerji\n",
            "Jackky Bhagnani\n",
            "Ranbir Kapoor\n",
            "Sushama Deshpande\n",
            "Kartik Aaryan\n",
            "Emraan Hashmi\n",
            "Zareen Khan\n",
            "Amitabh Bachchan\n",
            "Akshay Kapoor\n",
            "Manav Kaul\n",
            "Sukhesh Arora\n",
            "Rishi Kapoor\n",
            "Sanjay Dutt\n",
            "Varun Bhagwat\n",
            "Bipasha Basu\n",
            "Aftab Shivdasani\n",
            "Lillete Dubey\n",
            "Ali Asgar\n",
            "Vir Das\n",
            "Pankaj Tripathi\n",
            "Dino Morea\n",
            "Akshay Kumar\n",
            "Akshay Kumar\n",
            "Ayushmann Khurrana\n",
            "Sumit Arora\n",
            "Priyanka Chopra\n",
            "Manisha Koirala\n",
            "Aftab Shivdasani\n",
            "Sanjay Mishra\n",
            "Kay Kay Menon\n",
            "Shashank Udapurkar\n",
            "Raj Singh Chaudhary\n",
            "Sanjay Dutt\n",
            "Sachin Khedekar\n",
            "Nauheed Cyrusi\n",
            "Ajay Devgn\n",
            "Rohit Roy\n",
            "Irrfan Khan\n",
            "Bobby Darling\n",
            "Dharmendra\n",
            "Diljit Dosanjh\n",
            "Yudhveer Bakoliya\n",
            "Amitabh Bachchan\n",
            "Ayushmann Khurrana\n",
            "Sohail Khan\n",
            "Arjun Rampal\n",
            "Asrani\n",
            "Krishna Abhishek\n",
            "Arjun Kapoor\n",
            "Prakash Belawadi\n",
            "Akshay Kumar\n",
            "Emraan Hashmi\n",
            "Emraan Hashmi\n",
            "Shadab Kamal\n",
            "Mithun Chakraborty\n",
            "Amitabh Bachchan\n",
            "Shraddha Kapoor\n",
            "Tiger Shroff\n",
            "Sidharth Malhotra\n",
            "Anisa Butt\n",
            "Jackie Shroff\n",
            "Radhika Apte\n",
            "Sahil Anand\n",
            "Sudha Chandran\n",
            "Nawazuddin Siddiqui\n",
            "Akshay Kumar\n",
            "Manoj Babani\n",
            "Rekha\n",
            "Ranbir Kapoor\n",
            "Ayushmann Khurrana\n",
            "Amitabh Bachchan\n",
            "Varun Dhawan\n",
            "Annu Kapoor\n",
            "Sidhant Gupta\n",
            "Varun Dhawan\n",
            "Amitabh Bachchan\n",
            "Tusshar Kapoor\n",
            "Ranveer Singh\n",
            "Salman Khan\n",
            "Ayushmann Khurrana\n",
            "Asrani\n",
            "Urmila Matondkar\n",
            "Ranveer Singh\n",
            "Manisha Kelkar\n",
            "Hrithik Roshan\n",
            "Jacqueline Fernandez\n",
            "Riteish Deshmukh\n",
            "Riteish Deshmukh\n",
            "Naseeruddin Shah\n",
            "Bobby Deol\n",
            "Ayushmann Khurrana\n",
            "Ranbir Kapoor\n",
            "Sara Loren\n",
            "Bobby Deol\n",
            "Juhi Chawla\n",
            "Sadashiv Amrapurkar\n",
            "John Abraham\n",
            "Vicky Ahuja\n",
            "Shahid Kapoor\n",
            "Reshmi Ghosh\n",
            "Amitabh Bachchan\n",
            "Vaani Kapoor\n",
            "Amitabh Bachchan\n",
            "Rajkummar Rao\n",
            "Sunny Leone\n",
            "Naseeruddin Shah\n",
            "Anil Kapoor\n",
            "Ayushmann Khurrana\n",
            "Ishaan Khattar\n",
            "Mugdha Godse\n",
            "Kunal Khemu\n",
            "Farhan Akhtar\n",
            "Akshay Kumar\n",
            "Tabu\n",
            "Sunny Deol\n",
            "Shaurya Singh\n",
            "Harshvardhan Kapoor\n",
            "Vinay Pathak\n",
            "Vinay Pathak\n",
            "Ali Asgar\n",
            "Akshay Kumar\n",
            "Sunny Leone\n",
            "Ajay Devgn\n",
            "J.D. Chakravarthi\n",
            "Jackie Shroff\n",
            "Amitabh Bachchan\n",
            "Amitabh Bachchan\n",
            "Mischa Barton\n",
            "Dino Morea\n",
            "Sunny Deol\n",
            "Irrfan Khan\n",
            "Naushaad Abbas\n",
            "Danny Denzongpa\n",
            "Pulkit Samrat\n",
            "Amitabh Bachchan\n",
            "Kay Kay Menon\n",
            "Ajay Devgn\n",
            "Jazzy Doe\n",
            "Manish Chaudhary\n",
            "Akash\n",
            "Akshay Kumar\n",
            "Abhishek Bachchan\n",
            "Vidya Balan\n",
            "Salman Khan\n",
            "Amitabh Bachchan\n",
            "Raima Sen\n",
            "Radhika Apte\n",
            "Rani Mukerji\n",
            "Ranbir Kapoor\n",
            "Shreyas Talpade\n",
            "Sunil Pal\n",
            "Amitabh Bachchan\n",
            "Sanjay Dutt\n",
            "Akshay Kumar\n",
            "Shashank Arora\n",
            "Deepika Padukone\n",
            "Vinay Virmani\n",
            "Arjun Mathur\n",
            "Akshay Kumar\n",
            "Apoorva Arora\n",
            "Mona Ambegaonkar\n",
            "Aanchal Dwivedi\n",
            "Saayli Buva\n",
            "Saif Ali Khan\n",
            "Kavin Dave\n",
            "Atul Kulkarni\n",
            "Seema Azmi\n",
            "Abhishek Bachchan\n",
            "Neil Nitin Mukesh\n",
            "Tusshar Kapoor\n",
            "Hemant Gopal\n",
            "Anil Kapoor\n",
            "Akanksha Puri\n",
            "Ajay Devgn\n",
            "Aryan Vaid\n",
            "Naseeruddin Shah\n",
            "Tusshar Kapoor\n",
            "Soha Ali Khan\n",
            "Shah Rukh Khan\n",
            "Arjun Rampal\n",
            "Asrani\n",
            "Sagar Bhangade\n",
            "Richa Chadha\n",
            "Vickrant Mahajan\n",
            "Vinay Pathak\n",
            "Shah Rukh Khan\n",
            "Kareena Kapoor\n",
            "Bobby Deol\n",
            "Shahid Kapoor\n",
            "Somesh Agarwal\n",
            "Samir Aftab\n",
            "Mithun Chakraborty\n",
            "Jimmy Sheirgill\n",
            "Dev Anand\n",
            "Anuj Saxena\n",
            "Ali Zafar\n",
            "Sanjay Dutt\n",
            "Amitabh Bachchan\n",
            "Saif Ali Khan\n",
            "Bipasha Basu\n",
            "Deepika Padukone\n",
            "Jatin Grewal\n",
            "Jimmy Sheirgill\n",
            "Rupa Bhimani\n",
            "Natalia Janoszek\n",
            "Mohammad Amir Naji\n",
            "Farooq Shaikh\n",
            "Aarav Khanna\n",
            "Parveen Kaur\n",
            "Sushmita Sen\n",
            "Rishi Kapoor\n",
            "Manoj Bajpayee\n",
            "Anil Kapoor\n",
            "Deepak Dobriyal\n",
            "Ajay Devgn\n",
            "Kareena Kapoor\n",
            "Zayed Khan\n",
            "Ashok Banthia\n",
            "Sachin Khedekar\n",
            "Rajkummar Rao\n",
            "Mithun Chakraborty\n",
            "Shreyas Talpade\n",
            "Saif Ali Khan\n",
            "Arjun Mathur\n",
            "Sunil Grover\n",
            "Vidyut Jammwal\n",
            "Vidyut Jammwal\n",
            "Ajay Devgn\n",
            "Adhvik Mahajan\n",
            "Bipasha Basu\n",
            "Vira Sathidar\n",
            "Swanand Kirkire\n",
            "Bipasha Basu\n",
            "Emraan Hashmi\n",
            "Randeep Hooda\n",
            "Rishi Kapoor\n",
            "Yogesh Raj Mishra\n",
            "Aditya Roy Kapoor\n",
            "Salman Khan\n",
            "Salman Khan\n",
            "Salman Khan\n",
            "Arjun Rampal\n",
            "Sunil Shetty\n",
            "Himesh Reshammiya\n",
            "Aamir Khan\n",
            "Karisma Kapoor\n",
            "Fardeen Khan\n",
            "Sameera Reddy\n",
            "Amitabh Bachchan\n",
            "Jimmy Sheirgill\n",
            "Ishrat Ali\n",
            "Neil Nitin Mukesh\n",
            "Vinay Pathak\n",
            "Yash Soni\n",
            "Akshay Kumar\n",
            "Ajay Devgn\n",
            "Aftab Shivdasani\n",
            "Rajit Kapoor\n",
            "Arvind Swamy\n",
            "Raghuvir Yadav\n",
            "Manisha Koirala\n",
            "Alia Bhatt\n",
            "Madhuri Dixit\n",
            "Amitabh Bachchan\n",
            "Akshay Kumar\n",
            "Adhyayan Suman\n",
            "Satish Kaushik\n",
            "Imran Khan\n",
            "Cary Elwes\n",
            "Waheeda Rehman\n",
            "Sanjay Dutt\n",
            "Kamal Rashid Khan\n",
            "Akshay Kumar\n",
            "Sasha Aagha\n",
            "Sushant Singh Rajput\n",
            "Amitabh Bachchan\n",
            "Ram Kapoor\n",
            "Shah Rukh Khan\n",
            "RJ Balaji\n",
            "Ishaan Khattar\n",
            "Sanjay Dutt\n",
            "Krrish Chhabria\n",
            "Naseeruddin Shah\n",
            "Pankaj Kapur\n",
            "Ajay Devgn\n",
            "Prateik\n",
            "Muzamil Ibrahim\n",
            "Sharman Joshi\n",
            "Abhishek Bachchan\n",
            "Hrithik Roshan\n",
            "Aamir Khan\n",
            "Paresh Rawal\n",
            "Om Puri\n",
            "Amar Upadhyaya\n",
            "Sushant Singh Rajput\n",
            "Vikaas Kalantari\n",
            "Shahid Kapoor\n",
            "Anil Kapoor\n",
            "Emraan Hashmi\n",
            "Imaaduddin Shah\n",
            "Amitabh Bachchan\n",
            "Himansh Kohli\n",
            "Taapsee Pannu\n",
            "Arjun Rampal\n",
            "Irrfan Khan\n",
            "Shahid Kapoor\n",
            "Salman Khan\n",
            "Kapil Jhaveri\n",
            "Ajay Devgn\n",
            "Zeenat Aman\n",
            "Ira Dubey\n",
            "Shah Rukh Khan\n",
            "Rajniesh Duggall\n",
            "Anupam Kher\n",
            "Harman Baweja\n",
            "John Abraham\n",
            "Rishi Kapoor\n",
            "Kajal Aggarwal\n",
            "Adil Hussain\n",
            "Jackie Shroff\n",
            "Malaika Arora\n",
            "Shah Rukh Khan\n",
            "Shah Rukh Khan\n",
            "Mithun Chakraborty\n",
            "Rishi Kapoor\n",
            "Ronit Roy\n",
            "Ayesha Takia\n",
            "Abhishek Bachchan\n",
            "Akshay Kumar\n",
            "Ayesha Jhulka\n",
            "Sanjay Dutt\n",
            "Ayushmann Khurrana\n",
            "Aseel Adel\n",
            "Ajay Devgn\n",
            "Jayshree Arora\n",
            "Diwakar Pathak\n",
            "Sushmita Sen\n",
            "Vivek Oberoi\n",
            "Ayushmann Khurrana\n",
            "Abhishek Bachchan\n",
            "Zeenat Aman\n",
            "Sanjay Dutt\n",
            "Arbaaz Khan\n",
            "Raj Tara\n",
            "Amitabh Bachchan\n",
            "Nandita Das\n",
            "Sanjay Dutt\n",
            "Abhay Deol\n",
            "Rahul Bose\n",
            "Shiv Darshan\n",
            "Saif Ali Khan\n",
            "Jimmy Sharma\n",
            "Fardeen Khan\n",
            "Kareena Kapoor\n",
            "Sunny Leone\n",
            "Sunil Shetty\n",
            "Anita\n",
            "Bhushan Agarwal\n",
            "Salman Khan\n",
            "Emraan Hashmi\n",
            "Hema Malini\n",
            "Sidharth Malhotra\n",
            "Isha Koppikar\n",
            "Bobby Deol\n",
            "Prateik\n",
            "Anupam Kher\n",
            "Amitabh Bachchan\n",
            "Arjun Rampal\n",
            "Sunil Shetty\n",
            "Sridevi\n",
            "Akshay Kumar\n",
            "Manisha Koirala\n",
            "Mona Ambegaonkar\n",
            "Arshad Warsi\n",
            "Amitabh Bachchan\n",
            "Jimmy Sheirgill\n",
            "Arjun Rampal\n",
            "Shah Rukh Khan\n",
            "Aamir Khan\n",
            "Shilpa Shetty Kundra\n",
            "Priyanka Chopra\n",
            "Gul Panag\n",
            "Sharman Joshi\n",
            "Rajeev Khandelwal\n",
            "Kareena Kapoor\n",
            "Sunil Shetty\n",
            "Sharib Hashmi\n",
            "Deepika Padukone\n",
            "Inaamulhaq\n",
            "Kapil Sharma\n",
            "Aditya Roy Kapoor\n",
            "Jayesh Raj\n",
            "Reef Karim\n",
            "Shahid Kapoor\n",
            "Aftab Shivdasani\n",
            "John Abraham\n",
            "John Abraham\n",
            "Arjun Rampal\n",
            "Arshad Warsi\n",
            "Nawazuddin Siddiqui\n",
            "Avinash Dhyani\n",
            "Bidita Bag\n",
            "Atmaram Bhende\n",
            "Govinda\n",
            "Shubham\n",
            "Jimmy Sheirgill\n",
            "Pulkit Samrat\n",
            "Pulkit Samrat\n",
            "Siddharth Koirala\n",
            "Rushali Arora\n",
            "Rajveer Ankur Singh\n",
            "Akshay Kumar\n",
            "Akshay Kumar\n",
            "Manoj Bajpayee\n",
            "Abhishek Bachchan\n",
            "Akshaye Khanna\n",
            "Sharman Joshi\n",
            "Ajay Devgn\n",
            "Sarita Joshi\n",
            "Manoj Bajpayee\n",
            "Manoj Bajpayee\n",
            "Kangana Ranaut\n",
            "Akshay Kumar\n",
            "Salman Khan\n",
            "Naresh Sharma\n",
            "Mohan Azaad\n",
            "Tusshar Kapoor\n",
            "Utkarsh Sharma\n",
            "Aamir Khan\n",
            "Vidya Balan\n",
            "Sunny Deol\n",
            "Shiney Ahuja\n",
            "Sanaya Irani\n",
            "Riya Vij\n",
            "Isha Koppikar\n",
            "Pankaj Tripathi\n",
            "Gautam Gupta\n",
            "Saif Ali Khan\n",
            "John Abraham\n",
            "Amitabh Bachchan\n",
            "Akshay Kumar\n",
            "Ranveer Singh\n",
            "Dimple Kapadia\n",
            "Ajay Devgn\n",
            "Ajay Devgn\n",
            "Ajay Devgn\n",
            "Deepika Amin\n",
            "Tusshar Kapoor\n",
            "Akshay Kumar\n",
            "Imran Khan\n",
            "Vinay Pathak\n",
            "Vivek Oberoi\n",
            "Urvashi Rautela\n",
            "Vikram Dasu\n",
            "Kunal Khemu\n",
            "Arshad Warsi\n",
            "Kartik Aaryan\n",
            "Madhuri Dixit\n",
            "Kay Kay Menon\n",
            "Sampat Pal Devi\n",
            "Ranveer Singh\n",
            "Dino Morea\n",
            "Ranveer Singh\n",
            "Mithun Chakraborty\n",
            "Hrithik Roshan\n",
            "Amita Pathak\n",
            "Jimmy Sheirgill\n",
            "Sahil Anand\n",
            "Tabu\n",
            "Shraddha Kapoor\n",
            "Paoli Dam\n",
            "Ajay Devgn\n",
            "Rajkummar Rao\n",
            "Talha Arshad Reshi\n",
            "Mukesh Khanna\n",
            "Diana Penty\n",
            "Saif Ali Khan\n",
            "Anay\n",
            "Shah Rukh Khan\n",
            "Sonakshi Sinha\n",
            "Nawazuddin Siddiqui\n",
            "Jackie Shroff\n",
            "Sidharth Malhotra\n",
            "Shraddha Kapoor\n",
            "Jimmy Sheirgill\n",
            "Nikhil Dwivedi\n",
            "Jay Bhanushali\n",
            "Lee Byford\n",
            "Nana Patekar\n",
            "Akshay Kumar\n",
            "Mimoh Chakraborty\n",
            "Aniket Vishwasrao\n",
            "Tabu\n",
            "Makrand Deshpande\n",
            "Naman Jain\n",
            "Shawar Ali\n",
            "Babbu Mann\n",
            "Kay Kay Menon\n",
            "Adhyayan Suman\n",
            "Kajol\n",
            "Sharman Joshi\n",
            "Gul Panag\n",
            "Bobby Deol\n",
            "Suraj Pancholi\n",
            "Sohail Khan\n",
            "Kareena Kapoor\n",
            "Tiger Shroff\n",
            "Ganesh Acharya\n",
            "Juanna Sanghvi\n",
            "Rani Mukerji\n",
            "Sumeet Vyas\n",
            "Alia Bhatt\n",
            "Ajay Devgn\n",
            "Gurmeet Ram Rahim Singh\n",
            "Irrfan Khan\n",
            "Mallika Sherawat\n",
            "Onjolee Nair\n",
            "Akshay Kumar\n",
            "Vivek Oberoi\n",
            "Ranvir Shorey\n",
            "Zara Sheikh\n",
            "Naseeruddin Shah\n",
            "Karan Kundrra\n",
            "Vatsal Sheth\n",
            "Adil Hussain\n",
            "Akshay Kumar\n",
            "Akshay Kumar\n",
            "Akshay Kumar\n",
            "Akshaye Khanna\n",
            "Prit Kamani\n",
            "Anupam Kher\n",
            "Saif Ali Khan\n",
            "Arshad Warsi\n",
            "Tusshar Kapoor\n",
            "Shah Rukh Khan\n",
            "Karanvir Bohra\n",
            "Akshay Kumar\n",
            "Arjun Rampal\n",
            "Omkar Bhatkar\n",
            "Varun Dhawan\n",
            "Saif Ali Khan\n",
            "Akshaye Khanna\n",
            "Gulshan Devaiah\n",
            "Tisca Chopra\n",
            "Juhi Chawla\n",
            "Gulshan Grover\n",
            "Imran Khan\n",
            "Shakti Anand\n",
            "Sunny Deol\n",
            "Sohail Khan\n",
            "Arjun Rampal\n",
            "Vivek Sudershan\n",
            "Arjun Kapoor\n",
            "Jaz Pandher\n",
            "Kirti Kulhari\n",
            "Arjun Rampal\n",
            "Dino Morea\n",
            "Akshay Kumar\n",
            "Ashmit Patel\n",
            "Manoj Bajpayee\n",
            "Shreyas Talpade\n",
            "Amarjeet\n",
            "Naseeruddin Shah\n",
            "Madhavan\n",
            "Arjun Kapoor\n",
            "Preity Zinta\n",
            "Sara Loren\n",
            "Krishna Chaturvedi\n",
            "Dino Morea\n",
            "Rishi Verma\n",
            "Shahid Kapoor\n",
            "Mimoh Chakraborty\n",
            "Manish Anand\n",
            "Vidya Balan\n",
            "Akshay Oberoi\n",
            "Vinay Pathak\n",
            "Prateik\n",
            "Sanjeev Bhaskar\n",
            "Rina Charaniya\n",
            "Sunny Deol\n",
            "Salman Khan\n",
            "Aftab Shivdasani\n",
            "Priyanka Chopra\n",
            "Akshay Anand\n",
            "Shah Rukh Khan\n",
            "Shah Rukh Khan\n",
            "Shahid Kapoor\n",
            "Sidharth Malhotra\n",
            "Amit Sadh\n",
            "Naseeruddin Shah\n",
            "Ranbir Kapoor\n",
            "Govinda\n",
            "Chiranjeevi\n",
            "Priyanka Chopra\n",
            "Salman Khan\n",
            "Rati Agnihotri\n",
            "Fardeen Khan\n",
            "Manoj Bajpayee\n",
            "Javed Jaffrey\n",
            "Purab Kohli\n",
            "Rhea Chakraborty\n",
            "Harish Chabbra\n",
            "Mohit Ahlawat\n",
            "Feroz Khan\n",
            "Emraan Hashmi\n",
            "Amardeep Insan\n",
            "Emraan Hashmi\n",
            "Vivek Oberoi\n",
            "Aishwarya Rai Bachchan\n",
            "Ravi Kishan\n",
            "Arbaaz Khan\n",
            "Boman Irani\n",
            "Sanjay Suri\n",
            "Abhishek Bachchan\n",
            "John Abraham\n",
            "Rishi Kapoor\n",
            "Richa Chadha\n",
            "Harshvardhan Deo\n",
            "Nassar Abdulla\n",
            "Mimoh Chakraborty\n",
            "Bipasha Basu\n",
            "Sunny Deol\n",
            "Sunny Gill\n",
            "Hrithik Roshan\n",
            "Bipasha Basu\n",
            "Victor Banerjee\n",
            "Naseeruddin Shah\n",
            "Dharmendra\n",
            "Akshay Kumar\n",
            "Arshad Warsi\n",
            "Kangana Ranaut\n",
            "Varun Dhawan\n",
            "Sadhana Singh\n",
            "Neha Dhupia\n",
            "Nishikant Kamat\n",
            "Vidyut Jammwal\n",
            "Pulkit Samrat\n",
            "Kamal Adib\n",
            "Fardeen Khan\n",
            "Hrithik Roshan\n",
            "Vinay Pathak\n",
            "Ajay Devgn\n",
            "Saif Ali Khan\n",
            "Aditya Srivastava\n",
            "Kartik Aaryan\n",
            "Amitabh Bachchan\n",
            "Aishwarya Devan\n",
            "Amitabh Bachchan\n",
            "Shahid Kapoor\n",
            "John Abraham\n",
            "Sanjay Mishra\n",
            "Om Puri\n",
            "Vidya Balan\n",
            "Eesha Agarwal\n",
            "Rajkummar Rao\n",
            "Amit Hingorani\n",
            "Shah Rukh Khan\n",
            "Varun Dhawan\n",
            "Kunal Khemu\n",
            "Shahid Kapoor\n",
            "Sidharth Malhotra\n",
            "John Abraham\n",
            "Mahek Chahal\n",
            "Shiv Darshan\n",
            "Rati Agnihotri\n",
            "Siddhartha Gupta\n",
            "Irrfan Khan\n",
            "Himesh Reshammiya\n",
            "Lucky Ali\n",
            "Juhi Babbar\n",
            "Suhaas Ahuja\n",
            "Raqesh Bapat\n",
            "Kunal Kapoor\n",
            "Shahbaaz Khan\n",
            "Akshay Kumar\n",
            "Vinay Pathak\n",
            "Amitabh Bachchan\n",
            "Kiron Kher\n",
            "Shilpa Shetty Kundra\n",
            "Prabhu Deva\n",
            "Gurmeet Choudhary\n",
            "Rahul Jaiswal\n",
            "Akshay Kumar\n",
            "Hazel Croney\n",
            "Sunny Deol\n",
            "Supriya Pathak\n",
            "Sonam Kapoor\n",
            "Anupam Kher\n",
            "Shiney Ahuja\n",
            "Sunny Deol\n",
            "Fardeen Khan\n",
            "Simer Motiani\n",
            "Himanshu Malik\n",
            "Amitabh Bachchan\n",
            "Salman Khan\n",
            "Ranveer Singh\n",
            "Mallika Sherawat\n",
            "Kapil Sharma\n",
            "Jackie Shroff\n",
            "Bobby Deol\n",
            "Shahid Kapoor\n",
            "Vivek Oberoi\n",
            "Vivek Oberoi\n",
            "Arshad Warsi\n",
            "Hrithik Roshan\n",
            "Sanjay Dutt\n",
            "Aftab Shivdasani\n",
            "Dia Mirza\n",
            "Rekha\n",
            "Kannan Arunachalam\n",
            "Juhi Chawla\n",
            "Manoj Bajpayee\n",
            "Sohail Khan\n",
            "Rekha\n",
            "Shefali Shah\n",
            "Tusshar Kapoor\n",
            "Ram Kapoor\n",
            "Aishwarya Rai Bachchan\n",
            "Geetanjali Thapa\n",
            "Arshad Warsi\n",
            "Rekha\n",
            "Siddharth Gupta\n",
            "Lewis Tan\n",
            "Rajpal Yadav\n",
            "Vijay Raaz\n",
            "Tusshar Kapoor\n",
            "Tusshar Kapoor\n",
            "Tusshar Kapoor\n",
            "Riteish Deshmukh\n",
            "Salman Khan\n",
            "Amitabh Bachchan\n",
            "Sanjay Dutt\n",
            "Rani Mukerji\n",
            "Randeep Hooda\n",
            "Ranveer Singh\n",
            "Neil Nitin Mukesh\n",
            "Sanjay Dutt\n",
            "Farooq Shaikh\n",
            "Avinash Tiwary\n",
            "Sunny Deol\n",
            "Monali Thakur\n",
            "Hrithik Roshan\n",
            "Sanjay Dutt\n",
            "Armaan Jain\n",
            "Rituparna Sengupta\n",
            "Manoj Amarnani\n",
            "Kay Kay Menon\n",
            "Aftab Shivdasani\n",
            "Govinda\n",
            "Dharmendra\n",
            "Aahana Kumra\n",
            "Farooq Shaikh\n",
            "John Abraham\n",
            "Himanshu Bhatt\n",
            "Shabana Azmi\n",
            "Salman Khan\n",
            "Ranveer Singh\n",
            "Saif Ali Khan\n",
            "Zayed Khan\n",
            "Patralekhaa Paul\n",
            "Rishi Kapoor\n",
            "Nushrat Bharucha\n",
            "Anuj Sachdeva\n",
            "Abhishek Bharate\n",
            "Harman Baweja\n",
            "Tusshar Kapoor\n",
            "Joy Mukherjee\n",
            "Vicky Kaushal\n",
            "Girish Taurani\n",
            "Mithun Chakraborty\n",
            "Farhan Akhtar\n",
            "Adhyayan Suman\n",
            "Farhan Akhtar\n",
            "Arvinder Bhatti\n",
            "Salman Khan\n",
            "V. Ravichandran\n",
            "Tanuj Virwani\n",
            "Tom Alter\n",
            "Sushant Singh Rajput\n",
            "Menekka Arora\n",
            "Charanpreet Insan\n",
            "Gurmeet Ram Rahim Singh\n",
            "Ashok Insan\n",
            "Mallika Sherawat\n",
            "Raveena Tandon\n",
            "Sumit Nijhawan\n",
            "Swara Bhaskar\n",
            "Kiara Advani\n",
            "Saahil Prem\n",
            "Irrfan Khan\n",
            "Rajkummar Rao\n",
            "Bipasha Basu\n",
            "John Abraham\n",
            "Sooraj Balaji\n",
            "Asha Bhosle\n",
            "Ajay Devgn\n",
            "Barun Sobti\n",
            "Salman Khan\n",
            "Shah Rukh Khan\n",
            "Smitha Gondkar\n",
            "Juhi Chawla\n",
            "Antara Mali\n",
            "Rajpal Yadav\n",
            "Hrithik Roshan\n",
            "Varun Dhawan\n",
            "Anupam Kher\n",
            "Salman Khan\n",
            "Paresh Rawal\n",
            "Akanksha\n",
            "Aamir Khan\n",
            "Kangana Ranaut\n",
            "Nawazuddin Siddiqui\n",
            "Anjori Alagh\n",
            "Taapsee Pannu\n",
            "Abhay Deol\n",
            "Nawazuddin Siddiqui\n",
            "Rajat Kapoor\n",
            "Irrfan Khan\n",
            "Abhimanyu Dasani\n",
            "Rani Mukerji\n",
            "Rani Mukerji\n",
            "Kalki Koechlin\n",
            "Salman Khan\n",
            "Riteish Deshmukh\n",
            "Manisha Koirala\n",
            "Archana Joglekar\n",
            "Priyanka Chopra\n",
            "Richa Chadha\n",
            "Aftab Shivdasani\n",
            "Tusshar Kapoor\n",
            "Rahul Bagga\n",
            "Imran Khan\n",
            "Tulip Joshi\n",
            "Shahid Kapoor\n",
            "Sonu Sood\n",
            "Tabu\n",
            "Anupam Kher\n",
            "Jaideep Ahlawat\n",
            "Puru Chibber\n",
            "Deepti Naval\n",
            "Prabhu Deva\n",
            "Paresh Rawal\n",
            "Imran Khan\n",
            "Saqib Saleem\n",
            "Sunil Shetty\n",
            "Yash Acharya\n",
            "Akshay Kumar\n",
            "Rasika Agashe\n",
            "Akshay Kumar\n",
            "Ayushmann Khurrana\n",
            "Manish Paul\n",
            "Kareena Kapoor\n",
            "Chirag Paswan\n",
            "Arunoday Singh\n",
            "Harshvardhan Kapoor\n",
            "Rahul Bagga\n",
            "Manoj Bajpayee\n",
            "Vivek Oberoi\n",
            "Akshay Kumar\n",
            "Jackky Bhagnani\n",
            "Hazel Croney\n",
            "Neha Dhupia\n",
            "Sunny Deol\n",
            "Hrithik Roshan\n",
            "Sridevi\n",
            "Govinda\n",
            "Ashutosh Rana\n",
            "Vijay Varma\n",
            "Shabana Azmi\n",
            "Nawazuddin Siddiqui\n",
            "Saurav Chakraborty\n",
            "Dev Anand\n",
            "Anupam Kher\n",
            "Prashant Narayanan\n",
            "Emraan Hashmi\n",
            "Anil Kapoor\n",
            "Prithviraj Kapoor\n",
            "Saqib Saleem\n",
            "Salman Khan\n",
            "Sammir Dattani\n",
            "Viineet Kumar\n",
            "Taapsee Pannu\n",
            "Karanvir Bohra\n",
            "Shakti Kapoor\n",
            "Shiv Panditt\n",
            "Mohsin\n",
            "Rahul Bose\n",
            "Paresh Rawal\n",
            "Linda Arsenio\n",
            "Abhishek Bachchan\n",
            "Alieesa P Badresia\n",
            "Kiron Kher\n",
            "Sanjay Dutt\n",
            "Tiger Shroff\n",
            "Sanjay Singh\n",
            "Mallika Sherawat\n",
            "Emraan Hashmi\n",
            "Randeep Hooda\n",
            "Anil Kapoor\n",
            "Aftab Shivdasani\n",
            "Nora Fatehi\n",
            "Jason Lewis\n",
            "Sanjay Suri\n",
            "Prateik\n",
            "Shah Rukh Khan\n",
            "Anil Kapoor\n",
            "Auroshika Dey\n",
            "Anushka Sharma\n",
            "Om Puri\n",
            "Antara Mali\n",
            "Taapsee Pannu\n",
            "Urmila Matondkar\n",
            "Sunny Deol\n",
            "Arjun Kapoor\n",
            "Akshay Kumar\n",
            "Dwij Yadav\n",
            "Abhay Deol\n",
            "Bobby Deol\n",
            "Poonam Pandey\n",
            "Govinda\n",
            "Ayushmann Khurrana\n",
            "Dharmesh Yelande\n",
            "Vikas Kalantri\n",
            "Uday Chopra\n",
            "Sonam Kapoor\n",
            "Sanjay Dutt\n",
            "Vinay Anand\n",
            "John Abraham\n",
            "Rajkummar Rao\n",
            "Swara Bhaskar\n",
            "Ashmit Patel\n",
            "Amitabh Bachchan\n",
            "Anil Kapoor\n",
            "Rani Mukerji\n",
            "Sanjay Dutt\n",
            "John Abraham\n",
            "Sunny Leone\n",
            "Deepak Dobriyal\n",
            "Zaheer Iqbal\n",
            "Madhavan\n",
            "Pulkit Samrat\n",
            "Paresh Rawal\n",
            "Varun Dhawan\n",
            "Vinay Pathak\n",
            "Shraddha Kapoor\n",
            "Attin Bhalla\n",
            "Shah Rukh Khan\n",
            "Gopi Desai\n",
            "Rajkummar Rao\n",
            "Ajay Devgn\n",
            "Ajay Devgn\n",
            "Akshay Kumar\n",
            "Anupam Kher\n",
            "Tusshar Kapoor\n",
            "Abhay Deol\n",
            "Riteish Deshmukh\n",
            "Abhay Deol\n",
            "Meenakshi Dixit\n",
            "Bhavesh Kumar\n",
            "Aamir Khan\n",
            "Boman Irani\n",
            "Amitabh Bachchan\n",
            "Irrfan Khan\n",
            "Nassar Abdulla\n",
            "John Abraham\n",
            "Nana Patekar\n",
            "Deepika Padukone\n",
            "Sunil Shetty\n",
            "Kriti Kharbanda\n",
            "Konkona Sen Sharma\n",
            "Shah Rukh Khan\n",
            "Manisha Koirala\n",
            "Karan Deol\n",
            "Jackie Shroff\n",
            "Nayna Bandhopadhyay\n",
            "Bipasha Basu\n",
            "Mohinder Gujral\n",
            "Tannishtha Chatterjee\n",
            "Saif Ali Khan\n",
            "John Abraham\n",
            "Salman Khan\n",
            "Ajay Devgn\n",
            "Sanya Malhotra\n",
            "Rishi Kapoor\n",
            "Kartik Aaryan\n",
            "Rishi Kapoor\n",
            "Shreyas Talpade\n",
            "Omkar Das Manikpuri\n",
            "Vinod Khanna\n",
            "Jimmy Sheirgill\n",
            "Saif Ali Khan\n",
            "Rajat Kapoor\n",
            "Shahid Kapoor\n",
            "Rajniesh Duggall\n",
            "Anushka Sharma\n",
            "Akshay Kumar\n",
            "Mithun Chakraborty\n",
            "Salman Khan\n",
            "Radhika Apte\n",
            "Sudeep\n",
            "Nawazuddin Siddiqui\n",
            "Rahul Bagga\n",
            "Deepika Padukone\n",
            "Urmila Matondkar\n",
            "Taapsee Pannu\n",
            "Akshay Oberoi\n",
            "Sanjay Dutt\n",
            "Vinod Khanna\n",
            "Akshay Kumar\n",
            "Sanjay Dutt\n",
            "Akshay Kapoor\n",
            "Sunny Deol\n",
            "Raveena Tandon\n",
            "Chandan Roy Sanyal\n",
            "Rajeev Khandelwal\n",
            "Sanjay Dutt\n",
            "Jeetendra\n",
            "Arbaaz Khan\n",
            "Salman Khan\n",
            "Vivek Oberoi\n",
            "Tanuj Virwani\n",
            "Priyanka Chopra\n",
            "Kartik Aaryan\n",
            "Kartik Aaryan\n",
            "Rahul Bose\n",
            "Rishi Kapoor\n",
            "Fardeen Khan\n",
            "Aadar Jain\n",
            "Irrfan Khan\n",
            "Ajay Devgn\n",
            "Irrfan Khan\n",
            "Kangana Ranaut\n",
            "Rajendra Prasad\n",
            "Shah Rukh Khan\n",
            "Deepika Padukone\n",
            "Kunal Kapoor\n",
            "Dhanush\n",
            "Aamir Bashir\n",
            "Abhishek Bachchan\n",
            "Dino Morea\n",
            "Emraan Hashmi\n",
            "Kangana Ranaut\n",
            "Alia Bhatt\n",
            "Shah Rukh Khan\n",
            "Saif Ali Khan\n",
            "Saif Ali Khan\n",
            "Anil Kapoor\n",
            "Raj Arjun\n",
            "Vijay Raaz\n",
            "Kainaz Motivala\n",
            "Sunny Leone\n",
            "Kay Kay Menon\n",
            "Ajay Devgn\n",
            "Ajay Devgn\n",
            "Sadashiv Amrapurkar\n",
            "Emraan Hashmi\n",
            "Kangana Ranaut\n",
            "Amyra Dastur\n",
            "Sanjay Dutt\n",
            "Julia Datt\n",
            "Sahil Khan\n",
            "Shruti Haasan\n",
            "Nawazuddin Siddiqui\n",
            "Manoj Bajpayee\n",
            "Madhavan\n",
            "Naseeruddin Shah\n",
            "Manish Paul\n",
            "Soundarya Sharma\n",
            "Aamir Khan\n",
            "Randeep Hooda\n",
            "Kangana Ranaut\n",
            "Jackky Bhagnani\n",
            "Amitabh Bachchan\n",
            "Rahul Khanna\n",
            "Ajay Devgn\n",
            "Prince Shah\n",
            "Sunil Shetty\n",
            "Sherlyn Chopra\n",
            "Aftab Shivdasani\n",
            "Kashmira Shah\n",
            "Kangana Ranaut\n",
            "Kalki Koechlin\n",
            "Ankit\n",
            "Sunny Deol\n",
            "Vinod Khanna\n",
            "Garima Agarwal\n",
            "Rajesh Khanna\n",
            "Paresh Rawal\n",
            "Saif Ali Khan\n",
            "Aadil Chahal\n",
            "Farhan Akhtar\n",
            "Arjun Rampal\n",
            "Ranbir Kapoor\n",
            "Ranbir Kapoor\n",
            "John Abraham\n",
            "Irrfan Khan\n",
            "Sunny Deol\n",
            "Tanushree Dutta\n",
            "Tannishtha Chatterjee\n",
            "Arjun Rampal\n",
            "Sanjay Dutt\n",
            "Manoj Bajpayee\n",
            "Tanuja\n",
            "Abhishek Bachchan\n",
            "Arsh Bajwa\n",
            "Emraan Hashmi\n",
            "Ileana D'Cruz\n",
            "Jacqueline Fernandez\n",
            "Taapsee Pannu\n",
            "Tanima Bhattacharya\n",
            "Sonarika Bhadoria\n",
            "Vishwa Mohan Badola\n",
            "Kiron Kher\n",
            "Manoj Bajpayee\n",
            "Vivek Oberoi\n",
            "Salman Khan\n",
            "Rani Mukerji\n",
            "John Abraham\n",
            "Swara Bhaskar\n",
            "Sachin Tendulkar\n",
            "Sarika\n",
            "Karan Sharma\n",
            "Rekha\n",
            "Jimmy Sheirgill\n",
            "Sanjay Dutt\n",
            "Jimmy Sheirgill\n",
            "Anupam Kher\n",
            "Saif Ali Khan\n",
            "Salman Khan\n",
            "Zeenat Aman\n",
            "Sushmita Sen\n",
            "Rajeev Khandelwal\n",
            "Rishi Kapoor\n",
            "Govinda\n",
            "Ranbir Kapoor\n",
            "Kay Kay Menon\n",
            "Boman Irani\n",
            "Randeep Hooda\n",
            "Mahima Chaudhry\n",
            "Amitabh Bachchan\n",
            "Amitabh Bachchan\n",
            "Amitabh Bachchan\n",
            "Suraj Pancholi\n",
            "Sanjay Mishra\n",
            "Raveena Tandon\n",
            "Puneet Singh Ratn\n",
            "Amitabh Bachchan\n",
            "John Abraham\n",
            "Mandar Jadhav\n",
            "Dharmendra\n",
            "Zaira Wasim\n",
            "Akshaye Khanna\n",
            "Arshad Warsi\n",
            "Shreyas Talpade\n",
            "Sanjay Suri\n",
            "Salman Khan\n",
            "Farhan Akhtar\n",
            "Rajkummar Rao\n",
            "Fardeen Khan\n",
            "Akshaye Khanna\n",
            "Shahid Kapoor\n",
            "Aditya Narayan\n",
            "Ashish Bisht\n",
            "Sanjay Dutt\n",
            "Ashutosh Rana\n",
            "Isha Koppikar\n",
            "Nana Patekar\n",
            "Rajkummar Rao\n",
            "Kalki Koechlin\n",
            "Bobby Deol\n",
            "Amitabh Bachchan\n",
            "Emraan Hashmi\n",
            "Zayed Khan\n",
            "Tusshar Kapoor\n",
            "Tarun Arora\n",
            "Neha Dhupia\n",
            "Ajay Devgn\n",
            "Aida Elkashef\n",
            "Freny Bhagat\n",
            "Mohit Ahlawat\n",
            "Ajay Devgn\n",
            "Sanjeev Kumar\n",
            "Amitabh Bachchan\n",
            "Sendhil Ramamurthy\n",
            "Jimmy Sheirgill\n",
            "Neil Nitin Mukesh\n",
            "Jimmy Sheirgill\n",
            "Sanjay Dutt\n",
            "Tushar Jalota\n",
            "Ayushmann Khurrana\n",
            "Sushant Singh Rajput\n",
            "Anupam Kher\n",
            "Rajesh Tailang\n",
            "Parzaan Dastur\n",
            "Tabu\n",
            "Ranveer Singh\n",
            "Kangana Ranaut\n",
            "Akshay Kumar\n",
            "Akshay Kumar\n",
            "Sunny Deol\n",
            "Ajay Devgn\n",
            "Anupam Kher\n",
            "Kay Kay Menon\n",
            "Wamiqa Gabbi\n",
            "Barkha Madan\n",
            "Abhay Deol\n",
            "Ajay Devgn\n",
            "Rhea Chakraborty\n",
            "Sushant Singh Rajput\n",
            "Geetika Vidya Ohlyan\n",
            "Sunidhi Chauhan\n",
            "Kartik Aaryan\n",
            "Tinnu Anand\n",
            "Shabana Azmi\n",
            "Shamim Khan\n",
            "Mahima Chaudhry\n",
            "Rati Agnihotri\n",
            "Akshay Kumar\n",
            "Urmila Matondkar\n",
            "Tanishaa Mukerji\n",
            "Aarti Chhabria\n",
            "Partho A. Gupte\n",
            "Kanika Batra\n",
            "Jahangir Khan\n",
            "Jimmy Sheirgill\n",
            "Rajkummar Rao\n",
            "Siddharth\n",
            "Zeenat Aman\n",
            "Alia Bhatt\n",
            "Tiger Shroff\n",
            "Raveena Tandon\n",
            "Anushka Sharma\n",
            "Gurdas Maan\n",
            "Naveen Kasturia\n",
            "Salman Khan\n",
            "Ahraz Ahmed\n",
            "Ajay Devgn\n",
            "Jaya Bachchan\n",
            "Aftab Shivdasani\n",
            "Hrithik Roshan\n",
            "Ashmit Patel\n",
            "Rekha\n",
            "Shah Rukh Khan\n",
            "Manoj Bajpayee\n",
            "Himansh Kohli\n",
            "Saif Ali Khan\n",
            "Darsheel Safary\n",
            "Vatsal Sheth\n",
            "Paresh Rawal\n",
            "Victor Banerjee\n",
            "Zulfi Sayed\n",
            "Sulabha Arya\n",
            "Aamir Khan\n",
            "Rakhee Gulzar\n",
            "Irrfan Khan\n",
            "Nikhil Dwivedi\n",
            "Ajay Devgn\n",
            "Madhavan\n",
            "Kangana Ranaut\n",
            "Kangana Ranaut\n",
            "Akshay Kumar\n",
            "Sanjay Dutt\n",
            "Nana Patekar\n",
            "Amitabh Bachchan\n",
            "Amitabh Bachchan\n",
            "Om Puri\n",
            "Akshay Kumar\n",
            "Sunny Deol\n",
            "Shabana Azmi\n",
            "Dharmendra\n",
            "Neil Nitin Mukesh\n",
            "Ali Zafar\n",
            "Parthaa Akerkar\n",
            "Vinay Pathak\n",
            "Riteish Deshmukh\n",
            "Salman Khan\n",
            "Shahid Kapoor\n",
            "Arjun Kapoor\n",
            "Anil Kapoor\n",
            "Nawazuddin Siddiqui\n",
            "Akshay Kumar\n",
            "Master Shams\n",
            "Anupam Kher\n",
            "Pankaj Kapur\n",
            "Kartik Elangovan\n",
            "Nawazuddin Siddiqui\n",
            "Vidya Balan\n",
            "Nassar Abdulla\n",
            "Ranvir Shorey\n",
            "Kunaal Roy Kapur\n",
            "Rana Daggubati\n",
            "Sunny Deol\n",
            "Rahul Bose\n",
            "Shakti Kapoor\n",
            "Irrfan Khan\n",
            "Amitabh Bachchan\n",
            "Irrfan Khan\n",
            "Kal Penn\n",
            "Edwin Fernandes\n",
            "Akshay Kumar\n",
            "Mann Bagga\n",
            "Zaira Wasim\n",
            "Kay Kay Menon\n",
            "Naseeruddin Shah\n",
            "Emraan Hashmi\n",
            "Himesh Reshammiya\n",
            "Sonam Kapoor\n",
            "Bhavita Anand\n",
            "Saif Ali Khan\n",
            "Arya Babbar\n",
            "Saahil Chadha\n",
            "Aamir Khan\n",
            "Salman Khan\n",
            "Nawazuddin Siddiqui\n",
            "Nishant Dahiya\n",
            "Tabu\n",
            "Akshay Kumar\n",
            "Rakesh Bedi\n",
            "Ajay Devgn\n",
            "Ajay Devgn\n",
            "Ali Zafar\n",
            "Manoj Bajpayee\n",
            "Kunal Khemu\n",
            "Rajkummar Rao\n",
            "Vikrum Kumar\n",
            "Salman Khan\n",
            "Riteish Deshmukh\n",
            "Manisha Koirala\n",
            "Neha Sharma\n",
            "Emraan Hashmi\n",
            "Nana Patekar\n",
            "Sohum Shah\n",
            "Vidya Balan\n",
            "Emraan Hashmi\n",
            "Gul Panag\n",
            "Ajay Devgn\n",
            "Mikaal\n",
            "Rajat Barmecha\n",
            "Shahid Kapoor\n",
            "Rahul Bhat\n",
            "Sunny Singh Nijjar\n",
            "Jimmy Sheirgill\n",
            "Aishwarya Rai Bachchan\n",
            "Aashish Bhatt\n",
            "Emraan Hashmi\n",
            "Rahul Bhat\n",
            "Russell Geoffrey Banks\n",
            "Vicky Kaushal\n",
            "Vinay Pathak\n",
            "Priyanshu Chatterjee\n",
            "Mohit Baghel\n",
            "Arjun Rampal\n",
            "Bobby Deol\n",
            "Shahid Kapoor\n",
            "Vicky Ahuja\n",
            "Shikhi Gupta\n",
            "Salman Khan\n",
            "Shah Rukh Khan\n",
            "Sachiin Joshi\n",
            "Pulkit Samrat\n",
            "Kay Kay Menon\n",
            "Hugh Bonneville\n",
            "Ayushmann Khurrana\n",
            "Harman Baweja\n",
            "Vikram Aditya\n",
            "Amitabh Bachchan\n",
            "Kamal Haasan\n",
            "Shahid Kapoor\n",
            "Kay Kay Menon\n",
            "Leeza Mangaldas\n",
            "Niharica Raizada\n",
            "Rajesh Khanna\n",
            "Shreyas Talpade\n",
            "Arshad Warsi\n",
            "Naseeruddin Shah\n",
            "Sharman Joshi\n",
            "Elisha Kriis\n",
            "Ranbir Kapoor\n",
            "Salman Khan\n",
            "Amitabh Bachchan\n",
            "Sharman Joshi\n",
            "Gurdas Maan\n",
            "Nana Patekar\n",
            "Diganth\n",
            "Akshay Kumar\n",
            "Arshad Warsi\n",
            "Anil Kapoor\n",
            "Shreyas Talpade\n",
            "Boman Irani\n",
            "Manu Rishi Chadha\n",
            "Harman Baweja\n",
            "Emraan Hashmi\n",
            "Kangana Ranaut\n",
            "Sikander Kher\n",
            "Sharman Joshi\n",
            "Indrapal Ahuja\n",
            "Siddhanth Kapoor\n",
            "Prisha Aneja\n",
            "Arjun Rampal\n",
            "Nafisa Ali\n",
            "Dharmendra\n",
            "Rekha\n",
            "Tusshar Kapoor\n",
            "Deepshika Nagpal\n",
            "Anshuman Jha\n",
            "Gavie Chahal\n",
            "Ranbir Kapoor\n",
            "Anya Anand\n",
            "Shah Rukh Khan\n",
            "Anupam Kher\n",
            "Vardhan Puri\n",
            "Jackky Bhagnani\n",
            "Paresh Rawal\n",
            "Ajay Devgn\n",
            "Salman Khan\n",
            "Jeetendra\n",
            "Ajay Devgn\n",
            "Ajay Devgn\n",
            "Vinod Acharya\n",
            "Emraan Hashmi\n",
            "Shah Rukh Khan\n",
            "Mannara Chopra\n",
            "Vivek Oberoi\n",
            "Sanjay Dutt\n",
            "Sushmita Sen\n",
            "Veena Malik\n",
            "Hrithik Roshan\n",
            "Mithun Chakraborty\n",
            "Darsheel Safary\n",
            "Meghan Jadhav\n"
          ]
        }
      ]
    },
    {
      "cell_type": "code",
      "source": [
        "# if we want to do loops on index we have to use .index\n",
        "for i in movie.index:\n",
        "  print(i)"
      ],
      "metadata": {
        "id": "AEWaxODrjDod",
        "outputId": "1b999c41-742f-40fc-bcd9-e63ec8c094d3",
        "colab": {
          "base_uri": "https://localhost:8080/"
        }
      },
      "execution_count": 109,
      "outputs": [
        {
          "output_type": "stream",
          "name": "stdout",
          "text": [
            "1920 (film)\n",
            "1920: London\n",
            "1920: The Evil Returns\n",
            "1971 (2007 film)\n",
            "2 States (2014 film)\n",
            "22 Yards\n",
            "3 A.M. (2014 film)\n",
            "3 Deewarein\n",
            "3 Idiots\n",
            "3 Storeys\n",
            "31st October (film)\n",
            "36 China Town\n",
            "3G (film)\n",
            "404 (film)\n",
            "5 Weddings\n",
            "68 Pages\n",
            "7 Hours to Go\n",
            "7 Khoon Maaf\n",
            "7½ Phere\n",
            "88 Antop Hill\n",
            "99 (2009 film)\n",
            "99.9 FM (film)\n",
            "?: A Question Mark\n",
            "A Decent Arrangement\n",
            "A Flat (film)\n",
            "A Flying Jatt\n",
            "A Gentleman\n",
            "ABCD 2\n",
            "Aa Dekhen Zara\n",
            "Aa Gaya Hero\n",
            "Aabra Ka Daabra\n",
            "Aag (2007 film)\n",
            "Aagey Se Right\n",
            "Aaj Ka Andha Kanoon\n",
            "Aaja Nachle\n",
            "Aakhari Decision\n",
            "Aakrosh (2010 film)\n",
            "Aalaap (film)\n",
            "Aan: Men at Work\n",
            "Aanch\n",
            "Aankhen (2002 film)\n",
            "Aap Kaa Surroor\n",
            "Aap Ki Khatir (2006 film)\n",
            "Aapko Pehle Bhi Kahin Dekha Hai\n",
            "Aarakshan\n",
            "Aashayein\n",
            "Aashiq Banaya Aapne\n",
            "Aashiqui 2\n",
            "Aashiqui.in\n",
            "Aasma: The Sky Is the Limit\n",
            "Aazaan\n",
            "Ab Tak Chhappan 2\n",
            "Ab Tumhare Hawale Watan Saathiyo\n",
            "Accident on Hill Road\n",
            "Acid Factory\n",
            "Action Jackson (2014 film)\n",
            "Action Replayy\n",
            "Adharm (2006 film)\n",
            "Ae Dil Hai Mushkil\n",
            "Aetbaar\n",
            "Agent Vinod (2012 film)\n",
            "Aggar (film)\n",
            "Agneepath (2012 film)\n",
            "Agnipankh\n",
            "Ahista Ahista (2006 film)\n",
            "Airlift (film)\n",
            "Aisa Kyon Hota Hai?\n",
            "Aisa Yeh Jahaan\n",
            "Aitraaz\n",
            "Aiyaary\n",
            "Aiyyaa\n",
            "Ajab Gazabb Love\n",
            "Ajab Prem Ki Ghazab Kahani\n",
            "Ajji\n",
            "Akaash Vani\n",
            "Aksar\n",
            "Aksar 2\n",
            "Aladin (film)\n",
            "Alag\n",
            "Albert Pinto Ko Gussa Kyun Aata Hai?\n",
            "Aligarh (film)\n",
            "All Is Well (2015 film)\n",
            "All the Best: Fun Begins\n",
            "Allah Ke Banday\n",
            "Alone (2015 Hindi film)\n",
            "Aloo Chaat (film)\n",
            "Always Kabhi Kabhi\n",
            "Amavas\n",
            "Amit Sahni Ki List\n",
            "Anaarkali of Aarah\n",
            "Anamika (2008 film)\n",
            "Andaaz\n",
            "Andaaz\n",
            "Andhadhun\n",
            "Angel (2011 film)\n",
            "Anjaana Anjaani\n",
            "Anjaane (2005 film)\n",
            "Ankahee (2006 film)\n",
            "Ankhon Dekhi\n",
            "Ankur Arora Murder Case\n",
            "Anna (2016 film)\n",
            "Antardwand\n",
            "Anthony Kaun Hai?\n",
            "Anuradha (2014 film)\n",
            "Anwar (2007 film)\n",
            "Apaharan\n",
            "Apartment (film)\n",
            "Apna Asmaan\n",
            "Apna Sapna Money Money\n",
            "Apne\n",
            "Arjun Patiala\n",
            "Arjun: The Warrior Prince\n",
            "Armaan (2003 film)\n",
            "Article 15 (film)\n",
            "Aryan: Unbreakable\n",
            "Asambhav\n",
            "Ata Pata Laapata\n",
            "Aur Pappu Paas Ho Gaya\n",
            "Aurangzeb (film)\n",
            "Aval (2017 film)\n",
            "Awara Paagal Deewana\n",
            "Awarapan\n",
            "Azhar (film)\n",
            "B.A. Pass\n",
            "Baabarr\n",
            "Baabul (2006 film)\n",
            "Baaghi (2016 film)\n",
            "Baaghi 2\n",
            "Baar Baar Dekho\n",
            "Baat Bann Gayi\n",
            "Baaz: A Bird in Danger\n",
            "Baazaar\n",
            "Babloo Happy Hai\n",
            "Babuji Ek Ticket Bambai\n",
            "Babumoshai Bandookbaaz\n",
            "Baby (2015 Hindi film)\n",
            "Bachche Kachche Sachche\n",
            "Bachke Rehna Re Baba\n",
            "Bachna Ae Haseeno\n",
            "Badhaai Ho\n",
            "Badla (2019 film)\n",
            "Badlapur (film)\n",
            "Badlapur Boys\n",
            "Badmashiyaan\n",
            "Badrinath Ki Dulhania\n",
            "Baghban (2003 film)\n",
            "Bajatey Raho\n",
            "Bajirao Mastani\n",
            "Bajrangi Bhaijaan\n",
            "Bala (2019 film)\n",
            "Balwinder Singh Famous Ho Gaya\n",
            "Banaras (2006 film)\n",
            "Band Baaja Baaraat\n",
            "Bandook\n",
            "Bang Bang!\n",
            "Bangistan\n",
            "Banjo (2016 film)\n",
            "Bank Chor\n",
            "Barah Aana\n",
            "Bardaasht\n",
            "Bareilly Ki Barfi\n",
            "Barfi!\n",
            "Barkhaa\n",
            "Barsaat (2005 film)\n",
            "Bas Ek Pal\n",
            "Basti (film)\n",
            "Batla House\n",
            "Battalion 609\n",
            "Batti Gul Meter Chalu\n",
            "Bazaar E Husn\n",
            "Bbuddah... Hoga Terra Baap\n",
            "Befikre\n",
            "Begum Jaan\n",
            "Behen Hogi Teri\n",
            "Beiimaan Love\n",
            "Being Cyrus\n",
            "Bewafaa (2005 film)\n",
            "Bewakoofiyaan\n",
            "Beyond the Clouds (2017 film)\n",
            "Bezubaan Ishq\n",
            "Bhaag Johnny\n",
            "Bhaag Milkha Bhaag\n",
            "Bhagam Bhag\n",
            "Bhagmati (2005 film)\n",
            "Bhaiaji Superhit\n",
            "Bhanwarey\n",
            "Bhavesh Joshi Superhero\n",
            "Bheja Fry (film)\n",
            "Bheja Fry 2\n",
            "Bhola in Bollywood\n",
            "Bhool Bhulaiyaa\n",
            "Bhoomi (film)\n",
            "Bhoot (film)\n",
            "Bhoot Returns\n",
            "Bhoot Unkle\n",
            "Bhoothnath\n",
            "Bhoothnath Returns\n",
            "Bhopal: A Prayer for Rain\n",
            "Bhram\n",
            "Big Brother (2007 film)\n",
            "Billu\n",
            "Bin Bulaye Baraati\n",
            "Bioscopewala\n",
            "Bittoo Boss\n",
            "Black (2005 film)\n",
            "Black Friday (2007 film)\n",
            "Blackmail (2005 film)\n",
            "Blood Brothers (2007 Indian film)\n",
            "Blood Money (2012 film)\n",
            "Bloody Isshq\n",
            "Blue (2009 film)\n",
            "Bluffmaster!\n",
            "Bobby Jasoos\n",
            "Bodyguard (2011 Hindi film)\n",
            "Bol Bachchan\n",
            "Bollywood Diaries\n",
            "Bombairiya\n",
            "Bombay Talkies (film)\n",
            "Bombay Velvet\n",
            "Bombay to Bangkok\n",
            "Bombay to Goa (2007 film)\n",
            "Boom (film)\n",
            "Border (1997 film)\n",
            "Boss (2013 Hindi film)\n",
            "Brahman Naman\n",
            "Break Ke Baad\n",
            "Breakaway (2011 film)\n",
            "Brij Mohan Amar Rahe\n",
            "Brothers (2015 film)\n",
            "Bubble Gum (film)\n",
            "Buddha Mar Gaya\n",
            "Buddha in a Traffic Jam\n",
            "Bullet: Ek Dhamaka\n",
            "Bullett Raja\n",
            "Bumboo\n",
            "Bumm Bumm Bole\n",
            "Bumper Draw\n",
            "Bunty Aur Babli\n",
            "Bypass Road (film)\n",
            "C Kkompany\n",
            "Calapor (film)\n",
            "Calcutta Mail\n",
            "Calendar Girls (2015 film)\n",
            "Cash (2007 film)\n",
            "Chaahat – Ek Nasha\n",
            "Chaalis Chauraasi\n",
            "Chaar Din Ki Chandni\n",
            "Chaarfutiya Chhokare\n",
            "Chak De! India\n",
            "Chakravyuh (2012 film)\n",
            "Chal Chala Chal\n",
            "Chal Pichchur Banate Hain\n",
            "Chalk n Duster\n",
            "Challo Driver\n",
            "Chalo Dilli\n",
            "Chalte Chalte (2003 film)\n",
            "Chameli (film)\n",
            "Chamku\n",
            "Chance Pe Dance\n",
            "Chand Ke Paar Chalo (film)\n",
            "Chand Sa Roshan Chehra\n",
            "Chandni Chowk to China\n",
            "Charas (2004 film)\n",
            "Chargesheet (film)\n",
            "Chase (2010 film)\n",
            "Chashme Baddoor (2013 film)\n",
            "Chatur Singh Two Star\n",
            "Cheeni Kum\n",
            "Chef (2017 film)\n",
            "Chehraa\n",
            "Chennai Express\n",
            "Chetna: The Excitement\n",
            "Chhodon Naa Yaar\n",
            "Chhota Bheem and the Throne of Bali\n",
            "Chicken Curry Law\n",
            "Children of Heaven\n",
            "Children of War (2014 film)\n",
            "Chillar Party\n",
            "Chinar Daastaan-E-Ishq\n",
            "Chingaari\n",
            "Chintu Ji\n",
            "Chittagong (film)\n",
            "Chocolate (2005 film)\n",
            "Chor Chor Super Chor\n",
            "Chori Chori (2003 film)\n",
            "Chup Chup Ke\n",
            "Chura Liyaa Hai Tumne\n",
            "Cigarette Ki Tarah\n",
            "City of Gold (2010 film)\n",
            "CityLights (2014 film)\n",
            "Classic – Dance of Love\n",
            "Click (2010 film)\n",
            "Cocktail (2012 film)\n",
            "Coffee Bloom\n",
            "Coffee with D\n",
            "Commando 3 (film)\n",
            "Commando: A One Man Army\n",
            "Company (film)\n",
            "Contract (2008 film)\n",
            "Corporate (2006 film)\n",
            "Court (film)\n",
            "Crazy Cukkad Family\n",
            "Creature 3D\n",
            "Crook (film)\n",
            "D (film)\n",
            "D-Day (2013 film)\n",
            "Daas Dev\n",
            "Daawat-e-Ishq\n",
            "Dabangg\n",
            "Dabangg 2\n",
            "Dabangg 3\n",
            "Daddy (2017 film)\n",
            "Daddy Cool (2009 Hindi film)\n",
            "Damadamm!\n",
            "Dangal (film)\n",
            "Dangerous Ishhq\n",
            "Darling (2007 Indian film)\n",
            "Darna Mana Hai\n",
            "Darna Zaroori Hai\n",
            "Darr @ the Mall\n",
            "Darwaaza Bandh Rakho\n",
            "Dassehra\n",
            "Dasvidaniya\n",
            "Days of Tafree\n",
            "De Dana Dan\n",
            "De De Pyaar De\n",
            "De Taali\n",
            "Deadline: Sirf 24 Ghante\n",
            "Dear Dad (film)\n",
            "Dear Friend Hitler\n",
            "Dear Maya\n",
            "Dear Zindagi\n",
            "Dedh Ishqiya\n",
            "Deewaar (2004 film)\n",
            "Deewane Huye Paagal\n",
            "Dehraadun Diary\n",
            "Dekh Tamasha Dekh\n",
            "Delhi Belly (film)\n",
            "Delhi Safari\n",
            "Delhi-6\n",
            "Department (film)\n",
            "Deshdrohi\n",
            "Desi Boyz\n",
            "Desi Kattey\n",
            "Detective Byomkesh Bakshy!\n",
            "Dev (2004 film)\n",
            "Devaki (2005 film)\n",
            "Devdas (2002 Hindi film)\n",
            "Devi (2016 film)\n",
            "Dhadak\n",
            "Dhamaal\n",
            "Dhanak\n",
            "Dharam Sankat Mein\n",
            "Dharm (film)\n",
            "Dharti Kahe Pukar Ke (2006 film)\n",
            "Dhobi Ghat (film)\n",
            "Dhokha\n",
            "Dhol (film)\n",
            "Dhoom\n",
            "Dhoom 2\n",
            "Dhoom 3\n",
            "Dhoondte Reh Jaaoge\n",
            "Dhoop\n",
            "Dhund (2003 film)\n",
            "Dil Bechara\n",
            "Dil Bechara Pyaar Ka Maara\n",
            "Dil Bole Hadippa!\n",
            "Dil Dhadakne Do\n",
            "Dil Diya Hai\n",
            "Dil Dosti Etc\n",
            "Dil Jo Bhi Kahey...\n",
            "Dil Jo Na Keh Saka\n",
            "Dil Juunglee\n",
            "Dil Ka Rishta\n",
            "Dil Kabaddi\n",
            "Dil Maange More\n",
            "Dil Ne Jise Apna Kahaa\n",
            "Dil Pardesi Ho Gayaa\n",
            "Dil Toh Baccha Hai Ji\n",
            "Dil Toh Deewana Hai\n",
            "Dilliwali Zaalim Girlfriend\n",
            "Dilwale (2015 film)\n",
            "Direct Ishq\n",
            "Dirty Politics (film)\n",
            "Dishkiyaoon\n",
            "Dishoom\n",
            "Do Dooni Chaar\n",
            "Do Lafzon Ki Kahani (film)\n",
            "Dobaara: See Your Evil\n",
            "Dobara\n",
            "Dolly Ki Doli\n",
            "Don (2006 Hindi film)\n",
            "Don 2\n",
            "Don Muthu Swami\n",
            "Don't Stop Dreaming\n",
            "Dongari Ka Raja\n",
            "Dor (film)\n",
            "Dostana (2008 film)\n",
            "Dosti: Friends Forever\n",
            "Double Cross (2005 film)\n",
            "Double Dhamaal\n",
            "Dream Girl (2019 film)\n",
            "Dreams (2006 film)\n",
            "Drishyam (2015 film)\n",
            "Drona (2008 film)\n",
            "Dude Where's the Party?\n",
            "Dulha Mil Gaya\n",
            "Dum (2003 Hindi film)\n",
            "Dum Laga Ke Haisha\n",
            "Dum Maaro Dum (film)\n",
            "Dunno Y... Na Jaane Kyon\n",
            "Dus\n",
            "Dus Kahaniyaan\n",
            "Eight: The Power of Shani\n",
            "Ek Ajnabee\n",
            "Ek Alag Mausam\n",
            "Ek Aur Ek Gyarah\n",
            "Ek Chalis Ki Last Local\n",
            "Ek Din 24 Ghante\n",
            "Ek Haseena Thi Ek Deewana Tha\n",
            "Ek Hasina Thi (film)\n",
            "Ek Kahani Julie Ki\n",
            "Ek Khiladi Ek Haseena (film)\n",
            "Ek Main Aur Ekk Tu\n",
            "Ek Paheli Leela\n",
            "Ek Se Badhkar Ek (2004 film)\n",
            "Ek Se Bure Do\n",
            "Ek Second... Jo Zindagi Badal De?\n",
            "Ek Tha Tiger\n",
            "Ek Thi Daayan\n",
            "Ek Thi Rani Aisi Bhi\n",
            "Ek Villain\n",
            "Ek Vivaah... Aisa Bhi\n",
            "Ek: The Power of One\n",
            "Ekk Deewana Tha\n",
            "Ekkees Toppon Ki Salaami\n",
            "Eklavya: The Royal Guard\n",
            "Elaan (2005 film)\n",
            "Enemmy\n",
            "English Vinglish\n",
            "Entertainment (2014 film)\n",
            "Escape from Taliban\n",
            "Evening Shadows\n",
            "F.A.L.T.U\n",
            "Family (2006 film)\n",
            "Family of Thakurganj\n",
            "Familywala\n",
            "Fan (film)\n",
            "Fanaa (2006 film)\n",
            "Fareb (2005 film)\n",
            "Fashion (2008 film)\n",
            "Fatso!\n",
            "Ferrari Ki Sawaari\n",
            "Fever (2016 film)\n",
            "Fida\n",
            "Fight Club – Members Only\n",
            "Filmistaan\n",
            "Finding Fanny\n",
            "Firaaq\n",
            "Firangi\n",
            "Fitoor\n",
            "Flat 211\n",
            "Flavors (film)\n",
            "Fool & Final\n",
            "Footpath (2003 film)\n",
            "Force (2011 film)\n",
            "Force 2\n",
            "Fox (film)\n",
            "Fraud Saiyaan\n",
            "Freaky Ali\n",
            "Fredrick (film)\n",
            "From Sydney with Love\n",
            "Fruit and Nut (film)\n",
            "FryDay\n",
            "Fuddu\n",
            "Fugly (film)\n",
            "Fukrey\n",
            "Fukrey Returns\n",
            "Fun – Can Be Dangerous Sometimes\n",
            "Fun2shh... Dudes in the 10th Century\n",
            "G Kutta Se\n",
            "Gabbar Is Back\n",
            "Gabbar Is Back\n",
            "Gali Guleiyan\n",
            "Game (2011 film)\n",
            "Gandhi My Father\n",
            "Gang of Ghosts\n",
            "Gangaajal\n",
            "Gangoobai\n",
            "Gangs of Wasseypur\n",
            "Gangs of Wasseypur – Part 2\n",
            "Gangster (2006 film)\n",
            "Garam Masala (2005 film)\n",
            "Garv: Pride & Honour\n",
            "Gattu\n",
            "Gauri: The Unborn\n",
            "Gayab\n",
            "Genius (2018 Hindi film)\n",
            "Ghajini (2008 film)\n",
            "Ghanchakkar (film)\n",
            "Ghayal: Once Again\n",
            "Ghost (2012 film)\n",
            "Ghost (2019 film)\n",
            "Gippi\n",
            "Girlfriend (2004 film)\n",
            "Global Baba\n",
            "Go (2007 film)\n",
            "Go Goa Gone\n",
            "Goal (2007 Hindi film)\n",
            "God Tussi Great Ho\n",
            "Gold (2018 film)\n",
            "Goliyon Ki Raasleela Ram-Leela\n",
            "Gollu Aur Pappu\n",
            "Golmaal Again\n",
            "Golmaal Returns\n",
            "Golmaal: Fun Unlimited\n",
            "Gone Kesh\n",
            "Good Boy Bad Boy\n",
            "Good Newwz\n",
            "Gori Tere Pyaar Mein\n",
            "Gour Hari Dastaan\n",
            "Grand Masti\n",
            "Great Grand Masti\n",
            "Green Card Fever\n",
            "Guddu Ki Gun\n",
            "Guddu Rangeela\n",
            "Guest iin London\n",
            "Gulaab Gang\n",
            "Gulaal (film)\n",
            "Gulabi Gang (film)\n",
            "Gully Boy\n",
            "Gumnaam – The Mystery\n",
            "Gunday\n",
            "Guru (2007 film)\n",
            "Guzaarish (film)\n",
            "Haal-e-Dil\n",
            "Haasil\n",
            "Hai Apna Dil Toh Awara\n",
            "Haider (film)\n",
            "Half Girlfriend (film)\n",
            "Halkaa\n",
            "Halla Bol\n",
            "Hamari Adhuri Kahani\n",
            "Hamid (film)\n",
            "Hanuman (2005 film)\n",
            "Happy Bhag Jayegi\n",
            "Happy Ending (film)\n",
            "Happy Husbands (2011 film)\n",
            "Happy New Year (2014 film)\n",
            "Happy Phirr Bhag Jayegi\n",
            "Haraamkhor\n",
            "Hari Puttar: A Comedy of Terrors\n",
            "Hasee Toh Phasee\n",
            "Haseena Parkar\n",
            "Hastey Hastey\n",
            "Hate Story\n",
            "Hate Story 2\n",
            "Hate Story 4\n",
            "Hattrick (film)\n",
            "Hatya (2004 film)\n",
            "Haunted – 3D\n",
            "Hava Aney Dey\n",
            "Hawa (film)\n",
            "Hawaa Hawaai\n",
            "Hawaizaada\n",
            "Hawas (2004 film)\n",
            "Hawayein\n",
            "Hazaaron Khwaishein Aisi\n",
            "Heartless (2014 film)\n",
            "Helicopter Eela\n",
            "Hello (2008 film)\n",
            "Hello Darling\n",
            "Help (film)\n",
            "Hero (2015 Hindi film)\n",
            "Heroes (2008 film)\n",
            "Heroine (2012 film)\n",
            "Heropanti\n",
            "Hey Bro\n",
            "Heyy Babyy\n",
            "Hichki\n",
            "High Jack (film)\n",
            "Highway (2014 Hindi film)\n",
            "Himmatwala (2013 film)\n",
            "Hind Ka Napak Ko Jawab: MSG Lion Heart 2\n",
            "Hindi Medium\n",
            "Hisss\n",
            "Holiday (2006 film)\n",
            "Holiday: A Soldier Is Never Off Duty\n",
            "Home Delivery\n",
            "Honeymoon Travels Pvt. Ltd.\n",
            "Honour Killing (film)\n",
            "Hope Aur Hum\n",
            "Horror Story (film)\n",
            "Hostel (2011 film)\n",
            "Hotel Salvation\n",
            "Housefull (2010 film)\n",
            "Housefull 2\n",
            "Housefull 4\n",
            "Hulchul (2004 film)\n",
            "Hum Chaar\n",
            "Hum Hai Raahi Car Ke\n",
            "Hum Tum\n",
            "Hum Tum Aur Ghost\n",
            "Hum Tum Shabana\n",
            "Hum Tumhare Hain Sanam\n",
            "Hume Tumse Pyaar Kitna\n",
            "Humko Deewana Kar Gaye\n",
            "Humko Tumse Pyaar Hai\n",
            "Humne Jeena Seekh Liya\n",
            "Humpty Sharma Ki Dulhania\n",
            "Humshakals\n",
            "Hungama (2003 film)\n",
            "Hunterrr\n",
            "Hyderabad Blues 2\n",
            "I Am (2010 Indian film)\n",
            "I Am Kalam\n",
            "I Hate Luv Storys\n",
            "I Love Desi\n",
            "I Love NY (2015 film)\n",
            "I Proud to Be an Indian\n",
            "I See You (2006 film)\n",
            "Impatient Vivek\n",
            "India's Most Wanted (film)\n",
            "Indian Babu\n",
            "Indu Sarkar\n",
            "Inkaar (2013 film)\n",
            "Insaaf: The Justice\n",
            "Insan\n",
            "Inteha (2003 film)\n",
            "Inteqam: The Perfect Game\n",
            "Iqbal (film)\n",
            "Iqraar by Chance\n",
            "Irada (2017 film)\n",
            "Irudhi Suttru\n",
            "Ishaqzaade\n",
            "Ishkq in Paris\n",
            "Ishq Click\n",
            "Ishq Forever\n",
            "Ishq Hai Tumse\n",
            "Ishq Ke Parindey\n",
            "Ishq Vishk\n",
            "Ishqedarriyaan\n",
            "Ishqeria\n",
            "Ishqiya\n",
            "Isi Life Mein\n",
            "Island City (2015 film)\n",
            "Issaq\n",
            "It's a Wonderful Afterlife\n",
            "JD (film)\n",
            "Jaal: The Trap\n",
            "Jaan-E-Mann\n",
            "Jaane Hoga Kya\n",
            "Jaane Kahan Se Aayi Hai\n",
            "Jaane Kyun De Yaaron\n",
            "Jab Harry Met Sejal\n",
            "Jab Tak Hai Jaan\n",
            "Jab We Met\n",
            "Jabariya Jodi\n",
            "Jack and Dil\n",
            "Jackpot (2013 film)\n",
            "Jagga Jasoos\n",
            "Jahan Jaaeyega Hamen Paaeyega\n",
            "Jai Chiranjeeva\n",
            "Jai Gangaajal\n",
            "Jai Ho (film)\n",
            "Jai Jawaan Jai Kisaan (film)\n",
            "Jai Veeru\n",
            "Jail (2009 film)\n",
            "Jajantaram Mamantaram\n",
            "Jal (film)\n",
            "Jalebi (film)\n",
            "Jalpari: The Desert Mermaid\n",
            "James (2005 film)\n",
            "Janasheen\n",
            "Jannat (film)\n",
            "Jattu Engineer\n",
            "Jawani Diwani: A Youthful Joyride\n",
            "Jayantabhai Ki Luv Story\n",
            "Jazbaa\n",
            "Jeena Hai Toh Thok Daal\n",
            "Jeena Isi Ka Naam Hai (film)\n",
            "Jhalki\n",
            "Jhankaar Beats\n",
            "Jhoom Barabar Jhoom\n",
            "Jhootha Hi Sahi\n",
            "Jhootha Kahin Ka\n",
            "Jia Aur Jia\n",
            "Jigariyaa\n",
            "Jigyaasa\n",
            "Jimmy (2008 film)\n",
            "Jism (2003 film)\n",
            "Jo Bole So Nihaal (film)\n",
            "Jo Hum Chahein\n",
            "Jodhaa Akbar\n",
            "Jodi Breakers\n",
            "Joggers' Park (film)\n",
            "John Day (film)\n",
            "Johnny Gaddaar\n",
            "Joker (2012 film)\n",
            "Jolly LLB\n",
            "Judgementall Hai Kya\n",
            "Judwaa 2\n",
            "Jugni (2016 film)\n",
            "Julie (2004 film)\n",
            "Julie 2\n",
            "Junglee (2019 film)\n",
            "Junooniyat\n",
            "Jurm (2005 film)\n",
            "Just Married (2007 film)\n",
            "Kaabil\n",
            "Kaagaz Ke Fools\n",
            "Kaal (2005 film)\n",
            "Kaalakaandi\n",
            "Kaalo\n",
            "Kaanchi: The Unbreakable\n",
            "Kaante\n",
            "Kaashi in Search of Ganga\n",
            "Kabhi Alvida Naa Kehna\n",
            "Kabir Singh\n",
            "Kabul Express\n",
            "Kadvi Hawa\n",
            "Kagaar: Life on the Edge\n",
            "Kahaani\n",
            "Kahin Hai Mera Pyar\n",
            "Kai Po Che!\n",
            "Kaise Kahoon Ke... Pyaar Hai\n",
            "Kal Ho Naa Ho\n",
            "Kalank\n",
            "Kalyug (2005 film)\n",
            "Kaminey\n",
            "Kapoor & Sons\n",
            "Karam (film)\n",
            "Karar: The Deal\n",
            "Karle Pyaar Karle\n",
            "Karma Aur Holi\n",
            "Karthik Calling Karthik\n",
            "Karwaan\n",
            "Karzzzz\n",
            "Kasak (2005 film)\n",
            "Kash Aap Hamare Hote\n",
            "Katti Batti\n",
            "Kaun Hai Jo Sapno Mein Aaya\n",
            "Kaun Kitne Paani Mein\n",
            "Keep Safe Distance (film)\n",
            "Kesari (film)\n",
            "Khajoor Pe Atke\n",
            "Khakee\n",
            "Khamosh Pani\n",
            "Khamoshh... Khauff Ki Raat\n",
            "Khamoshi (2019 film)\n",
            "Khamoshiyan\n",
            "Khap (film)\n",
            "Khatta Meetha (2010 film)\n",
            "Khel Toh Ab Shuru Hoga\n",
            "Khel – No Ordinary Game\n",
            "Khichdi: The Movie\n",
            "Khoobsurat (2014 film)\n",
            "Khosla Ka Ghosla\n",
            "Khoya Khoya Chand\n",
            "Khuda Kasam\n",
            "Khushi (2003 Hindi film)\n",
            "Khwaabb\n",
            "Khwahish\n",
            "Ki & Ka\n",
            "Kick (2014 film)\n",
            "Kill Dil\n",
            "Kis Kis Ki Kismat\n",
            "Kis Kisko Pyaar Karoon\n",
            "Kisaan\n",
            "Kismat (2004 film)\n",
            "Kismat Konnection\n",
            "Kismat Love Paisa Dilli\n",
            "Kisna: The Warrior Poet\n",
            "Kisse Pyaar Karoon\n",
            "Kites (film)\n",
            "Knock Out (2010 film)\n",
            "Koi Aap Sa\n",
            "Koi Mere Dil Mein Hai\n",
            "Koi... Mil Gaya\n",
            "Koyelaanchal\n",
            "Krazzy 4\n",
            "Krishna Aur Kans\n",
            "Krishna Cottage\n",
            "Krrish\n",
            "Kucch Luv Jaisaa\n",
            "Kucch To Hai\n",
            "Kuch Kuch Locha Hai\n",
            "Kuch Naa Kaho\n",
            "Kuchh Bheege Alfaaz\n",
            "Kuchh Meetha Ho Jaye\n",
            "Kudiyon Ka Hai Zamana\n",
            "Kuku Mathur Ki Jhand Ho Gayi\n",
            "Kurbaan (2009 film)\n",
            "Kushti (film)\n",
            "Kya Dilli Kya Lahore\n",
            "Kya Love Story Hai\n",
            "Kyaa Kool Hai Hum\n",
            "Kyaa Kool Hain Hum 3\n",
            "Kyaa Super Kool Hain Hum\n",
            "Kyon Ki\n",
            "Kyun! Ho Gaya Na...\n",
            "LOC Kargil\n",
            "Laaga Chunari Mein Daag\n",
            "Laal Rang\n",
            "Ladies vs Ricky Bahl\n",
            "Lafangey Parindey\n",
            "Lage Raho Munna Bhai\n",
            "Lahore (film)\n",
            "Laila Majnu (2018 film)\n",
            "Lakeer – Forbidden Lines\n",
            "Lakshmi (2014 film)\n",
            "Lakshya (film)\n",
            "Lamhaa\n",
            "Lekar Hum Deewana Dil\n",
            "Life Express (2010 film)\n",
            "Life Is Beautiful (2014 film)\n",
            "Life Ki Toh Lag Gayi\n",
            "Life Mein Kabhie Kabhiee\n",
            "Life Partner\n",
            "Life in a... Metro\n",
            "Lipstick Under My Burkha\n",
            "Listen... Amaya\n",
            "Little Zizou\n",
            "Login (film)\n",
            "Loins of Punjab Presents\n",
            "London Dreams\n",
            "Lootera\n",
            "Love Aaj Kal\n",
            "Love Breakups Zindagi\n",
            "Love Games (film)\n",
            "Love Ke Chakkar Mein\n",
            "Love Sex Aur Dhokha\n",
            "Love Shagun\n",
            "Love Sonia\n",
            "Love Story 2050\n",
            "Love U...Mr. Kalakaar!\n",
            "Love in Bombay\n",
            "Love per Square Foot\n",
            "Loveshhuda\n",
            "Luck (2009 film)\n",
            "Luck by Chance\n",
            "Luckhnowi Ishq\n",
            "Lucknow Central\n",
            "Lucky Kabootar\n",
            "Lucky: No Time for Love\n",
            "Luv U Alia\n",
            "Luv U Soniyo\n",
            "M Cream\n",
            "M.S. Dhoni: The Untold Story\n",
            "MP3: Mera Pehla Pehla Pyaar\n",
            "MSG-2 The Messenger\n",
            "MSG: The Messenger\n",
            "MSG: The Warrior Lion Heart\n",
            "Maan Gaye Mughal-e-Azam\n",
            "Maatr\n",
            "Maazii\n",
            "Machhli Jal Ki Rani Hai\n",
            "Machine (2017 film)\n",
            "Mad About Dance\n",
            "Madaari\n",
            "Made in China (2019 film)\n",
            "Madhoshi\n",
            "Madras Cafe\n",
            "Magic Magic 3D\n",
            "Mai (2013 film)\n",
            "Main Aisa Hi Hoon\n",
            "Main Aur Mr. Riight\n",
            "Main Aurr Mrs Khanna\n",
            "Main Hoon Na\n",
            "Main Hoon Part-Time Killer\n",
            "Main Krishna Hoon\n",
            "Main Madhuri Dixit Banna Chahti Hoon\n",
            "Main Meri Patni Aur Woh\n",
            "Main Prem Ki Diwani Hoon\n",
            "Main Tera Hero\n",
            "Maine Gandhi Ko Nahin Mara\n",
            "Maine Pyaar Kyun Kiya?\n",
            "Malamaal Weekly\n",
            "Malik Ek\n",
            "Mangal Pandey: The Rising\n",
            "Manikarnika: The Queen of Jhansi\n",
            "Manjhi – The Mountain Man\n",
            "Manjunath (film)\n",
            "Manmarziyaan\n",
            "Manorama Six Feet Under\n",
            "Manto (2018 film)\n",
            "Mantra (2016 film)\n",
            "Maqbool\n",
            "Mard Ko Dard Nahi Hota\n",
            "Mardaani\n",
            "Mardaani 2\n",
            "Margarita with a Straw\n",
            "Marigold (2007 film)\n",
            "Marjaavaan\n",
            "Market (2003 film)\n",
            "Married 2 America\n",
            "Mary Kom (film)\n",
            "Masaan\n",
            "Masti (2004 film)\n",
            "Mastizaade\n",
            "Mastram\n",
            "Matru Ki Bijlee Ka Mandola\n",
            "Matrubhoomi\n",
            "Mausam (2011 film)\n",
            "Maximum (film)\n",
            "Meenaxi: A Tale of Three Cities\n",
            "Meerabai Not Out\n",
            "Meeruthiya Gangsters\n",
            "Meinu Ek Ladki Chaahiye\n",
            "Memories in March\n",
            "Mercury (film)\n",
            "Mere Baap Pehle Aap\n",
            "Mere Brother Ki Dulhan\n",
            "Mere Dad Ki Maruti\n",
            "Mere Dost Picture Abhi Baki Hai\n",
            "Mere Genie Uncle\n",
            "Mere Jeevan Saathi (2006 film)\n",
            "Mere Pyare Prime Minister\n",
            "Meri Biwi Ka Jawaab Nahin\n",
            "Meri Pyaari Bindu\n",
            "Mickey Virus\n",
            "Milenge Milenge\n",
            "Miley Naa Miley Hum\n",
            "Mirch\n",
            "Mirzya (film)\n",
            "Miss Tanakpur Haazir Ho\n",
            "Missing (2018 film)\n",
            "Mission Istaanbul\n",
            "Mission Mangal\n",
            "Mitron\n",
            "Mittal v/s Mittal\n",
            "Moh Maya Money\n",
            "Mohalla Assi\n",
            "Mohenjo Daro (film)\n",
            "Mom (film)\n",
            "Money Hai Toh Honey Hai\n",
            "Monica (film)\n",
            "Monsoon Shootout\n",
            "Morning Raga\n",
            "Motichoor Chaknachoor\n",
            "Motu Patlu: King of Kings\n",
            "Mr Prime Minister\n",
            "Mr. Bhatti on Chutti\n",
            "Mr. Singh Mrs. Mehta\n",
            "Mr. X (2015 film)\n",
            "Mubarakan\n",
            "Mughal-e-Azam\n",
            "Mujhse Fraaandship Karoge\n",
            "Mujhse Shaadi Karogi\n",
            "Mukhbiir\n",
            "Mukkabaaz\n",
            "Mulk (film)\n",
            "Mumbai 125 KM\n",
            "Mumbai Can Dance Saala\n",
            "Mumbai Delhi Mumbai\n",
            "Mumbai Mast Kallander\n",
            "Mumbai Matinee\n",
            "Mumbai Meri Jaan\n",
            "Mumbai Salsa\n",
            "Mumbai Se Aaya Mera Dost\n",
            "Mumbhai Connection\n",
            "Mummy Punjabi\n",
            "Munna Bhai M.B.B.S.\n",
            "Munna Michael\n",
            "Murari the Mad Gentleman\n",
            "Murder (2004 film)\n",
            "Murder 2\n",
            "Murder 3\n",
            "Musafir (2004 film)\n",
            "Muskaan\n",
            "My Birthday Song\n",
            "My Bollywood Bride\n",
            "My Brother…Nikhil\n",
            "My Friend Pinto\n",
            "My Name Is Khan\n",
            "My Wife's Murder\n",
            "NH-8 Road to Nidhivan\n",
            "NH10 (film)\n",
            "Na Ghar Ke Na Ghaat Ke\n",
            "Naach (2004 film)\n",
            "Naam Shabana\n",
            "Naina (2005 film)\n",
            "Naksha\n",
            "Namaste England\n",
            "Namastey London\n",
            "Nanhe Jaisalmer\n",
            "Nanu Ki Jaanu\n",
            "Naqaab\n",
            "Nasha (film)\n",
            "Naughty @ 40\n",
            "Nautanki Saala!\n",
            "Nawabzaade\n",
            "Nayee Padosan\n",
            "Neal 'n' Nikki\n",
            "Neerja\n",
            "Nehlle Pe Dehlla\n",
            "Netaji Subhas Chandra Bose: The Forgotten Hero\n",
            "New York (2009 film)\n",
            "Newton (film)\n",
            "Nil Battey Sannata\n",
            "Nirdosh\n",
            "Nishabd\n",
            "No Entry\n",
            "No One Killed Jessica\n",
            "No Problem (2010 film)\n",
            "No Smoking (2007 film)\n",
            "Noor (film)\n",
            "Not a Love Story (2011 film)\n",
            "Notebook (2019 film)\n",
            "Nothing but Life\n",
            "O Teri\n",
            "OMG – Oh My God!\n",
            "October (2018 film)\n",
            "Oh My God (2008 film)\n",
            "Ok Jaanu\n",
            "Om (2003 film)\n",
            "Om Shanti Om\n",
            "Om-Dar-B-Dar\n",
            "Omerta (film)\n",
            "Omkara (2006 film)\n",
            "Once Upon a Time in Mumbaai\n",
            "Once Upon ay Time in Mumbai Dobaara!\n",
            "One Day: Justice Delivered\n",
            "One Two Three\n",
            "One by Two (2014 film)\n",
            "Out of Control (2003 film)\n",
            "Oye Lucky! Lucky Oye!\n",
            "P Se PM Tak\n",
            "P Se Pyaar F Se Faraar\n",
            "PK (film)\n",
            "PM Narendra Modi\n",
            "Paa (film)\n",
            "Paan Singh Tomar (film)\n",
            "Paanch Ghantey Mien Paanch Crore\n",
            "Paap\n",
            "Paathshaala\n",
            "Padmaavat\n",
            "Padmashree Laloo Prasad Yadav\n",
            "Pagalpanti (2019 film)\n",
            "Page 3 (film)\n",
            "Paheli\n",
            "Paisa Vasool\n",
            "Pal Pal Dil Ke Paas\n",
            "Paltan (film)\n",
            "Panchlait\n",
            "Pankh\n",
            "Paranthe Wali Gali\n",
            "Parched\n",
            "Parineeta (2005 film)\n",
            "Parmanu: The Story of Pokhran\n",
            "Partner (2007 film)\n",
            "Parwana (2003 film)\n",
            "Pataakha\n",
            "Patel Ki Punjabi Shaadi\n",
            "Pati Patni Aur Woh (2019 film)\n",
            "Patiala House (film)\n",
            "Paying Guests\n",
            "Peepli Live\n",
            "Pehchaan: The Face of Truth\n",
            "Phamous\n",
            "Phantom (2015 film)\n",
            "Phas Gaye Re Obama\n",
            "Phata Poster Nikhla Hero\n",
            "Phhir\n",
            "Phillauri (film)\n",
            "Phir Hera Pheri\n",
            "Phir Kabhi\n",
            "Phir Milenge\n",
            "Phobia (2016 film)\n",
            "Phoonk 2\n",
            "Photograph (film)\n",
            "Pihu\n",
            "Piku\n",
            "Pinjar (film)\n",
            "Pink (2016 film)\n",
            "Pizza (2014 film)\n",
            "Plan (film)\n",
            "Players (2012 film)\n",
            "Police Force: An Inside Story\n",
            "Policegiri\n",
            "Popcorn Khao! Mast Ho Jao\n",
            "Poster Boys\n",
            "Praan Jaye Par Shaan Na Jaye\n",
            "Prague (2013 film)\n",
            "Pranaam\n",
            "Prassthanam\n",
            "Prateeksha\n",
            "Prem Kaa Game\n",
            "Prem Ratan Dhan Payo\n",
            "Prince (2010 film)\n",
            "Purani Jeans\n",
            "Pyaar Impossible!\n",
            "Pyaar Ka Punchnama\n",
            "Pyaar Ka Punchnama 2\n",
            "Pyaar Ke Side Effects\n",
            "Pyaar Mein Twist\n",
            "Pyare Mohan\n",
            "Qaidi Band\n",
            "Qarib Qarib Singlle\n",
            "Qayamat: City Under Threat\n",
            "Qissa (film)\n",
            "Queen (2014 film)\n",
            "Quick Gun Murugun\n",
            "Ra.One\n",
            "Raabta (film)\n",
            "Raag Desh (film)\n",
            "Raanjhanaa\n",
            "Raat Gayi Baat Gayi?\n",
            "Raavan\n",
            "Raaz (2002 film)\n",
            "Raaz: Reboot\n",
            "Raaz: The Mystery Continues\n",
            "Raazi\n",
            "Rab Ne Bana Di Jodi\n",
            "Race (2008 film)\n",
            "Race 2\n",
            "Race 3\n",
            "Raees (film)\n",
            "Raghu Romeo\n",
            "Ragini MMS\n",
            "Ragini MMS 2\n",
            "Rahasya\n",
            "Raid (2018 film)\n",
            "Raincoat (film)\n",
            "Raja Bhaiya (film)\n",
            "Raja Natwarlal\n",
            "Rajjo\n",
            "Rajma Chawal\n",
            "Rakht\n",
            "Rakhtbeej\n",
            "Ramaa: The Saviour\n",
            "Ramaiya Vastavaiya\n",
            "Raman Raghav 2.0\n",
            "Ramayana: The Epic\n",
            "Ramji Londonwaley\n",
            "Ramprasad Ki Tehrvi\n",
            "Ranbanka\n",
            "Ranchi Diaries\n",
            "Rang De Basanti\n",
            "Rang Rasiya\n",
            "Rangoon (2017 Hindi film)\n",
            "Rangrezz\n",
            "Rann (film)\n",
            "Raqeeb\n",
            "Rascals (2011 film)\n",
            "Rebellious Flower\n",
            "Red Alert: The War Within\n",
            "Red Swastik\n",
            "Red: The Dark Side\n",
            "Revati (film)\n",
            "Revolver Rani\n",
            "Ribbon (film)\n",
            "Right Here Right Now (film)\n",
            "Right Yaaa Wrong\n",
            "Risk (2007 film)\n",
            "Risknamaa\n",
            "Riyasat (film)\n",
            "Road to Sangam\n",
            "Roadside Romeo\n",
            "Roar: Tigers of the Sundarbans\n",
            "Rock On 2\n",
            "Rock On!!\n",
            "Rocket Singh: Salesman of the Year\n",
            "Rockstar (2011 film)\n",
            "Rocky Handsome\n",
            "Rog\n",
            "Rok Sako To Rok Lo\n",
            "Rokkk\n",
            "Rough Book\n",
            "Roy (film)\n",
            "Rudraksh (film)\n",
            "Rukh (film)\n",
            "Rules: Pyaar Ka Superhit Formula\n",
            "Run (2004 film)\n",
            "Running Shaadi\n",
            "Rush (2012 film)\n",
            "Rustom (film)\n",
            "Saaho\n",
            "Saand Ki Aankh\n",
            "Saankal\n",
            "Saansein\n",
            "Saare Jahaan Se Mehnga\n",
            "Saas Bahu Aur Sensex\n",
            "Saat Uchakkey\n",
            "Saathiya (film)\n",
            "Saawan... The Love Season\n",
            "Saawariya\n",
            "Saaya (2003 film)\n",
            "Sabki Bajegi Band\n",
            "Sachin: A Billion Dreams\n",
            "Sacred Evil – A True Story\n",
            "Sadda Adda\n",
            "Sadiyaan\n",
            "Saheb Biwi Aur Gangster\n",
            "Saheb Biwi Aur Gangster 3\n",
            "Saheb Biwi Aur Gangster Returns\n",
            "Sahi Dhandhe Galat Bande\n",
            "Salaam Namaste\n",
            "Salaam-e-Ishq: A Tribute to Love\n",
            "Sallu Ki Shaadi\n",
            "Samay: When Time Strikes\n",
            "Samrat & Co.\n",
            "Sanam Re\n",
            "Sandwich (2006 film)\n",
            "Sanju\n",
            "Sankat City\n",
            "Santa Banta Pvt Ltd\n",
            "Sarbjit (film)\n",
            "Sarhad Paar\n",
            "Sarkar (2005 film)\n",
            "Sarkar 3\n",
            "Sarkar Raj\n",
            "Satellite Shankar\n",
            "Satrangee Parachute\n",
            "Satta (film)\n",
            "Satya 2\n",
            "Satyagraha (film)\n",
            "Satyameva Jayate (2018 film)\n",
            "Say Salaam India\n",
            "Second Hand Husband\n",
            "Secret Superstar\n",
            "Section 375\n",
            "Sehar\n",
            "Setters (film)\n",
            "Shaadi Ka Laddoo\n",
            "Shaadi Karke Phas Gaya Yaar\n",
            "Shaadi Ke Side Effects\n",
            "Shaadi Mein Zaroor Aana\n",
            "Shaadi No. 1\n",
            "Shaadi Se Pehle\n",
            "Shaandaar\n",
            "Shaapit\n",
            "Shab (film)\n",
            "Shabd (film)\n",
            "Shabnam Mausi\n",
            "Shabri\n",
            "Shagird (2011 film)\n",
            "Shahid (film)\n",
            "Shaitan (film)\n",
            "Shakalaka Boom Boom\n",
            "Shamitabh\n",
            "Shanghai (2012 film)\n",
            "Sharafat Gayi Tel Lene\n",
            "Shart: The Challenge\n",
            "Sheen (film)\n",
            "Sheesha (2005 film)\n",
            "Shikhar (film)\n",
            "Ship of Theseus (film)\n",
            "Shirin Farhad Ki Toh Nikal Padi\n",
            "Shiva (2006 film)\n",
            "Shivaay\n",
            "Sholay\n",
            "Shootout at Lokhandwala\n",
            "Shor in the City\n",
            "Shorgul\n",
            "Shortcut Romeo\n",
            "Shortcut Safari\n",
            "Shortkut\n",
            "Showbiz (film)\n",
            "Shubh Mangal Saavdhan\n",
            "Shuddh Desi Romance\n",
            "Shukriya: Till Death Do Us Apart\n",
            "Siddharth (2013 film)\n",
            "Sikandar (2009 film)\n",
            "Silsiilay\n",
            "Simmba\n",
            "Simran (film)\n",
            "Singh Is Bliing\n",
            "Singh Is Kinng\n",
            "Singh Saab the Great\n",
            "Singham\n",
            "Singham Returns\n",
            "Sirf (film)\n",
            "Sixteen (2013 Indian film)\n",
            "Soch Lo\n",
            "Socha Na Tha\n",
            "Son of Sardaar\n",
            "Sonali Cable\n",
            "Sonchiriya\n",
            "Soni (film)\n",
            "Sons of Ram\n",
            "Sonu Ke Titu Ki Sweety\n",
            "Sooper Se Ooper\n",
            "Sorry Bhai!\n",
            "Sorry Daddy\n",
            "Souten: The Other Woman\n",
            "Spark (2014 film)\n",
            "Special 26\n",
            "Speed (2007 film)\n",
            "Sssshhh...\n",
            "Ssukh\n",
            "Stanley Ka Dabba\n",
            "Station (2014 film)\n",
            "Staying Alive (2012 film)\n",
            "Strangers (2007 Hindi film)\n",
            "Stree (2018 film)\n",
            "Striker (2010 film)\n",
            "Strings of Passion\n",
            "Student of the Year\n",
            "Student of the Year 2\n",
            "Stumped (film)\n",
            "Sui Dhaaga\n",
            "Sukhmani: Hope for Life\n",
            "Sulemani Keeda\n",
            "Sultan (2016 film)\n",
            "Summer 2007\n",
            "Sunday (2008 film)\n",
            "Sunglass (film)\n",
            "Suno Sasurjee\n",
            "Super 30 (film)\n",
            "Super Model (film)\n",
            "Super Nani\n",
            "Swades\n",
            "Swami (2007 film)\n",
            "Sweetiee Weds NRI\n",
            "Ta Ra Rum Pum\n",
            "Taare Zameen Par\n",
            "Taarzan: The Wonder Car\n",
            "Table No. 21\n",
            "Tahaan\n",
            "Taj Mahal: An Eternal Love Story\n",
            "Take It Easy (2015 film)\n",
            "Talaash: The Answer Lies Within\n",
            "Talaash: The Hunt Begins...\n",
            "Talvar (film)\n",
            "Tamanchey\n",
            "Tango Charlie\n",
            "Tanu Weds Manu\n",
            "Tanu Weds Manu: Returns\n",
            "Tanu Weds Manu: Returns\n",
            "Tashan (film)\n",
            "Tathastu\n",
            "Taxi No. 9211\n",
            "Te3n\n",
            "Teen Patti (film)\n",
            "Teen Thay Bhai\n",
            "Tees Maar Khan (2010 film)\n",
            "Teesri Aankh: The Hidden Camera\n",
            "Tehzeeb (2003 film)\n",
            "Tell Me O Kkhuda\n",
            "Tera Kya Hoga Johnny\n",
            "Tere Bin Laden\n",
            "Tere Bin Laden: Dead or Alive\n",
            "Tere Mere Phere\n",
            "Tere Naal Love Ho Gaya\n",
            "Tere Naam\n",
            "Teri Meri Kahaani (film)\n",
            "Tevar\n",
            "Tezz\n",
            "Thackeray (film)\n",
            "Thank You (2011 film)\n",
            "Thanks Maa\n",
            "The Accidental Prime Minister (film)\n",
            "The Blue Umbrella (2005 film)\n",
            "The Blueberry Hunt\n",
            "The Bypass\n",
            "The Dirty Picture\n",
            "The Film\n",
            "The Film Emotional Atyachar\n",
            "The Final Exit\n",
            "The Ghazi Attack\n",
            "The Hero: Love Story of a Spy\n",
            "The Japanese Wife\n",
            "The Journey of Karma\n",
            "The Killer (2006 film)\n",
            "The Last Lear\n",
            "The Lunchbox\n",
            "The Namesake (film)\n",
            "The Pink Mirror\n",
            "The Shaukeens\n",
            "The Silent Heroes\n",
            "The Sky Is Pink\n",
            "The Stoneman Murders\n",
            "The Tashkent Files\n",
            "The Train (2007 film)\n",
            "The Xposé\n",
            "The Zoya Factor (film)\n",
            "Thoda Lutf Thoda Ishq\n",
            "Thoda Pyaar Thoda Magic\n",
            "Thoda Tum Badlo Thoda Hum\n",
            "Thodi Life Thoda Magic\n",
            "Thugs of Hindostan\n",
            "Tiger Zinda Hai\n",
            "Titli (2014 film)\n",
            "Titoo MBA\n",
            "Toh Baat Pakki!\n",
            "Toilet: Ek Prem Katha\n",
            "Tom Dick and Harry (2006 film)\n",
            "Toonpur Ka Super Hero\n",
            "Total Dhamaal\n",
            "Total Siyapaa\n",
            "Traffic (2016 film)\n",
            "Traffic Signal (film)\n",
            "Trapped (2016 Hindi film)\n",
            "Trump Card (film)\n",
            "Tubelight (2017 Hindi film)\n",
            "Tujhe Meri Kasam\n",
            "Tulsi (film)\n",
            "Tum Bin II\n",
            "Tum Mile\n",
            "Tum Milo Toh Sahi\n",
            "Tumbbad\n",
            "Tumhari Sulu\n",
            "Tumsa Nahin Dekha: A Love Story\n",
            "Turning 30\n",
            "U Me Aur Hum\n",
            "U R My Jaan\n",
            "Udaan (2010 film)\n",
            "Udta Punjab\n",
            "Ugly (film)\n",
            "Ujda Chaman\n",
            "Umar (film)\n",
            "Umrao Jaan (2006 film)\n",
            "Umrika\n",
            "Ungli\n",
            "Union Leader (film)\n",
            "United Six\n",
            "Uri: The Surgical Strike\n",
            "Utt Pataang\n",
            "Utthaan\n",
            "Uvaa\n",
            "Vaada (film)\n",
            "Vaada Raha\n",
            "Vaah! Life Ho Toh Aisi!\n",
            "Vaastu Shastra (film)\n",
            "Valentine's Night\n",
            "Veer (2010 film)\n",
            "Veer-Zaara\n",
            "Veerappan (2016 film)\n",
            "Veerey Ki Wedding\n",
            "Via Darjeeling\n",
            "Viceroy's House (film)\n",
            "Vicky Donor\n",
            "Victory (2009 film)\n",
            "Vidyaarthi\n",
            "Viruddh... Family Comes First\n",
            "Vishwaroopam\n",
            "Vivah\n",
            "Vodka Diaries\n",
            "W (2014 film)\n",
            "Waarrior Savitri\n",
            "Wafa: A Deadly Love Story\n",
            "Wah Taj\n",
            "Waisa Bhi Hota Hai Part II\n",
            "Waiting (2015 film)\n",
            "Wajah Tum Ho\n",
            "Wake Up India\n",
            "Wake Up Sid\n",
            "Wanted (2009 film)\n",
            "Waqt: The Race Against Time\n",
            "War Chhod Na Yaar\n",
            "Waris Shah: Ishq Daa Waaris\n",
            "Wedding Anniversary\n",
            "Wedding Pullav\n",
            "Welcome (2007 film)\n",
            "Welcome 2 Karachi\n",
            "Welcome Back (film)\n",
            "Welcome to Sajjanpur\n",
            "Well Done Abba\n",
            "What the Fish\n",
            "What's Your Raashee?\n",
            "Why Cheat India\n",
            "Woh Lamhe...\n",
            "Woodstock Villa\n",
            "Xcuse Me\n",
            "Ya Rab\n",
            "Yaaram (2019 film)\n",
            "Yadvi – The Dignified Princess\n",
            "Yakeen (2005 film)\n",
            "Yamla Pagla Deewana\n",
            "Yamla Pagla Deewana: Phir Se\n",
            "Yatra (2007 film)\n",
            "Yeh Dil\n",
            "Yeh Dooriyan\n",
            "Yeh Hai Bakrapur\n",
            "Yeh Hai India\n",
            "Yeh Jawaani Hai Deewani\n",
            "Yeh Khula Aasmaan\n",
            "Yeh Lamhe Judaai Ke\n",
            "Yeh Mera India\n",
            "Yeh Saali Aashiqui\n",
            "Youngistaan\n",
            "Yun Hota Toh Kya Hota\n",
            "Yuva\n",
            "Yuvvraaj\n",
            "Zamaanat\n",
            "Zameen (2003 film)\n",
            "Zameer: The Fire Within\n",
            "Zed Plus\n",
            "Zeher\n",
            "Zero (2018 film)\n",
            "Zid (2014 film)\n",
            "Zila Ghaziabad\n",
            "Zinda (film)\n",
            "Zindaggi Rocks\n",
            "Zindagi 50-50\n",
            "Zindagi Na Milegi Dobara\n",
            "Zindagi Tere Naam\n",
            "Zokkomon\n",
            "Zor Lagaa Ke...Haiya!\n"
          ]
        }
      ]
    },
    {
      "cell_type": "code",
      "source": [
        "# Arithmetic Operator  (Broadcasting)\n",
        "100 - mark_series"
      ],
      "metadata": {
        "id": "klocaE0xhEId",
        "outputId": "11a45cb4-a1a7-44a4-b815-f9d1de3d7eda",
        "colab": {
          "base_uri": "https://localhost:8080/"
        }
      },
      "execution_count": 112,
      "outputs": [
        {
          "output_type": "execute_result",
          "data": {
            "text/plain": [
              "math       22\n",
              "english     0\n",
              "Science    43\n",
              "Bangla     10\n",
              "social     15\n",
              "Name: Mehedi mark, dtype: int64"
            ]
          },
          "metadata": {},
          "execution_count": 112
        }
      ]
    },
    {
      "cell_type": "code",
      "source": [
        "# Relational Operator\n",
        "vk >= 50"
      ],
      "metadata": {
        "id": "ZCI6rOSvhJEd",
        "outputId": "d9ffd5d4-5a6e-4586-95bc-cdafa27ce169",
        "colab": {
          "base_uri": "https://localhost:8080/"
        }
      },
      "execution_count": 116,
      "outputs": [
        {
          "output_type": "execute_result",
          "data": {
            "text/plain": [
              "match_no\n",
              "1      False\n",
              "2      False\n",
              "3      False\n",
              "4      False\n",
              "5      False\n",
              "       ...  \n",
              "211    False\n",
              "212    False\n",
              "213     True\n",
              "214    False\n",
              "215    False\n",
              "Name: runs, Length: 215, dtype: bool"
            ]
          },
          "metadata": {},
          "execution_count": 116
        }
      ]
    },
    {
      "cell_type": "markdown",
      "source": [
        "# Boolean indexing on Series"
      ],
      "metadata": {
        "id": "f_6xC-K1mJS5"
      }
    },
    {
      "cell_type": "code",
      "source": [
        "# find out number of 50's and 100's scored by kohli\n",
        "vk[vk>=50].size"
      ],
      "metadata": {
        "id": "sJ6Rxb-GkXwQ",
        "outputId": "074c3c52-1027-4094-8792-402caca6dde4",
        "colab": {
          "base_uri": "https://localhost:8080/"
        }
      },
      "execution_count": 120,
      "outputs": [
        {
          "output_type": "execute_result",
          "data": {
            "text/plain": [
              "50"
            ]
          },
          "metadata": {},
          "execution_count": 120
        }
      ]
    },
    {
      "cell_type": "code",
      "source": [
        "# find number of ducks\n",
        "vk[vk == 0].size"
      ],
      "metadata": {
        "id": "sy4D7B2fl3Wz",
        "outputId": "bffc1c02-5530-490e-a49e-cfcc5ad75c94",
        "colab": {
          "base_uri": "https://localhost:8080/"
        }
      },
      "execution_count": 121,
      "outputs": [
        {
          "output_type": "execute_result",
          "data": {
            "text/plain": [
              "9"
            ]
          },
          "metadata": {},
          "execution_count": 121
        }
      ]
    },
    {
      "cell_type": "code",
      "source": [
        "# count number of day when i had more than 200 subscribers a day\n",
        "subs[subs > 200].size"
      ],
      "metadata": {
        "id": "Ve3GKZBgmioU",
        "outputId": "5c461379-fc64-42c0-9dce-077ffb94cb5e",
        "colab": {
          "base_uri": "https://localhost:8080/"
        }
      },
      "execution_count": 122,
      "outputs": [
        {
          "output_type": "execute_result",
          "data": {
            "text/plain": [
              "59"
            ]
          },
          "metadata": {},
          "execution_count": 122
        }
      ]
    },
    {
      "cell_type": "code",
      "source": [
        "# find actors who have done more than 20 movies\n",
        "num_movies = movie.value_counts()\n",
        "num_movies[num_movies > 20]\n"
      ],
      "metadata": {
        "id": "uEjuAcajm0Ee",
        "outputId": "80483055-41cb-4ee8-b3cd-a1e95b42cbad",
        "colab": {
          "base_uri": "https://localhost:8080/"
        }
      },
      "execution_count": 131,
      "outputs": [
        {
          "output_type": "execute_result",
          "data": {
            "text/plain": [
              "Akshay Kumar        48\n",
              "Amitabh Bachchan    45\n",
              "Ajay Devgn          38\n",
              "Salman Khan         31\n",
              "Sanjay Dutt         26\n",
              "Shah Rukh Khan      22\n",
              "Emraan Hashmi       21\n",
              "Name: lead, dtype: int64"
            ]
          },
          "metadata": {},
          "execution_count": 131
        }
      ]
    },
    {
      "cell_type": "markdown",
      "source": [
        "# PLoting graphs on Series"
      ],
      "metadata": {
        "id": "gZlUxU44o0OJ"
      }
    },
    {
      "cell_type": "code",
      "source": [
        "subs.plot()"
      ],
      "metadata": {
        "id": "WVVfnprMnL1E",
        "outputId": "c5733655-a477-45b6-e926-93426b55e70f",
        "colab": {
          "base_uri": "https://localhost:8080/",
          "height": 282
        }
      },
      "execution_count": 132,
      "outputs": [
        {
          "output_type": "execute_result",
          "data": {
            "text/plain": [
              "<matplotlib.axes._subplots.AxesSubplot at 0x7f50351111c0>"
            ]
          },
          "metadata": {},
          "execution_count": 132
        },
        {
          "output_type": "display_data",
          "data": {
            "text/plain": [
              "<Figure size 432x288 with 1 Axes>"
            ],
            "image/png": "[encoded data removed]"
          },
          "metadata": {
            "needs_background": "light"
          }
        }
      ]
    },
    {
      "cell_type": "code",
      "source": [
        "movie.value_counts().head(20).plot(kind='bar')"
      ],
      "metadata": {
        "id": "eeNKKXEipgnA",
        "outputId": "5e69d857-d68b-4044-b826-9714e53ec29b",
        "colab": {
          "base_uri": "https://localhost:8080/",
          "height": 382
        }
      },
      "execution_count": 138,
      "outputs": [
        {
          "output_type": "execute_result",
          "data": {
            "text/plain": [
              "<matplotlib.axes._subplots.AxesSubplot at 0x7f50353e3220>"
            ]
          },
          "metadata": {},
          "execution_count": 138
        },
        {
          "output_type": "display_data",
          "data": {
            "text/plain": [
              "<Figure size 432x288 with 1 Axes>"
            ],
            "image/png": "[encoded data removed]"
          },
          "metadata": {
            "needs_background": "light"
          }
        }
      ]
    },
    {
      "cell_type": "code",
      "source": [
        "movie.value_counts().head(20).plot(kind='pie')\n"
      ],
      "metadata": {
        "id": "Z3oBqNompudN",
        "outputId": "d9e97cd2-36cb-4de5-ef54-b3ff26b1f6c7",
        "colab": {
          "base_uri": "https://localhost:8080/",
          "height": 265
        }
      },
      "execution_count": 139,
      "outputs": [
        {
          "output_type": "execute_result",
          "data": {
            "text/plain": [
              "<matplotlib.axes._subplots.AxesSubplot at 0x7f5035186e50>"
            ]
          },
          "metadata": {},
          "execution_count": 139
        },
        {
          "output_type": "display_data",
          "data": {
            "text/plain": [
              "<Figure size 432x288 with 1 Axes>"
            ],
            "image/png": "[encoded data removed]"
          },
          "metadata": {}
        }
      ]
    },
    {
      "cell_type": "code",
      "source": [],
      "metadata": {
        "id": "UisX83EEqGRE"
      },
      "execution_count": null,
      "outputs": []
    }
  ]
}