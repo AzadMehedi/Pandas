{
  "nbformat": 4,
  "nbformat_minor": 0,
  "metadata": {
    "colab": {
      "provenance": [],
      "authorship_tag": "ABX9TyPtuy4FFSblKOrVraTYqilD",
      "include_colab_link": true
    },
    "kernelspec": {
      "name": "python3",
      "display_name": "Python 3"
    },
    "language_info": {
      "name": "python"
    }
  },
  "cells": [
    {
      "cell_type": "markdown",
      "metadata": {
        "id": "view-in-github",
        "colab_type": "text"
      },
      "source": [
        "<a href=\"https://colab.research.google.com/github/AzadMehedi/Pandas/blob/main/Important_DataFrame_Methods.ipynb\" target=\"_parent\"><img src=\"https://colab.research.google.com/assets/colab-badge.svg\" alt=\"Open In Colab\"/></a>"
      ]
    },
    {
      "cell_type": "markdown",
      "source": [
        "# More Imported Functions"
      ],
      "metadata": {
        "id": "HyKzRH-SA6TI"
      }
    },
    {
      "cell_type": "code",
      "execution_count": 1,
      "metadata": {
        "id": "O45tOjnlAwaA"
      },
      "outputs": [],
      "source": [
        "# value_counts\n",
        "# sort_values\n",
        "# rank\n",
        "# sort index\n",
        "# set index\n",
        "# rename index -> rename\n",
        "# reset index\n",
        "# unique & nunique\n",
        "# isnull/notnull/hasnans\n",
        "# dropna\n",
        "# fillna\n",
        "# drop_duplicates\n",
        "# drop\n",
        "# apply\n",
        "# isin\n",
        "# corr\n",
        "# nlargest -> nsmallest\n",
        "# insert\n",
        "# copy"
      ]
    },
    {
      "cell_type": "code",
      "source": [
        "import numpy as np\n",
        "import pandas as pd"
      ],
      "metadata": {
        "id": "qyj3DY7oA0f-"
      },
      "execution_count": 2,
      "outputs": []
    },
    {
      "cell_type": "code",
      "source": [
        "a = pd.Series([1,1,1,2,2,3])\n",
        "a.value_counts()"
      ],
      "metadata": {
        "colab": {
          "base_uri": "https://localhost:8080/"
        },
        "id": "0sE07sj3CTVo",
        "outputId": "fca8a1f3-4d23-416f-9a31-b2ab67dce747"
      },
      "execution_count": 3,
      "outputs": [
        {
          "output_type": "execute_result",
          "data": {
            "text/plain": [
              "1    3\n",
              "2    2\n",
              "3    1\n",
              "dtype: int64"
            ]
          },
          "metadata": {},
          "execution_count": 3
        }
      ]
    },
    {
      "cell_type": "code",
      "source": [
        "# value_counts(series and dataframe)\n",
        "\n",
        "marks = pd.DataFrame([\n",
        "    [100,80,10],\n",
        "    [90,70,7],\n",
        "    [120,100,14],\n",
        "    [80,70,14],\n",
        "    [80,70,14]\n",
        "], columns=['iq','marks','package'])\n",
        "marks\n"
      ],
      "metadata": {
        "colab": {
          "base_uri": "https://localhost:8080/",
          "height": 206
        },
        "id": "0Q37HTqUCeW6",
        "outputId": "663bb8b1-f213-4ba0-9fe4-6f2c7f698cad"
      },
      "execution_count": 4,
      "outputs": [
        {
          "output_type": "execute_result",
          "data": {
            "text/plain": [
              "    iq  marks  package\n",
              "0  100     80       10\n",
              "1   90     70        7\n",
              "2  120    100       14\n",
              "3   80     70       14\n",
              "4   80     70       14"
            ],
            "text/html": [
              "\n",
              "  <div id=\"df-b83c6dcc-4811-4867-ac02-fe90d0e08bc4\">\n",
              "    <div class=\"colab-df-container\">\n",
              "      <div>\n",
              "<style scoped>\n",
              "    .dataframe tbody tr th:only-of-type {\n",
              "        vertical-align: middle;\n",
              "    }\n",
              "\n",
              "    .dataframe tbody tr th {\n",
              "        vertical-align: top;\n",
              "    }\n",
              "\n",
              "    .dataframe thead th {\n",
              "        text-align: right;\n",
              "    }\n",
              "</style>\n",
              "<table border=\"1\" class=\"dataframe\">\n",
              "  <thead>\n",
              "    <tr style=\"text-align: right;\">\n",
              "      <th></th>\n",
              "      <th>iq</th>\n",
              "      <th>marks</th>\n",
              "      <th>package</th>\n",
              "    </tr>\n",
              "  </thead>\n",
              "  <tbody>\n",
              "    <tr>\n",
              "      <th>0</th>\n",
              "      <td>100</td>\n",
              "      <td>80</td>\n",
              "      <td>10</td>\n",
              "    </tr>\n",
              "    <tr>\n",
              "      <th>1</th>\n",
              "      <td>90</td>\n",
              "      <td>70</td>\n",
              "      <td>7</td>\n",
              "    </tr>\n",
              "    <tr>\n",
              "      <th>2</th>\n",
              "      <td>120</td>\n",
              "      <td>100</td>\n",
              "      <td>14</td>\n",
              "    </tr>\n",
              "    <tr>\n",
              "      <th>3</th>\n",
              "      <td>80</td>\n",
              "      <td>70</td>\n",
              "      <td>14</td>\n",
              "    </tr>\n",
              "    <tr>\n",
              "      <th>4</th>\n",
              "      <td>80</td>\n",
              "      <td>70</td>\n",
              "      <td>14</td>\n",
              "    </tr>\n",
              "  </tbody>\n",
              "</table>\n",
              "</div>\n",
              "      <button class=\"colab-df-convert\" onclick=\"convertToInteractive('df-b83c6dcc-4811-4867-ac02-fe90d0e08bc4')\"\n",
              "              title=\"Convert this dataframe to an interactive table.\"\n",
              "              style=\"display:none;\">\n",
              "        \n",
              "  <svg xmlns=\"http://www.w3.org/2000/svg\" height=\"24px\"viewBox=\"0 0 24 24\"\n",
              "       width=\"24px\">\n",
              "    <path d=\"M0 0h24v24H0V0z\" fill=\"none\"/>\n",
              "    <path d=\"M18.56 5.44l.94 2.06.94-2.06 2.06-.94-2.06-.94-.94-2.06-.94 2.06-2.06.94zm-11 1L8.5 8.5l.94-2.06 2.06-.94-2.06-.94L8.5 2.5l-.94 2.06-2.06.94zm10 10l.94 2.06.94-2.06 2.06-.94-2.06-.94-.94-2.06-.94 2.06-2.06.94z\"/><path d=\"M17.41 7.96l-1.37-1.37c-.4-.4-.92-.59-1.43-.59-.52 0-1.04.2-1.43.59L10.3 9.45l-7.72 7.72c-.78.78-.78 2.05 0 2.83L4 21.41c.39.39.9.59 1.41.59.51 0 1.02-.2 1.41-.59l7.78-7.78 2.81-2.81c.8-.78.8-2.07 0-2.86zM5.41 20L4 18.59l7.72-7.72 1.47 1.35L5.41 20z\"/>\n",
              "  </svg>\n",
              "      </button>\n",
              "      \n",
              "  <style>\n",
              "    .colab-df-container {\n",
              "      display:flex;\n",
              "      flex-wrap:wrap;\n",
              "      gap: 12px;\n",
              "    }\n",
              "\n",
              "    .colab-df-convert {\n",
              "      background-color: #E8F0FE;\n",
              "      border: none;\n",
              "      border-radius: 50%;\n",
              "      cursor: pointer;\n",
              "      display: none;\n",
              "      fill: #1967D2;\n",
              "      height: 32px;\n",
              "      padding: 0 0 0 0;\n",
              "      width: 32px;\n",
              "    }\n",
              "\n",
              "    .colab-df-convert:hover {\n",
              "      background-color: #E2EBFA;\n",
              "      box-shadow: 0px 1px 2px rgba(60, 64, 67, 0.3), 0px 1px 3px 1px rgba(60, 64, 67, 0.15);\n",
              "      fill: #174EA6;\n",
              "    }\n",
              "\n",
              "    [theme=dark] .colab-df-convert {\n",
              "      background-color: #3B4455;\n",
              "      fill: #D2E3FC;\n",
              "    }\n",
              "\n",
              "    [theme=dark] .colab-df-convert:hover {\n",
              "      background-color: #434B5C;\n",
              "      box-shadow: 0px 1px 3px 1px rgba(0, 0, 0, 0.15);\n",
              "      filter: drop-shadow(0px 1px 2px rgba(0, 0, 0, 0.3));\n",
              "      fill: #FFFFFF;\n",
              "    }\n",
              "  </style>\n",
              "\n",
              "      <script>\n",
              "        const buttonEl =\n",
              "          document.querySelector('#df-b83c6dcc-4811-4867-ac02-fe90d0e08bc4 button.colab-df-convert');\n",
              "        buttonEl.style.display =\n",
              "          google.colab.kernel.accessAllowed ? 'block' : 'none';\n",
              "\n",
              "        async function convertToInteractive(key) {\n",
              "          const element = document.querySelector('#df-b83c6dcc-4811-4867-ac02-fe90d0e08bc4');\n",
              "          const dataTable =\n",
              "            await google.colab.kernel.invokeFunction('convertToInteractive',\n",
              "                                                     [key], {});\n",
              "          if (!dataTable) return;\n",
              "\n",
              "          const docLinkHtml = 'Like what you see? Visit the ' +\n",
              "            '<a target=\"_blank\" href=https://colab.research.google.com/notebooks/data_table.ipynb>data table notebook</a>'\n",
              "            + ' to learn more about interactive tables.';\n",
              "          element.innerHTML = '';\n",
              "          dataTable['output_type'] = 'display_data';\n",
              "          await google.colab.output.renderOutput(dataTable, element);\n",
              "          const docLink = document.createElement('div');\n",
              "          docLink.innerHTML = docLinkHtml;\n",
              "          element.appendChild(docLink);\n",
              "        }\n",
              "      </script>\n",
              "    </div>\n",
              "  </div>\n",
              "  "
            ]
          },
          "metadata": {},
          "execution_count": 4
        }
      ]
    },
    {
      "cell_type": "code",
      "source": [
        "marks.value_counts()"
      ],
      "metadata": {
        "colab": {
          "base_uri": "https://localhost:8080/"
        },
        "id": "72IfMDxMC4qX",
        "outputId": "13f93fe9-71ab-4fd0-9395-561ae3f0afad"
      },
      "execution_count": 5,
      "outputs": [
        {
          "output_type": "execute_result",
          "data": {
            "text/plain": [
              "iq   marks  package\n",
              "80   70     14         2\n",
              "90   70     7          1\n",
              "100  80     10         1\n",
              "120  100    14         1\n",
              "dtype: int64"
            ]
          },
          "metadata": {},
          "execution_count": 5
        }
      ]
    },
    {
      "cell_type": "code",
      "source": [
        "ipl = pd.read_csv('/content/ipl-matches.csv')"
      ],
      "metadata": {
        "id": "Uzex8SIQDMKX"
      },
      "execution_count": 6,
      "outputs": []
    },
    {
      "cell_type": "code",
      "source": [
        "# find which player has won most potm -> in finals and qualifiers\n",
        "ipl.columns\n",
        "ipl[~ipl['MatchNumber'].str.isdigit()]['Player_of_Match'].value_counts()           # ~ sign               "
      ],
      "metadata": {
        "colab": {
          "base_uri": "https://localhost:8080/"
        },
        "id": "_FvM5hWqDX0N",
        "outputId": "f2d0446f-bdbf-4725-c58b-8bb02e1b4cf9"
      },
      "execution_count": 14,
      "outputs": [
        {
          "output_type": "execute_result",
          "data": {
            "text/plain": [
              "KA Pollard           3\n",
              "F du Plessis         3\n",
              "SK Raina             3\n",
              "A Kumble             2\n",
              "MK Pandey            2\n",
              "YK Pathan            2\n",
              "M Vijay              2\n",
              "JJ Bumrah            2\n",
              "AB de Villiers       2\n",
              "SR Watson            2\n",
              "HH Pandya            1\n",
              "Harbhajan Singh      1\n",
              "A Nehra              1\n",
              "V Sehwag             1\n",
              "UT Yadav             1\n",
              "MS Bisla             1\n",
              "BJ Hodge             1\n",
              "MEK Hussey           1\n",
              "MS Dhoni             1\n",
              "CH Gayle             1\n",
              "MM Patel             1\n",
              "DE Bollinger         1\n",
              "AC Gilchrist         1\n",
              "RG Sharma            1\n",
              "DA Warner            1\n",
              "MC Henriques         1\n",
              "JC Buttler           1\n",
              "RM Patidar           1\n",
              "DA Miller            1\n",
              "VR Iyer              1\n",
              "SP Narine            1\n",
              "RD Gaikwad           1\n",
              "TA Boult             1\n",
              "MP Stoinis           1\n",
              "KS Williamson        1\n",
              "RR Pant              1\n",
              "SA Yadav             1\n",
              "Rashid Khan          1\n",
              "AD Russell           1\n",
              "KH Pandya            1\n",
              "KV Sharma            1\n",
              "NM Coulter-Nile      1\n",
              "Washington Sundar    1\n",
              "BCJ Cutting          1\n",
              "M Ntini              1\n",
              "Name: Player_of_Match, dtype: int64"
            ]
          },
          "metadata": {},
          "execution_count": 14
        }
      ]
    },
    {
      "cell_type": "code",
      "source": [
        "# Toss decision plot\n",
        "ipl['TossDecision'].value_counts().plot(kind='pie')"
      ],
      "metadata": {
        "colab": {
          "base_uri": "https://localhost:8080/",
          "height": 265
        },
        "id": "skMbQDA-Dzwv",
        "outputId": "55b18d45-09cb-4ac6-c3a3-5a2106aa6677"
      },
      "execution_count": 20,
      "outputs": [
        {
          "output_type": "execute_result",
          "data": {
            "text/plain": [
              "<matplotlib.axes._subplots.AxesSubplot at 0x7ff152778ac0>"
            ]
          },
          "metadata": {},
          "execution_count": 20
        },
        {
          "output_type": "display_data",
          "data": {
            "text/plain": [
              "<Figure size 432x288 with 1 Axes>"
            ],
            "image/png": "[encoded data removed]"
          },
          "metadata": {}
        }
      ]
    },
    {
      "cell_type": "code",
      "source": [
        "# how many matches each team has played\n",
        "(ipl['Team1'].value_counts() + ipl['Team2'].value_counts()).sort_values(ascending=False)"
      ],
      "metadata": {
        "colab": {
          "base_uri": "https://localhost:8080/"
        },
        "id": "N3htxMkVG9Lv",
        "outputId": "24b7ad98-95e3-407d-9452-c2caf012e517"
      },
      "execution_count": 28,
      "outputs": [
        {
          "output_type": "execute_result",
          "data": {
            "text/plain": [
              "Mumbai Indians                 231\n",
              "Royal Challengers Bangalore    226\n",
              "Kolkata Knight Riders          223\n",
              "Chennai Super Kings            208\n",
              "Rajasthan Royals               192\n",
              "Kings XI Punjab                190\n",
              "Delhi Daredevils               161\n",
              "Sunrisers Hyderabad            152\n",
              "Deccan Chargers                 75\n",
              "Delhi Capitals                  63\n",
              "Pune Warriors                   46\n",
              "Gujarat Lions                   30\n",
              "Punjab Kings                    28\n",
              "Gujarat Titans                  16\n",
              "Rising Pune Supergiant          16\n",
              "Lucknow Super Giants            15\n",
              "Kochi Tuskers Kerala            14\n",
              "Rising Pune Supergiants         14\n",
              "dtype: int64"
            ]
          },
          "metadata": {},
          "execution_count": 28
        }
      ]
    },
    {
      "cell_type": "code",
      "source": [
        "# sort_values(series and dataframe) -> ascending -> na_position -> inplace -> multiple cols"
      ],
      "metadata": {
        "id": "phtygdu8HZRL"
      },
      "execution_count": 29,
      "outputs": []
    },
    {
      "cell_type": "code",
      "source": [],
      "metadata": {
        "id": "HwGmObzSJrZr"
      },
      "execution_count": null,
      "outputs": []
    }
  ]
}