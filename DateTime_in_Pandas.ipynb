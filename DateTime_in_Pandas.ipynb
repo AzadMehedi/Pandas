{
  "nbformat": 4,
  "nbformat_minor": 0,
  "metadata": {
    "colab": {
      "provenance": [],
      "authorship_tag": "ABX9TyPrViDhpyc7oxYpCodPp/sS",
      "include_colab_link": true
    },
    "kernelspec": {
      "name": "python3",
      "display_name": "Python 3"
    },
    "language_info": {
      "name": "python"
    }
  },
  "cells": [
    {
      "cell_type": "markdown",
      "metadata": {
        "id": "view-in-github",
        "colab_type": "text"
      },
      "source": [
        "<a href=\"https://colab.research.google.com/github/AzadMehedi/Pandas/blob/main/DateTime_in_Pandas.ipynb\" target=\"_parent\"><img src=\"https://colab.research.google.com/assets/colab-badge.svg\" alt=\"Open In Colab\"/></a>"
      ]
    },
    {
      "cell_type": "code",
      "execution_count": 1,
      "metadata": {
        "id": "eihY3upQasUg"
      },
      "outputs": [],
      "source": [
        "import numpy as np\n",
        "import pandas as pd"
      ]
    },
    {
      "cell_type": "markdown",
      "source": [
        "# Timestamp Object\n",
        "\n",
        "Time stamps reference particular moments in time (e.g., Oct 24th, 2022 at 7:00pm)"
      ],
      "metadata": {
        "id": "bQphpSvIbXHt"
      }
    },
    {
      "cell_type": "markdown",
      "source": [
        "# Creating Timestamp objects"
      ],
      "metadata": {
        "id": "A0TdQeulbXUx"
      }
    },
    {
      "cell_type": "code",
      "source": [
        "# creating timestamp\n",
        "pd.Timestamp('2023/1/5')"
      ],
      "metadata": {
        "colab": {
          "base_uri": "https://localhost:8080/"
        },
        "id": "a75lZtYQbP81",
        "outputId": "09ef5850-fe83-4310-f288-f45944b6f61d"
      },
      "execution_count": 3,
      "outputs": [
        {
          "output_type": "execute_result",
          "data": {
            "text/plain": [
              "Timestamp('2023-01-05 00:00:00')"
            ]
          },
          "metadata": {},
          "execution_count": 3
        }
      ]
    },
    {
      "cell_type": "code",
      "source": [
        "type(pd.Timestamp('2023/1/5'))"
      ],
      "metadata": {
        "colab": {
          "base_uri": "https://localhost:8080/"
        },
        "id": "jYn0Bik0dPEn",
        "outputId": "2bdaaf1c-a720-4497-b41d-512381225226"
      },
      "execution_count": 4,
      "outputs": [
        {
          "output_type": "execute_result",
          "data": {
            "text/plain": [
              "pandas._libs.tslibs.timestamps.Timestamp"
            ]
          },
          "metadata": {},
          "execution_count": 4
        }
      ]
    },
    {
      "cell_type": "code",
      "source": [
        "# variation\n",
        "pd.Timestamp('2023-1-5')"
      ],
      "metadata": {
        "colab": {
          "base_uri": "https://localhost:8080/"
        },
        "id": "x-p4UjVzb2iH",
        "outputId": "e320a33a-5af2-4393-a7ef-30ba9aa5a16c"
      },
      "execution_count": 5,
      "outputs": [
        {
          "output_type": "execute_result",
          "data": {
            "text/plain": [
              "Timestamp('2023-01-05 00:00:00')"
            ]
          },
          "metadata": {},
          "execution_count": 5
        }
      ]
    },
    {
      "cell_type": "code",
      "source": [
        "pd.Timestamp('2023, 1, 5')"
      ],
      "metadata": {
        "colab": {
          "base_uri": "https://localhost:8080/"
        },
        "id": "TC2S8XqVdX_f",
        "outputId": "dcf477c5-afc3-439f-a51d-56ee92496471"
      },
      "execution_count": 7,
      "outputs": [
        {
          "output_type": "execute_result",
          "data": {
            "text/plain": [
              "Timestamp('2023-01-05 00:00:00')"
            ]
          },
          "metadata": {},
          "execution_count": 7
        }
      ]
    },
    {
      "cell_type": "code",
      "source": [
        "# only year\n",
        "pd.Timestamp('2023')"
      ],
      "metadata": {
        "colab": {
          "base_uri": "https://localhost:8080/"
        },
        "id": "tb9XsFVhda4J",
        "outputId": "ce158d21-8dc0-458c-9a35-3e850a9415a0"
      },
      "execution_count": 8,
      "outputs": [
        {
          "output_type": "execute_result",
          "data": {
            "text/plain": [
              "Timestamp('2023-01-01 00:00:00')"
            ]
          },
          "metadata": {},
          "execution_count": 8
        }
      ]
    },
    {
      "cell_type": "code",
      "source": [
        "pd.Timestamp('5th january 2023')"
      ],
      "metadata": {
        "colab": {
          "base_uri": "https://localhost:8080/"
        },
        "id": "noj0qLfAdlI4",
        "outputId": "fa9d4e6d-335a-4122-dd9e-b008db447c33"
      },
      "execution_count": 9,
      "outputs": [
        {
          "output_type": "execute_result",
          "data": {
            "text/plain": [
              "Timestamp('2023-01-05 00:00:00')"
            ]
          },
          "metadata": {},
          "execution_count": 9
        }
      ]
    },
    {
      "cell_type": "code",
      "source": [
        "# providing time also\n",
        "pd.Timestamp('2023/1/5/9:31')"
      ],
      "metadata": {
        "colab": {
          "base_uri": "https://localhost:8080/"
        },
        "id": "gZgXBdAbdqYK",
        "outputId": "980b677e-2782-47a6-c483-4bbb2d4d2ff5"
      },
      "execution_count": 10,
      "outputs": [
        {
          "output_type": "execute_result",
          "data": {
            "text/plain": [
              "Timestamp('2023-01-05 09:31:00')"
            ]
          },
          "metadata": {},
          "execution_count": 10
        }
      ]
    },
    {
      "cell_type": "code",
      "source": [
        "pd.Timestamp('2023, 1, 5, 9:31')"
      ],
      "metadata": {
        "colab": {
          "base_uri": "https://localhost:8080/"
        },
        "id": "P_ghZE2Cd2Qf",
        "outputId": "045baddf-cf47-4f35-e409-eb0e6037cf63"
      },
      "execution_count": 13,
      "outputs": [
        {
          "output_type": "execute_result",
          "data": {
            "text/plain": [
              "Timestamp('2023-01-05 09:31:00')"
            ]
          },
          "metadata": {},
          "execution_count": 13
        }
      ]
    },
    {
      "cell_type": "code",
      "source": [
        "pd.Timestamp('5th january 2023 9:21AM')"
      ],
      "metadata": {
        "colab": {
          "base_uri": "https://localhost:8080/"
        },
        "id": "UVdgWHTWd6uw",
        "outputId": "0fd48b60-1c7d-42c4-b515-2ce39681efb1"
      },
      "execution_count": 17,
      "outputs": [
        {
          "output_type": "execute_result",
          "data": {
            "text/plain": [
              "Timestamp('2023-01-05 09:21:00')"
            ]
          },
          "metadata": {},
          "execution_count": 17
        }
      ]
    },
    {
      "cell_type": "code",
      "source": [
        "# AM to PM\n"
      ],
      "metadata": {
        "id": "AhfishhHeFJb"
      },
      "execution_count": null,
      "outputs": []
    },
    {
      "cell_type": "code",
      "source": [
        "# using datetime.datetime object   (python object)\n",
        "import datetime as dt\n",
        "dt.datetime(2023,1,5,9,21,56)"
      ],
      "metadata": {
        "colab": {
          "base_uri": "https://localhost:8080/"
        },
        "id": "IJw2rjhTemzT",
        "outputId": "db8e0789-5dcf-4a0b-94ac-6edf5930d0be"
      },
      "execution_count": 27,
      "outputs": [
        {
          "output_type": "execute_result",
          "data": {
            "text/plain": [
              "Timestamp('2023-01-05 09:21:56')"
            ]
          },
          "metadata": {},
          "execution_count": 27
        }
      ]
    },
    {
      "cell_type": "code",
      "source": [
        "pd.Timestamp(dt.datetime(2023,1,5,9,21,56))  # can also use timestamp object on datetime"
      ],
      "metadata": {
        "colab": {
          "base_uri": "https://localhost:8080/"
        },
        "id": "6iE9eGIFedPO",
        "outputId": "87a2394d-aa6b-4c84-b4b8-27db32fa2d46"
      },
      "execution_count": 25,
      "outputs": [
        {
          "output_type": "execute_result",
          "data": {
            "text/plain": [
              "Timestamp('2023-01-05 09:21:56')"
            ]
          },
          "metadata": {},
          "execution_count": 25
        }
      ]
    },
    {
      "cell_type": "markdown",
      "source": [
        "Main benifit of using Timestamp is we can fetch any information"
      ],
      "metadata": {
        "id": "osdfZbF-gPxA"
      }
    },
    {
      "cell_type": "code",
      "source": [
        "# fetching attributes\n",
        "import datetime as dt\n",
        "\n",
        "x = pd.Timestamp(dt.datetime(2023,1,5,9,21,56))\n",
        "x"
      ],
      "metadata": {
        "colab": {
          "base_uri": "https://localhost:8080/"
        },
        "id": "KiQMG4bufQf-",
        "outputId": "f0a1960e-9d15-49a8-dec5-d4fb60af7cde"
      },
      "execution_count": 29,
      "outputs": [
        {
          "output_type": "execute_result",
          "data": {
            "text/plain": [
              "Timestamp('2023-01-05 09:21:56')"
            ]
          },
          "metadata": {},
          "execution_count": 29
        }
      ]
    },
    {
      "cell_type": "code",
      "source": [
        "x.year"
      ],
      "metadata": {
        "colab": {
          "base_uri": "https://localhost:8080/"
        },
        "id": "eVqUAWePfq7s",
        "outputId": "5b91234c-f31a-4f20-a58d-b0d4d949fc68"
      },
      "execution_count": 30,
      "outputs": [
        {
          "output_type": "execute_result",
          "data": {
            "text/plain": [
              "2023"
            ]
          },
          "metadata": {},
          "execution_count": 30
        }
      ]
    },
    {
      "cell_type": "code",
      "source": [
        "x.month"
      ],
      "metadata": {
        "colab": {
          "base_uri": "https://localhost:8080/"
        },
        "id": "hUPwBp_kgAVc",
        "outputId": "e9a12bd9-4f30-42b3-df30-9cb68bdd4f91"
      },
      "execution_count": 31,
      "outputs": [
        {
          "output_type": "execute_result",
          "data": {
            "text/plain": [
              "1"
            ]
          },
          "metadata": {},
          "execution_count": 31
        }
      ]
    },
    {
      "cell_type": "code",
      "source": [
        "x.day"
      ],
      "metadata": {
        "colab": {
          "base_uri": "https://localhost:8080/"
        },
        "id": "_U8jzdbSgF1x",
        "outputId": "8f4ce7cd-a4b5-43d3-d72f-530667f651fc"
      },
      "execution_count": 32,
      "outputs": [
        {
          "output_type": "execute_result",
          "data": {
            "text/plain": [
              "5"
            ]
          },
          "metadata": {},
          "execution_count": 32
        }
      ]
    },
    {
      "cell_type": "code",
      "source": [
        "x.hour"
      ],
      "metadata": {
        "colab": {
          "base_uri": "https://localhost:8080/"
        },
        "id": "7sGfyl-dgGzk",
        "outputId": "82cf7b0d-8643-4ff9-b90a-9f8831a6beef"
      },
      "execution_count": 33,
      "outputs": [
        {
          "output_type": "execute_result",
          "data": {
            "text/plain": [
              "9"
            ]
          },
          "metadata": {},
          "execution_count": 33
        }
      ]
    },
    {
      "cell_type": "code",
      "source": [
        "x.minute"
      ],
      "metadata": {
        "colab": {
          "base_uri": "https://localhost:8080/"
        },
        "id": "NUxmd_AvgHjc",
        "outputId": "664a6abc-8880-4144-ceae-9d996f69c2ab"
      },
      "execution_count": 34,
      "outputs": [
        {
          "output_type": "execute_result",
          "data": {
            "text/plain": [
              "21"
            ]
          },
          "metadata": {},
          "execution_count": 34
        }
      ]
    },
    {
      "cell_type": "code",
      "source": [
        "x.second"
      ],
      "metadata": {
        "colab": {
          "base_uri": "https://localhost:8080/"
        },
        "id": "ISywf8wvgIWo",
        "outputId": "b71d47d7-773d-4128-bc79-7eb37892ff65"
      },
      "execution_count": 35,
      "outputs": [
        {
          "output_type": "execute_result",
          "data": {
            "text/plain": [
              "56"
            ]
          },
          "metadata": {},
          "execution_count": 35
        }
      ]
    },
    {
      "cell_type": "markdown",
      "source": [
        "## why separate objects to handle data and time when python already has datetime functionality?"
      ],
      "metadata": {
        "id": "eMr_Dnedgr5u"
      }
    },
    {
      "cell_type": "markdown",
      "source": [
        "- syntax wise datetime is very convenient\n",
        "- But the performance takes a hit while working with huge data. List vs Numpy Array\n",
        "- The weaknesses of Python's datetime format inspired the NumPy team to add a set of native time series data type to NumPy.\n",
        "- The datetime64 dtype encodes dates as 64-bit integers, and thus allows arrays of dates to be represented very compactly."
      ],
      "metadata": {
        "id": "G-oAMo4agou-"
      }
    },
    {
      "cell_type": "code",
      "source": [
        "import numpy as np\n",
        "date = np.array('2023-01-05', dtype=np.datetime64)\n",
        "date "
      ],
      "metadata": {
        "colab": {
          "base_uri": "https://localhost:8080/"
        },
        "id": "5qWQrM8bgpR_",
        "outputId": "8785ddeb-3fe2-4fd0-ffe7-894a6fc4b6e8"
      },
      "execution_count": 36,
      "outputs": [
        {
          "output_type": "execute_result",
          "data": {
            "text/plain": [
              "array('2023-01-05', dtype='datetime64[D]')"
            ]
          },
          "metadata": {},
          "execution_count": 36
        }
      ]
    },
    {
      "cell_type": "code",
      "source": [
        "date + np.arange(12)"
      ],
      "metadata": {
        "colab": {
          "base_uri": "https://localhost:8080/"
        },
        "id": "DKNEHSRDhqLE",
        "outputId": "2ec25526-22f7-45a0-ecc2-f63efa8a0391"
      },
      "execution_count": 38,
      "outputs": [
        {
          "output_type": "execute_result",
          "data": {
            "text/plain": [
              "array(['2023-01-05', '2023-01-06', '2023-01-07', '2023-01-08',\n",
              "       '2023-01-09', '2023-01-10', '2023-01-11', '2023-01-12',\n",
              "       '2023-01-13', '2023-01-14', '2023-01-15', '2023-01-16'],\n",
              "      dtype='datetime64[D]')"
            ]
          },
          "metadata": {},
          "execution_count": 38
        }
      ]
    },
    {
      "cell_type": "markdown",
      "source": [
        "- Because of the uniform type in NumPy datetime64 arrays, this type of operation can be accomplished much more quickly than if we were working directly with Python's datetime objects, especially as arrays get large \n",
        "\n",
        "- Pandas Timestamp object combines the ease-of-use of python datetime with the efficient storage and vectorized interface of numpy.datetime64\n",
        "\n",
        "- From a group of these Timestamp objects, Pandas can construct a DatetimeIndex that can be used to index data in a Series or DataFrame"
      ],
      "metadata": {
        "id": "KKufko0zh18w"
      }
    },
    {
      "cell_type": "markdown",
      "source": [
        "### DatetimeIndex Object\n",
        "\n",
        "A collection of pandas timestamp"
      ],
      "metadata": {
        "id": "wwz65bzQi4ea"
      }
    },
    {
      "cell_type": "markdown",
      "source": [
        "- single date store  -> use timestamp\n",
        "- multiple date store  -> use datetimeindex"
      ],
      "metadata": {
        "id": "Ll3t83GZjCg_"
      }
    },
    {
      "cell_type": "code",
      "source": [
        "# from strings\n",
        "pd.DatetimeIndex(['2023/1/5', '2023/2/6', '2023/3/7'])"
      ],
      "metadata": {
        "colab": {
          "base_uri": "https://localhost:8080/"
        },
        "id": "vhH9f11hhx4j",
        "outputId": "ad237830-97fd-45f9-8444-0343c71bf90b"
      },
      "execution_count": 41,
      "outputs": [
        {
          "output_type": "execute_result",
          "data": {
            "text/plain": [
              "DatetimeIndex(['2023-01-05', '2023-02-06', '2023-03-07'], dtype='datetime64[ns]', freq=None)"
            ]
          },
          "metadata": {},
          "execution_count": 41
        }
      ]
    },
    {
      "cell_type": "code",
      "source": [
        "pd.DatetimeIndex(['2023/1/5', '2023/2/6', '2023/3/7'])[0]"
      ],
      "metadata": {
        "colab": {
          "base_uri": "https://localhost:8080/"
        },
        "id": "ldQmiFNJi3FD",
        "outputId": "70ebd041-b6b0-487a-9596-2e00c9793b99"
      },
      "execution_count": 42,
      "outputs": [
        {
          "output_type": "execute_result",
          "data": {
            "text/plain": [
              "Timestamp('2023-01-05 00:00:00')"
            ]
          },
          "metadata": {},
          "execution_count": 42
        }
      ]
    },
    {
      "cell_type": "code",
      "source": [
        "type(pd.DatetimeIndex(['2023/1/5', '2023/2/6', '2023/3/7']))"
      ],
      "metadata": {
        "colab": {
          "base_uri": "https://localhost:8080/"
        },
        "id": "s4oKf3iGjxrc",
        "outputId": "88083ed1-6786-4ace-da77-3568c6eb27f5"
      },
      "execution_count": 43,
      "outputs": [
        {
          "output_type": "execute_result",
          "data": {
            "text/plain": [
              "pandas.core.indexes.datetimes.DatetimeIndex"
            ]
          },
          "metadata": {},
          "execution_count": 43
        }
      ]
    },
    {
      "cell_type": "code",
      "source": [
        "type(pd.DatetimeIndex(['2023/1/5', '2023/2/6', '2023/3/7'])[0])"
      ],
      "metadata": {
        "colab": {
          "base_uri": "https://localhost:8080/"
        },
        "id": "WwI9ANrVj4Z8",
        "outputId": "ed125a02-1d63-418b-ac4d-8e91388d05de"
      },
      "execution_count": 44,
      "outputs": [
        {
          "output_type": "execute_result",
          "data": {
            "text/plain": [
              "pandas._libs.tslibs.timestamps.Timestamp"
            ]
          },
          "metadata": {},
          "execution_count": 44
        }
      ]
    },
    {
      "cell_type": "code",
      "source": [
        "# using python datetime object\n",
        "pd.DatetimeIndex([dt.datetime(2023,1,5),dt.datetime(2023,1,6),dt.datetime(2023,1,7)])"
      ],
      "metadata": {
        "colab": {
          "base_uri": "https://localhost:8080/"
        },
        "id": "1WEYpOw0j70V",
        "outputId": "96d96f11-b874-40b1-855e-cc15774a58ab"
      },
      "execution_count": 46,
      "outputs": [
        {
          "output_type": "execute_result",
          "data": {
            "text/plain": [
              "DatetimeIndex(['2023-01-05', '2023-01-06', '2023-01-07'], dtype='datetime64[ns]', freq=None)"
            ]
          },
          "metadata": {},
          "execution_count": 46
        }
      ]
    },
    {
      "cell_type": "code",
      "source": [
        "# using pd.timestamps\n",
        "pd.DatetimeIndex([pd.Timestamp(2023,1,5),pd.Timestamp(2023,1,6),pd.Timestamp(2023,1,7)])"
      ],
      "metadata": {
        "colab": {
          "base_uri": "https://localhost:8080/"
        },
        "id": "Y5cwrdJvkaEN",
        "outputId": "8baf9a74-f522-4aa8-bff5-bd58718fea8c"
      },
      "execution_count": 48,
      "outputs": [
        {
          "output_type": "execute_result",
          "data": {
            "text/plain": [
              "DatetimeIndex(['2023-01-05', '2023-01-06', '2023-01-07'], dtype='datetime64[ns]', freq=None)"
            ]
          },
          "metadata": {},
          "execution_count": 48
        }
      ]
    },
    {
      "cell_type": "code",
      "source": [
        "# using datatimeindex as series index\n",
        "dt_index = pd.DatetimeIndex([pd.Timestamp(2023,1,5),pd.Timestamp(2023,1,6),pd.Timestamp(2023,1,7)])\n",
        "pd.Series([1,2,3], index=dt_index)"
      ],
      "metadata": {
        "colab": {
          "base_uri": "https://localhost:8080/"
        },
        "id": "aKGe0HBmk141",
        "outputId": "be3eb116-206d-4bc9-ba78-ea4886092a8e"
      },
      "execution_count": 49,
      "outputs": [
        {
          "output_type": "execute_result",
          "data": {
            "text/plain": [
              "2023-01-05    1\n",
              "2023-01-06    2\n",
              "2023-01-07    3\n",
              "dtype: int64"
            ]
          },
          "metadata": {},
          "execution_count": 49
        }
      ]
    },
    {
      "cell_type": "markdown",
      "source": [
        "# summary:\n",
        "- `Timestamp`(panda's object): a moment in time is Timestamp. can store 6 things: year, month, day, hour, minite, second\n",
        "- `DatetimeIndex`(oython object): bunch of Timestamps. can store multiple Timestamps."
      ],
      "metadata": {
        "id": "hP7d_RlCls9V"
      }
    },
    {
      "cell_type": "markdown",
      "source": [
        "# date_range function"
      ],
      "metadata": {
        "id": "djY08W7Jmw2j"
      }
    },
    {
      "cell_type": "code",
      "source": [
        "# generate daily dates in a given range\n",
        "pd.date_range('2023/1/1', end='2023/1/31', freq='D')"
      ],
      "metadata": {
        "colab": {
          "base_uri": "https://localhost:8080/"
        },
        "id": "xVy9npQUlijL",
        "outputId": "1d4690f5-89cc-464d-f0a8-7b244c33e7b1"
      },
      "execution_count": 54,
      "outputs": [
        {
          "output_type": "execute_result",
          "data": {
            "text/plain": [
              "DatetimeIndex(['2023-01-01', '2023-01-02', '2023-01-03', '2023-01-04',\n",
              "               '2023-01-05', '2023-01-06', '2023-01-07', '2023-01-08',\n",
              "               '2023-01-09', '2023-01-10', '2023-01-11', '2023-01-12',\n",
              "               '2023-01-13', '2023-01-14', '2023-01-15', '2023-01-16',\n",
              "               '2023-01-17', '2023-01-18', '2023-01-19', '2023-01-20',\n",
              "               '2023-01-21', '2023-01-22', '2023-01-23', '2023-01-24',\n",
              "               '2023-01-25', '2023-01-26', '2023-01-27', '2023-01-28',\n",
              "               '2023-01-29', '2023-01-30', '2023-01-31'],\n",
              "              dtype='datetime64[ns]', freq='D')"
            ]
          },
          "metadata": {},
          "execution_count": 54
        }
      ]
    },
    {
      "cell_type": "code",
      "source": [
        "# generate alternate dates in a given range using freq=2D\n",
        "pd.date_range('2023/1/1', end='2023/1/31', freq='2D')"
      ],
      "metadata": {
        "colab": {
          "base_uri": "https://localhost:8080/"
        },
        "id": "hB_8pXk4nCqC",
        "outputId": "1679d8b6-32bb-4303-fa89-f2565cb3c8bb"
      },
      "execution_count": 55,
      "outputs": [
        {
          "output_type": "execute_result",
          "data": {
            "text/plain": [
              "DatetimeIndex(['2023-01-01', '2023-01-03', '2023-01-05', '2023-01-07',\n",
              "               '2023-01-09', '2023-01-11', '2023-01-13', '2023-01-15',\n",
              "               '2023-01-17', '2023-01-19', '2023-01-21', '2023-01-23',\n",
              "               '2023-01-25', '2023-01-27', '2023-01-29', '2023-01-31'],\n",
              "              dtype='datetime64[ns]', freq='2D')"
            ]
          },
          "metadata": {},
          "execution_count": 55
        }
      ]
    },
    {
      "cell_type": "code",
      "source": [
        "pd.date_range('2023/1/1', end='2023/1/31', freq='3D')"
      ],
      "metadata": {
        "colab": {
          "base_uri": "https://localhost:8080/"
        },
        "id": "SeHZG8a3nfNO",
        "outputId": "f7a2acd2-b82e-43eb-a768-b573ed15735a"
      },
      "execution_count": 56,
      "outputs": [
        {
          "output_type": "execute_result",
          "data": {
            "text/plain": [
              "DatetimeIndex(['2023-01-01', '2023-01-04', '2023-01-07', '2023-01-10',\n",
              "               '2023-01-13', '2023-01-16', '2023-01-19', '2023-01-22',\n",
              "               '2023-01-25', '2023-01-28', '2023-01-31'],\n",
              "              dtype='datetime64[ns]', freq='3D')"
            ]
          },
          "metadata": {},
          "execution_count": 56
        }
      ]
    },
    {
      "cell_type": "code",
      "source": [
        "# B -> business days\n",
        "pd.date_range('2023/1/1', end='2023/1/31', freq='B')  # monday - friday"
      ],
      "metadata": {
        "colab": {
          "base_uri": "https://localhost:8080/"
        },
        "id": "_FV3AmAYnlfT",
        "outputId": "b46ef570-0d27-48b6-80cb-22a39052b628"
      },
      "execution_count": 57,
      "outputs": [
        {
          "output_type": "execute_result",
          "data": {
            "text/plain": [
              "DatetimeIndex(['2023-01-02', '2023-01-03', '2023-01-04', '2023-01-05',\n",
              "               '2023-01-06', '2023-01-09', '2023-01-10', '2023-01-11',\n",
              "               '2023-01-12', '2023-01-13', '2023-01-16', '2023-01-17',\n",
              "               '2023-01-18', '2023-01-19', '2023-01-20', '2023-01-23',\n",
              "               '2023-01-24', '2023-01-25', '2023-01-26', '2023-01-27',\n",
              "               '2023-01-30', '2023-01-31'],\n",
              "              dtype='datetime64[ns]', freq='B')"
            ]
          },
          "metadata": {},
          "execution_count": 57
        }
      ]
    },
    {
      "cell_type": "code",
      "source": [
        "# W -> one week per day\n",
        "pd.date_range('2023/1/1', end='2023/1/31', freq='W')  #sunday"
      ],
      "metadata": {
        "colab": {
          "base_uri": "https://localhost:8080/"
        },
        "id": "M0420Q-YnwbT",
        "outputId": "178629fc-149f-4aff-ea6f-a80615514732"
      },
      "execution_count": 58,
      "outputs": [
        {
          "output_type": "execute_result",
          "data": {
            "text/plain": [
              "DatetimeIndex(['2023-01-01', '2023-01-08', '2023-01-15', '2023-01-22',\n",
              "               '2023-01-29'],\n",
              "              dtype='datetime64[ns]', freq='W-SUN')"
            ]
          },
          "metadata": {},
          "execution_count": 58
        }
      ]
    },
    {
      "cell_type": "code",
      "source": [
        "pd.date_range('2023/1/1', end='2023/1/31', freq='W-THU')"
      ],
      "metadata": {
        "colab": {
          "base_uri": "https://localhost:8080/"
        },
        "id": "V-nOUsAZn8fk",
        "outputId": "47a24951-c6b9-478f-ec62-0213c6365e03"
      },
      "execution_count": 60,
      "outputs": [
        {
          "output_type": "execute_result",
          "data": {
            "text/plain": [
              "DatetimeIndex(['2023-01-05', '2023-01-12', '2023-01-19', '2023-01-26'], dtype='datetime64[ns]', freq='W-THU')"
            ]
          },
          "metadata": {},
          "execution_count": 60
        }
      ]
    },
    {
      "cell_type": "code",
      "source": [
        "# H -> Hourly data(factor)\n",
        "pd.date_range('2023/1/1', end='2023/2/28', freq='H')"
      ],
      "metadata": {
        "colab": {
          "base_uri": "https://localhost:8080/"
        },
        "id": "nySUrDRUoGBL",
        "outputId": "bdffcc13-aa3b-43fe-e0a0-89a087a29bb9"
      },
      "execution_count": 61,
      "outputs": [
        {
          "output_type": "execute_result",
          "data": {
            "text/plain": [
              "DatetimeIndex(['2023-01-01 00:00:00', '2023-01-01 01:00:00',\n",
              "               '2023-01-01 02:00:00', '2023-01-01 03:00:00',\n",
              "               '2023-01-01 04:00:00', '2023-01-01 05:00:00',\n",
              "               '2023-01-01 06:00:00', '2023-01-01 07:00:00',\n",
              "               '2023-01-01 08:00:00', '2023-01-01 09:00:00',\n",
              "               ...\n",
              "               '2023-02-27 15:00:00', '2023-02-27 16:00:00',\n",
              "               '2023-02-27 17:00:00', '2023-02-27 18:00:00',\n",
              "               '2023-02-27 19:00:00', '2023-02-27 20:00:00',\n",
              "               '2023-02-27 21:00:00', '2023-02-27 22:00:00',\n",
              "               '2023-02-27 23:00:00', '2023-02-28 00:00:00'],\n",
              "              dtype='datetime64[ns]', length=1393, freq='H')"
            ]
          },
          "metadata": {},
          "execution_count": 61
        }
      ]
    },
    {
      "cell_type": "code",
      "source": [
        "# H -> Hourly data(factor)\n",
        "pd.date_range('2023/1/1', end='2023/2/28', freq='6H')"
      ],
      "metadata": {
        "colab": {
          "base_uri": "https://localhost:8080/"
        },
        "id": "iBfyNZS0obPu",
        "outputId": "0b3c3211-dd29-4725-9453-8f4da8131f3f"
      },
      "execution_count": 62,
      "outputs": [
        {
          "output_type": "execute_result",
          "data": {
            "text/plain": [
              "DatetimeIndex(['2023-01-01 00:00:00', '2023-01-01 06:00:00',\n",
              "               '2023-01-01 12:00:00', '2023-01-01 18:00:00',\n",
              "               '2023-01-02 00:00:00', '2023-01-02 06:00:00',\n",
              "               '2023-01-02 12:00:00', '2023-01-02 18:00:00',\n",
              "               '2023-01-03 00:00:00', '2023-01-03 06:00:00',\n",
              "               ...\n",
              "               '2023-02-25 18:00:00', '2023-02-26 00:00:00',\n",
              "               '2023-02-26 06:00:00', '2023-02-26 12:00:00',\n",
              "               '2023-02-26 18:00:00', '2023-02-27 00:00:00',\n",
              "               '2023-02-27 06:00:00', '2023-02-27 12:00:00',\n",
              "               '2023-02-27 18:00:00', '2023-02-28 00:00:00'],\n",
              "              dtype='datetime64[ns]', length=233, freq='6H')"
            ]
          },
          "metadata": {},
          "execution_count": 62
        }
      ]
    },
    {
      "cell_type": "code",
      "source": [
        "# M -> Month end\n",
        "pd.date_range('2023/1/1', end='2023/2/28', freq='M')"
      ],
      "metadata": {
        "colab": {
          "base_uri": "https://localhost:8080/"
        },
        "id": "cClvuukEoSO_",
        "outputId": "5abc86be-5f57-4ae1-9a54-6d9a877e91f0"
      },
      "execution_count": 64,
      "outputs": [
        {
          "output_type": "execute_result",
          "data": {
            "text/plain": [
              "DatetimeIndex(['2023-01-31', '2023-02-28'], dtype='datetime64[ns]', freq='M')"
            ]
          },
          "metadata": {},
          "execution_count": 64
        }
      ]
    },
    {
      "cell_type": "code",
      "source": [
        "# M -> Month start\n",
        "pd.date_range('2023/1/1', end='2023/2/28', freq='MS')"
      ],
      "metadata": {
        "colab": {
          "base_uri": "https://localhost:8080/"
        },
        "id": "NJ35tLr9oiLX",
        "outputId": "21b934ca-dd99-4563-8750-55479173a8b0"
      },
      "execution_count": 65,
      "outputs": [
        {
          "output_type": "execute_result",
          "data": {
            "text/plain": [
              "DatetimeIndex(['2023-01-01', '2023-02-01'], dtype='datetime64[ns]', freq='MS')"
            ]
          },
          "metadata": {},
          "execution_count": 65
        }
      ]
    },
    {
      "cell_type": "code",
      "source": [
        "# A -> Year end\n",
        "pd.date_range('2023/1/1', end='2030/2/28', freq='A')"
      ],
      "metadata": {
        "colab": {
          "base_uri": "https://localhost:8080/"
        },
        "id": "GyRe9qx8oooa",
        "outputId": "ce501957-abfa-4c1a-a340-5a0d3a340431"
      },
      "execution_count": 67,
      "outputs": [
        {
          "output_type": "execute_result",
          "data": {
            "text/plain": [
              "DatetimeIndex(['2023-12-31', '2024-12-31', '2025-12-31', '2026-12-31',\n",
              "               '2027-12-31', '2028-12-31', '2029-12-31'],\n",
              "              dtype='datetime64[ns]', freq='A-DEC')"
            ]
          },
          "metadata": {},
          "execution_count": 67
        }
      ]
    },
    {
      "cell_type": "code",
      "source": [
        "# A -> Year start\n",
        "pd.date_range(start='2023/1/5',end='2030/2/28',freq='AS')"
      ],
      "metadata": {
        "colab": {
          "base_uri": "https://localhost:8080/"
        },
        "id": "SDPEq-qUoxvR",
        "outputId": "2da14e6b-59ce-4932-ad60-c2af973d0e7c"
      },
      "execution_count": 68,
      "outputs": [
        {
          "output_type": "execute_result",
          "data": {
            "text/plain": [
              "DatetimeIndex(['2024-01-01', '2025-01-01', '2026-01-01', '2027-01-01',\n",
              "               '2028-01-01', '2029-01-01', '2030-01-01'],\n",
              "              dtype='datetime64[ns]', freq='AS-JAN')"
            ]
          },
          "metadata": {},
          "execution_count": 68
        }
      ]
    },
    {
      "cell_type": "code",
      "source": [
        "# using periods(number of results)\n",
        "pd.date_range(start='2023/1/5', periods=25, freq='D')"
      ],
      "metadata": {
        "colab": {
          "base_uri": "https://localhost:8080/"
        },
        "id": "1U8-I_DgpElv",
        "outputId": "7f7d2234-f60e-4a93-f4f0-f808f4b5cfde"
      },
      "execution_count": 70,
      "outputs": [
        {
          "output_type": "execute_result",
          "data": {
            "text/plain": [
              "DatetimeIndex(['2023-01-05', '2023-01-06', '2023-01-07', '2023-01-08',\n",
              "               '2023-01-09', '2023-01-10', '2023-01-11', '2023-01-12',\n",
              "               '2023-01-13', '2023-01-14', '2023-01-15', '2023-01-16',\n",
              "               '2023-01-17', '2023-01-18', '2023-01-19', '2023-01-20',\n",
              "               '2023-01-21', '2023-01-22', '2023-01-23', '2023-01-24',\n",
              "               '2023-01-25', '2023-01-26', '2023-01-27', '2023-01-28',\n",
              "               '2023-01-29'],\n",
              "              dtype='datetime64[ns]', freq='D')"
            ]
          },
          "metadata": {},
          "execution_count": 70
        }
      ]
    },
    {
      "cell_type": "code",
      "source": [
        "# using periods(number of results)-> hourly\n",
        "pd.date_range(start='2023/1/5', periods=25, freq='6H')"
      ],
      "metadata": {
        "colab": {
          "base_uri": "https://localhost:8080/"
        },
        "id": "6n07mlYJpWQh",
        "outputId": "00cace12-f73e-4b86-f515-fb6312a3db62"
      },
      "execution_count": 72,
      "outputs": [
        {
          "output_type": "execute_result",
          "data": {
            "text/plain": [
              "DatetimeIndex(['2023-01-05 00:00:00', '2023-01-05 06:00:00',\n",
              "               '2023-01-05 12:00:00', '2023-01-05 18:00:00',\n",
              "               '2023-01-06 00:00:00', '2023-01-06 06:00:00',\n",
              "               '2023-01-06 12:00:00', '2023-01-06 18:00:00',\n",
              "               '2023-01-07 00:00:00', '2023-01-07 06:00:00',\n",
              "               '2023-01-07 12:00:00', '2023-01-07 18:00:00',\n",
              "               '2023-01-08 00:00:00', '2023-01-08 06:00:00',\n",
              "               '2023-01-08 12:00:00', '2023-01-08 18:00:00',\n",
              "               '2023-01-09 00:00:00', '2023-01-09 06:00:00',\n",
              "               '2023-01-09 12:00:00', '2023-01-09 18:00:00',\n",
              "               '2023-01-10 00:00:00', '2023-01-10 06:00:00',\n",
              "               '2023-01-10 12:00:00', '2023-01-10 18:00:00',\n",
              "               '2023-01-11 00:00:00'],\n",
              "              dtype='datetime64[ns]', freq='6H')"
            ]
          },
          "metadata": {},
          "execution_count": 72
        }
      ]
    },
    {
      "cell_type": "code",
      "source": [
        "# upcoming month of 25th day\n",
        "pd.date_range(start='2023/1/5', periods=25, freq='M')"
      ],
      "metadata": {
        "colab": {
          "base_uri": "https://localhost:8080/"
        },
        "id": "JBscG3s1phdM",
        "outputId": "9ebe8502-cd22-4c0c-ec0c-23f3cc591543"
      },
      "execution_count": 73,
      "outputs": [
        {
          "output_type": "execute_result",
          "data": {
            "text/plain": [
              "DatetimeIndex(['2023-01-31', '2023-02-28', '2023-03-31', '2023-04-30',\n",
              "               '2023-05-31', '2023-06-30', '2023-07-31', '2023-08-31',\n",
              "               '2023-09-30', '2023-10-31', '2023-11-30', '2023-12-31',\n",
              "               '2024-01-31', '2024-02-29', '2024-03-31', '2024-04-30',\n",
              "               '2024-05-31', '2024-06-30', '2024-07-31', '2024-08-31',\n",
              "               '2024-09-30', '2024-10-31', '2024-11-30', '2024-12-31',\n",
              "               '2025-01-31'],\n",
              "              dtype='datetime64[ns]', freq='M')"
            ]
          },
          "metadata": {},
          "execution_count": 73
        }
      ]
    },
    {
      "cell_type": "code",
      "source": [],
      "metadata": {
        "id": "Z701MH3FqCMq"
      },
      "execution_count": null,
      "outputs": []
    },
    {
      "cell_type": "markdown",
      "source": [
        "### to_datetime function\n",
        "\n",
        "converts an existing objects to pandas timestamp/datetimeindex object"
      ],
      "metadata": {
        "id": "9aYdanhnqD3o"
      }
    },
    {
      "cell_type": "code",
      "source": [
        "# simple series example\n",
        "s = pd.Series(['2023/1/1','2022/1/1','2021/1/1'])\n",
        "s"
      ],
      "metadata": {
        "colab": {
          "base_uri": "https://localhost:8080/"
        },
        "id": "dwufZIHuqEZd",
        "outputId": "9e2cea13-0ebe-45f6-ca96-af3306be24eb"
      },
      "execution_count": 76,
      "outputs": [
        {
          "output_type": "execute_result",
          "data": {
            "text/plain": [
              "0    2023/1/1\n",
              "1    2022/1/1\n",
              "2    2021/1/1\n",
              "dtype: object"
            ]
          },
          "metadata": {},
          "execution_count": 76
        }
      ]
    },
    {
      "cell_type": "code",
      "source": [
        "s.str.split('/').str.get(0)"
      ],
      "metadata": {
        "colab": {
          "base_uri": "https://localhost:8080/"
        },
        "id": "-BCjFDIqqnXE",
        "outputId": "f6a32bed-6660-4770-91b6-20188a076f95"
      },
      "execution_count": 78,
      "outputs": [
        {
          "output_type": "execute_result",
          "data": {
            "text/plain": [
              "0    2023\n",
              "1    2022\n",
              "2    2021\n",
              "dtype: object"
            ]
          },
          "metadata": {},
          "execution_count": 78
        }
      ]
    },
    {
      "cell_type": "code",
      "source": [],
      "metadata": {
        "id": "93uQrEKtqxBY"
      },
      "execution_count": null,
      "outputs": []
    }
  ]
}